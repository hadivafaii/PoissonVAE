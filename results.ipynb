{
 "cells": [
  {
   "cell_type": "markdown",
   "id": "68c49500-d331-4529-a189-66955134371a",
   "metadata": {},
   "source": [
    "# Results (tables, figs)"
   ]
  },
  {
   "cell_type": "code",
   "execution_count": 1,
   "id": "721412ee-9fe2-4e48-910d-37a7304ed31d",
   "metadata": {
    "tags": [
     "hide-input"
    ]
   },
   "outputs": [],
   "source": [
    "# HIDE CODE\n",
    "\n",
    "\n",
    "import os, sys\n",
    "sys.path.insert(0, './')\n",
    "from analysis.eval import sparse_score\n",
    "from utils.plotting import *\n",
    "\n",
    "# warnings, tqdm, & style\n",
    "warnings.filterwarnings('ignore', category=DeprecationWarning)\n",
    "warnings.filterwarnings('ignore', category=FutureWarning)\n",
    "%matplotlib inline\n",
    "set_style()"
   ]
  },
  {
   "cell_type": "code",
   "execution_count": 2,
   "id": "d7b94732-ef0f-4cf3-ba3a-241743b56306",
   "metadata": {},
   "outputs": [],
   "source": [
    "device_idx = 0\n",
    "device = f'cuda:{device_idx}'"
   ]
  },
  {
   "cell_type": "code",
   "execution_count": 3,
   "id": "3a7e75c7-c7a7-48d3-83d3-8cd7f2b93ec1",
   "metadata": {},
   "outputs": [],
   "source": [
    "root = 'Dropbox/git/PoissonVAE'  # base directory for the project (update to match your setup)\n",
    "root = add_home(f\"{root}/results\")  # contains processed results, saved as DataFrames\n",
    "\n",
    "from analysis.stats import ttest\n",
    "from analysis.final import sort_fits, analyze_fits, add_nelbo_diff\n",
    "from figures.point import nelbo_point, get_palette, show_palette\n",
    "from figures.table import table_entry_active, table_entry_knn, table_entry_shatter, table_entry_loss\n",
    "from base.utils_model import load_quick"
   ]
  },
  {
   "cell_type": "markdown",
   "id": "157e2c76-78e3-41f7-aff2-dacd588d723d",
   "metadata": {},
   "source": [
    "## Table 2: active neurons"
   ]
  },
  {
   "cell_type": "markdown",
   "id": "27080e65-1705-4559-8e46-00fddd2bd49b",
   "metadata": {},
   "source": [
    "### Load dfs"
   ]
  },
  {
   "cell_type": "code",
   "execution_count": 4,
   "id": "a52cc686-a935-4d2e-84a2-d83fed9342e1",
   "metadata": {},
   "outputs": [
    {
     "data": {
      "text/plain": [
       "(90, 17)"
      ]
     },
     "execution_count": 4,
     "metadata": {},
     "output_type": "execute_result"
    }
   ],
   "source": [
    "df_main = pd.read_pickle(pjoin(root, 'df_main.df'))\n",
    "\n",
    "selected_models = [\n",
    "    'poisson',\n",
    "    'gaussian',\n",
    "    'laplace',\n",
    "]\n",
    "df = df_main.loc[\n",
    "    (df_main['method'] == 'mc') &\n",
    "    (df_main['type'].isin(selected_models))\n",
    "]\n",
    "\n",
    "df.shape"
   ]
  },
  {
   "cell_type": "code",
   "execution_count": 5,
   "id": "fa1124fc-ae5e-46af-9a73-d603df3048af",
   "metadata": {},
   "outputs": [
    {
     "data": {
      "text/html": [
       "<div>\n",
       "<style scoped>\n",
       "    .dataframe tbody tr th:only-of-type {\n",
       "        vertical-align: middle;\n",
       "    }\n",
       "\n",
       "    .dataframe tbody tr th {\n",
       "        vertical-align: top;\n",
       "    }\n",
       "\n",
       "    .dataframe thead tr th {\n",
       "        text-align: left;\n",
       "    }\n",
       "\n",
       "    .dataframe thead tr:last-of-type th {\n",
       "        text-align: right;\n",
       "    }\n",
       "</style>\n",
       "<table border=\"1\" class=\"dataframe\">\n",
       "  <thead>\n",
       "    <tr>\n",
       "      <th>dataset</th>\n",
       "      <th colspan=\"2\" halign=\"left\">CIFAR10-PATCHES</th>\n",
       "      <th colspan=\"2\" halign=\"left\">DOVES</th>\n",
       "      <th colspan=\"2\" halign=\"left\">MNIST</th>\n",
       "    </tr>\n",
       "    <tr>\n",
       "      <th>enc_type</th>\n",
       "      <th>conv</th>\n",
       "      <th>lin</th>\n",
       "      <th>conv</th>\n",
       "      <th>lin</th>\n",
       "      <th>conv</th>\n",
       "      <th>lin</th>\n",
       "    </tr>\n",
       "    <tr>\n",
       "      <th>type</th>\n",
       "      <th></th>\n",
       "      <th></th>\n",
       "      <th></th>\n",
       "      <th></th>\n",
       "      <th></th>\n",
       "      <th></th>\n",
       "    </tr>\n",
       "  </thead>\n",
       "  <tbody>\n",
       "    <tr>\n",
       "      <th>gaussian</th>\n",
       "      <td>0.246094</td>\n",
       "      <td>0.105469</td>\n",
       "      <td>0.246094</td>\n",
       "      <td>0.217578</td>\n",
       "      <td>0.031250</td>\n",
       "      <td>0.027344</td>\n",
       "    </tr>\n",
       "    <tr>\n",
       "      <th>laplace</th>\n",
       "      <td>0.230469</td>\n",
       "      <td>0.192969</td>\n",
       "      <td>0.221875</td>\n",
       "      <td>0.187500</td>\n",
       "      <td>0.033984</td>\n",
       "      <td>0.027344</td>\n",
       "    </tr>\n",
       "    <tr>\n",
       "      <th>poisson</th>\n",
       "      <td>0.928125</td>\n",
       "      <td>0.999219</td>\n",
       "      <td>0.819141</td>\n",
       "      <td>0.983984</td>\n",
       "      <td>0.426172</td>\n",
       "      <td>0.536719</td>\n",
       "    </tr>\n",
       "  </tbody>\n",
       "</table>\n",
       "</div>"
      ],
      "text/plain": [
       "dataset  CIFAR10-PATCHES               DOVES               MNIST          \n",
       "enc_type            conv       lin      conv       lin      conv       lin\n",
       "type                                                                      \n",
       "gaussian        0.246094  0.105469  0.246094  0.217578  0.031250  0.027344\n",
       "laplace         0.230469  0.192969  0.221875  0.187500  0.033984  0.027344\n",
       "poisson         0.928125  0.999219  0.819141  0.983984  0.426172  0.536719"
      ]
     },
     "execution_count": 5,
     "metadata": {},
     "output_type": "execute_result"
    }
   ],
   "source": [
    "df.pivot_table(\n",
    "    values='active',\n",
    "    index='type',\n",
    "    columns=['dataset', 'enc_type'],\n",
    ")"
   ]
  },
  {
   "cell_type": "markdown",
   "id": "41bd1338-c730-4ade-bf59-f84f904b3e41",
   "metadata": {},
   "source": [
    "### t-test"
   ]
  },
  {
   "cell_type": "code",
   "execution_count": 6,
   "id": "a9329f2e-cd3a-4e53-b891-c6e9a20a00f3",
   "metadata": {},
   "outputs": [],
   "source": [
    "df_agg, df_ttest = ttest(\n",
    "    df=df,\n",
    "    value='active',\n",
    "    by=['dataset', 'enc_type', 'type'],\n",
    "    test_conds=[\n",
    "        ('poisson', m) for m in\n",
    "        df['type'].unique()\n",
    "        if m != 'poisson'],\n",
    "    method='fdr_bh',\n",
    "    alpha=0.01,\n",
    ")"
   ]
  },
  {
   "cell_type": "code",
   "execution_count": 7,
   "id": "d69fa56b-4448-46ad-90ff-60e4a36b248b",
   "metadata": {},
   "outputs": [
    {
     "data": {
      "text/html": [
       "<div>\n",
       "<style scoped>\n",
       "    .dataframe tbody tr th:only-of-type {\n",
       "        vertical-align: middle;\n",
       "    }\n",
       "\n",
       "    .dataframe tbody tr th {\n",
       "        vertical-align: top;\n",
       "    }\n",
       "\n",
       "    .dataframe thead th {\n",
       "        text-align: right;\n",
       "    }\n",
       "</style>\n",
       "<table border=\"1\" class=\"dataframe\">\n",
       "  <thead>\n",
       "    <tr style=\"text-align: right;\">\n",
       "      <th></th>\n",
       "      <th>dataset</th>\n",
       "      <th>enc_type</th>\n",
       "      <th>cond1</th>\n",
       "      <th>cond2</th>\n",
       "      <th>t</th>\n",
       "      <th>pvals</th>\n",
       "      <th>pvals_fdr_bh</th>\n",
       "      <th>reject</th>\n",
       "    </tr>\n",
       "  </thead>\n",
       "  <tbody>\n",
       "    <tr>\n",
       "      <th>0</th>\n",
       "      <td>CIFAR10-PATCHES</td>\n",
       "      <td>conv</td>\n",
       "      <td>poisson</td>\n",
       "      <td>gaussian</td>\n",
       "      <td>61.982740</td>\n",
       "      <td>4.058027e-07</td>\n",
       "      <td>4.869632e-07</td>\n",
       "      <td>True</td>\n",
       "    </tr>\n",
       "    <tr>\n",
       "      <th>1</th>\n",
       "      <td>CIFAR10-PATCHES</td>\n",
       "      <td>conv</td>\n",
       "      <td>poisson</td>\n",
       "      <td>laplace</td>\n",
       "      <td>63.402735</td>\n",
       "      <td>3.706802e-07</td>\n",
       "      <td>4.869632e-07</td>\n",
       "      <td>True</td>\n",
       "    </tr>\n",
       "    <tr>\n",
       "      <th>2</th>\n",
       "      <td>CIFAR10-PATCHES</td>\n",
       "      <td>lin</td>\n",
       "      <td>poisson</td>\n",
       "      <td>gaussian</td>\n",
       "      <td>407.662481</td>\n",
       "      <td>2.172355e-10</td>\n",
       "      <td>1.303413e-09</td>\n",
       "      <td>True</td>\n",
       "    </tr>\n",
       "    <tr>\n",
       "      <th>3</th>\n",
       "      <td>CIFAR10-PATCHES</td>\n",
       "      <td>lin</td>\n",
       "      <td>poisson</td>\n",
       "      <td>laplace</td>\n",
       "      <td>842.624472</td>\n",
       "      <td>1.190175e-11</td>\n",
       "      <td>1.428210e-10</td>\n",
       "      <td>True</td>\n",
       "    </tr>\n",
       "    <tr>\n",
       "      <th>4</th>\n",
       "      <td>DOVES</td>\n",
       "      <td>conv</td>\n",
       "      <td>poisson</td>\n",
       "      <td>gaussian</td>\n",
       "      <td>58.147482</td>\n",
       "      <td>5.238076e-07</td>\n",
       "      <td>5.714265e-07</td>\n",
       "      <td>True</td>\n",
       "    </tr>\n",
       "    <tr>\n",
       "      <th>5</th>\n",
       "      <td>DOVES</td>\n",
       "      <td>conv</td>\n",
       "      <td>poisson</td>\n",
       "      <td>laplace</td>\n",
       "      <td>56.552108</td>\n",
       "      <td>5.853981e-07</td>\n",
       "      <td>5.853981e-07</td>\n",
       "      <td>True</td>\n",
       "    </tr>\n",
       "    <tr>\n",
       "      <th>6</th>\n",
       "      <td>DOVES</td>\n",
       "      <td>lin</td>\n",
       "      <td>poisson</td>\n",
       "      <td>gaussian</td>\n",
       "      <td>255.430643</td>\n",
       "      <td>1.409337e-09</td>\n",
       "      <td>2.818674e-09</td>\n",
       "      <td>True</td>\n",
       "    </tr>\n",
       "    <tr>\n",
       "      <th>7</th>\n",
       "      <td>DOVES</td>\n",
       "      <td>lin</td>\n",
       "      <td>poisson</td>\n",
       "      <td>laplace</td>\n",
       "      <td>300.634149</td>\n",
       "      <td>7.344563e-10</td>\n",
       "      <td>2.818674e-09</td>\n",
       "      <td>True</td>\n",
       "    </tr>\n",
       "    <tr>\n",
       "      <th>8</th>\n",
       "      <td>MNIST</td>\n",
       "      <td>conv</td>\n",
       "      <td>poisson</td>\n",
       "      <td>gaussian</td>\n",
       "      <td>141.568316</td>\n",
       "      <td>1.493284e-08</td>\n",
       "      <td>2.559916e-08</td>\n",
       "      <td>True</td>\n",
       "    </tr>\n",
       "    <tr>\n",
       "      <th>9</th>\n",
       "      <td>MNIST</td>\n",
       "      <td>conv</td>\n",
       "      <td>poisson</td>\n",
       "      <td>laplace</td>\n",
       "      <td>134.165143</td>\n",
       "      <td>1.851107e-08</td>\n",
       "      <td>2.776661e-08</td>\n",
       "      <td>True</td>\n",
       "    </tr>\n",
       "    <tr>\n",
       "      <th>10</th>\n",
       "      <td>MNIST</td>\n",
       "      <td>lin</td>\n",
       "      <td>poisson</td>\n",
       "      <td>gaussian</td>\n",
       "      <td>255.735440</td>\n",
       "      <td>1.402631e-09</td>\n",
       "      <td>2.818674e-09</td>\n",
       "      <td>True</td>\n",
       "    </tr>\n",
       "    <tr>\n",
       "      <th>11</th>\n",
       "      <td>MNIST</td>\n",
       "      <td>lin</td>\n",
       "      <td>poisson</td>\n",
       "      <td>laplace</td>\n",
       "      <td>255.735440</td>\n",
       "      <td>1.402631e-09</td>\n",
       "      <td>2.818674e-09</td>\n",
       "      <td>True</td>\n",
       "    </tr>\n",
       "  </tbody>\n",
       "</table>\n",
       "</div>"
      ],
      "text/plain": [
       "            dataset enc_type    cond1     cond2           t         pvals  \\\n",
       "0   CIFAR10-PATCHES     conv  poisson  gaussian   61.982740  4.058027e-07   \n",
       "1   CIFAR10-PATCHES     conv  poisson   laplace   63.402735  3.706802e-07   \n",
       "2   CIFAR10-PATCHES      lin  poisson  gaussian  407.662481  2.172355e-10   \n",
       "3   CIFAR10-PATCHES      lin  poisson   laplace  842.624472  1.190175e-11   \n",
       "4             DOVES     conv  poisson  gaussian   58.147482  5.238076e-07   \n",
       "5             DOVES     conv  poisson   laplace   56.552108  5.853981e-07   \n",
       "6             DOVES      lin  poisson  gaussian  255.430643  1.409337e-09   \n",
       "7             DOVES      lin  poisson   laplace  300.634149  7.344563e-10   \n",
       "8             MNIST     conv  poisson  gaussian  141.568316  1.493284e-08   \n",
       "9             MNIST     conv  poisson   laplace  134.165143  1.851107e-08   \n",
       "10            MNIST      lin  poisson  gaussian  255.735440  1.402631e-09   \n",
       "11            MNIST      lin  poisson   laplace  255.735440  1.402631e-09   \n",
       "\n",
       "    pvals_fdr_bh  reject  \n",
       "0   4.869632e-07    True  \n",
       "1   4.869632e-07    True  \n",
       "2   1.303413e-09    True  \n",
       "3   1.428210e-10    True  \n",
       "4   5.714265e-07    True  \n",
       "5   5.853981e-07    True  \n",
       "6   2.818674e-09    True  \n",
       "7   2.818674e-09    True  \n",
       "8   2.559916e-08    True  \n",
       "9   2.776661e-08    True  \n",
       "10  2.818674e-09    True  \n",
       "11  2.818674e-09    True  "
      ]
     },
     "execution_count": 7,
     "metadata": {},
     "output_type": "execute_result"
    }
   ],
   "source": [
    "df_ttest"
   ]
  },
  {
   "cell_type": "code",
   "execution_count": 8,
   "id": "6bbead64-5e02-4d18-89f5-6c0831761889",
   "metadata": {},
   "outputs": [
    {
     "data": {
      "text/html": [
       "<div>\n",
       "<style scoped>\n",
       "    .dataframe tbody tr th:only-of-type {\n",
       "        vertical-align: middle;\n",
       "    }\n",
       "\n",
       "    .dataframe tbody tr th {\n",
       "        vertical-align: top;\n",
       "    }\n",
       "\n",
       "    .dataframe thead tr th {\n",
       "        text-align: left;\n",
       "    }\n",
       "\n",
       "    .dataframe thead tr:last-of-type th {\n",
       "        text-align: right;\n",
       "    }\n",
       "</style>\n",
       "<table border=\"1\" class=\"dataframe\">\n",
       "  <thead>\n",
       "    <tr>\n",
       "      <th>dataset</th>\n",
       "      <th colspan=\"2\" halign=\"left\">CIFAR10-PATCHES</th>\n",
       "      <th colspan=\"2\" halign=\"left\">DOVES</th>\n",
       "      <th colspan=\"2\" halign=\"left\">MNIST</th>\n",
       "    </tr>\n",
       "    <tr>\n",
       "      <th>enc_type</th>\n",
       "      <th>conv</th>\n",
       "      <th>lin</th>\n",
       "      <th>conv</th>\n",
       "      <th>lin</th>\n",
       "      <th>conv</th>\n",
       "      <th>lin</th>\n",
       "    </tr>\n",
       "    <tr>\n",
       "      <th>cond2</th>\n",
       "      <th></th>\n",
       "      <th></th>\n",
       "      <th></th>\n",
       "      <th></th>\n",
       "      <th></th>\n",
       "      <th></th>\n",
       "    </tr>\n",
       "  </thead>\n",
       "  <tbody>\n",
       "    <tr>\n",
       "      <th>gaussian</th>\n",
       "      <td>True</td>\n",
       "      <td>True</td>\n",
       "      <td>True</td>\n",
       "      <td>True</td>\n",
       "      <td>True</td>\n",
       "      <td>True</td>\n",
       "    </tr>\n",
       "    <tr>\n",
       "      <th>laplace</th>\n",
       "      <td>True</td>\n",
       "      <td>True</td>\n",
       "      <td>True</td>\n",
       "      <td>True</td>\n",
       "      <td>True</td>\n",
       "      <td>True</td>\n",
       "    </tr>\n",
       "  </tbody>\n",
       "</table>\n",
       "</div>"
      ],
      "text/plain": [
       "dataset  CIFAR10-PATCHES       DOVES       MNIST      \n",
       "enc_type            conv   lin  conv   lin  conv   lin\n",
       "cond2                                                 \n",
       "gaussian            True  True  True  True  True  True\n",
       "laplace             True  True  True  True  True  True"
      ]
     },
     "execution_count": 8,
     "metadata": {},
     "output_type": "execute_result"
    }
   ],
   "source": [
    "df_ttest.pivot(index='cond2', columns=['dataset', 'enc_type'], values='reject')"
   ]
  },
  {
   "cell_type": "markdown",
   "id": "6ad2af89-ce29-490a-87d4-7254d69c399a",
   "metadata": {},
   "source": [
    "### Confidence intervals (99%)"
   ]
  },
  {
   "cell_type": "code",
   "execution_count": 10,
   "id": "bb3cb496-2bce-438f-a0c0-74328b711acc",
   "metadata": {},
   "outputs": [
    {
     "data": {
      "text/html": [
       "<pre style=\"white-space:pre;overflow-x:auto;line-height:normal;font-family:Menlo,'DejaVu Sans Mono',consolas,'Courier New',monospace\">——— dataset: DOVES ———\n",
       "\n",
       "</pre>\n"
      ],
      "text/plain": [
       "——— dataset: DOVES ———\n",
       "\n"
      ]
     },
     "metadata": {},
     "output_type": "display_data"
    },
    {
     "data": {
      "text/html": [
       "<pre style=\"white-space:pre;overflow-x:auto;line-height:normal;font-family:Menlo,'DejaVu Sans Mono',consolas,'Courier New',monospace\">\\begin<span style=\"font-weight: bold\">{</span>tabularx<span style=\"font-weight: bold\">}{</span>34mm<span style=\"font-weight: bold\">}{</span>CC<span style=\"font-weight: bold\">}</span>\n",
       "    \\entry<span style=\"font-weight: bold\">{</span><span style=\"color: #008080; text-decoration-color: #008080; font-weight: bold\">0.984</span><span style=\"font-weight: bold\">}{</span>.<span style=\"color: #008080; text-decoration-color: #008080; font-weight: bold\">011</span><span style=\"font-weight: bold\">}</span> &amp; \\entry<span style=\"font-weight: bold\">{</span><span style=\"color: #008080; text-decoration-color: #008080; font-weight: bold\">0.819</span><span style=\"font-weight: bold\">}{</span>.<span style=\"color: #008080; text-decoration-color: #008080; font-weight: bold\">041</span><span style=\"font-weight: bold\">}</span> \\\\ \n",
       "    \\entry<span style=\"font-weight: bold\">{</span><span style=\"color: #008080; text-decoration-color: #008080; font-weight: bold\">0.188</span><span style=\"font-weight: bold\">}{</span>.<span style=\"color: #008080; text-decoration-color: #008080; font-weight: bold\">000</span><span style=\"font-weight: bold\">}</span> &amp; \\entry<span style=\"font-weight: bold\">{</span><span style=\"color: #008080; text-decoration-color: #008080; font-weight: bold\">0.222</span><span style=\"font-weight: bold\">}{</span>.<span style=\"color: #008080; text-decoration-color: #008080; font-weight: bold\">003</span><span style=\"font-weight: bold\">}</span> \\\\ \n",
       "    \\entry<span style=\"font-weight: bold\">{</span><span style=\"color: #008080; text-decoration-color: #008080; font-weight: bold\">0.218</span><span style=\"font-weight: bold\">}{</span>.<span style=\"color: #008080; text-decoration-color: #008080; font-weight: bold\">003</span><span style=\"font-weight: bold\">}</span> &amp; \\entry<span style=\"font-weight: bold\">{</span><span style=\"color: #008080; text-decoration-color: #008080; font-weight: bold\">0.246</span><span style=\"font-weight: bold\">}{</span>.<span style=\"color: #008080; text-decoration-color: #008080; font-weight: bold\">000</span><span style=\"font-weight: bold\">}</span>\n",
       "\\end<span style=\"font-weight: bold\">{</span>tabularx<span style=\"font-weight: bold\">}</span>\n",
       "</pre>\n"
      ],
      "text/plain": [
       "\\begin\u001b[1m{\u001b[0mtabularx\u001b[1m}\u001b[0m\u001b[1m{\u001b[0m34mm\u001b[1m}\u001b[0m\u001b[1m{\u001b[0mCC\u001b[1m}\u001b[0m\n",
       "    \\entry\u001b[1m{\u001b[0m\u001b[1;36m0.984\u001b[0m\u001b[1m}\u001b[0m\u001b[1m{\u001b[0m.\u001b[1;36m011\u001b[0m\u001b[1m}\u001b[0m & \\entry\u001b[1m{\u001b[0m\u001b[1;36m0.819\u001b[0m\u001b[1m}\u001b[0m\u001b[1m{\u001b[0m.\u001b[1;36m041\u001b[0m\u001b[1m}\u001b[0m \\\\ \n",
       "    \\entry\u001b[1m{\u001b[0m\u001b[1;36m0.188\u001b[0m\u001b[1m}\u001b[0m\u001b[1m{\u001b[0m.\u001b[1;36m000\u001b[0m\u001b[1m}\u001b[0m & \\entry\u001b[1m{\u001b[0m\u001b[1;36m0.222\u001b[0m\u001b[1m}\u001b[0m\u001b[1m{\u001b[0m.\u001b[1;36m003\u001b[0m\u001b[1m}\u001b[0m \\\\ \n",
       "    \\entry\u001b[1m{\u001b[0m\u001b[1;36m0.218\u001b[0m\u001b[1m}\u001b[0m\u001b[1m{\u001b[0m.\u001b[1;36m003\u001b[0m\u001b[1m}\u001b[0m & \\entry\u001b[1m{\u001b[0m\u001b[1;36m0.246\u001b[0m\u001b[1m}\u001b[0m\u001b[1m{\u001b[0m.\u001b[1;36m000\u001b[0m\u001b[1m}\u001b[0m\n",
       "\\end\u001b[1m{\u001b[0mtabularx\u001b[1m}\u001b[0m\n"
      ]
     },
     "metadata": {},
     "output_type": "display_data"
    },
    {
     "data": {
      "text/html": [
       "<pre style=\"white-space:pre;overflow-x:auto;line-height:normal;font-family:Menlo,'DejaVu Sans Mono',consolas,'Courier New',monospace\">\n",
       "\n",
       "\n",
       "\n",
       "</pre>\n"
      ],
      "text/plain": [
       "\n",
       "\n",
       "\n",
       "\n"
      ]
     },
     "metadata": {},
     "output_type": "display_data"
    },
    {
     "data": {
      "text/html": [
       "<pre style=\"white-space:pre;overflow-x:auto;line-height:normal;font-family:Menlo,'DejaVu Sans Mono',consolas,'Courier New',monospace\">——— dataset: CIFAR10-PATCHES ———\n",
       "\n",
       "</pre>\n"
      ],
      "text/plain": [
       "——— dataset: CIFAR10-PATCHES ———\n",
       "\n"
      ]
     },
     "metadata": {},
     "output_type": "display_data"
    },
    {
     "data": {
      "text/html": [
       "<pre style=\"white-space:pre;overflow-x:auto;line-height:normal;font-family:Menlo,'DejaVu Sans Mono',consolas,'Courier New',monospace\">\\begin<span style=\"font-weight: bold\">{</span>tabularx<span style=\"font-weight: bold\">}{</span>34mm<span style=\"font-weight: bold\">}{</span>CC<span style=\"font-weight: bold\">}</span>\n",
       "    \\entry<span style=\"font-weight: bold\">{</span><span style=\"color: #008080; text-decoration-color: #008080; font-weight: bold\">0.999</span><span style=\"font-weight: bold\">}{</span>.<span style=\"color: #008080; text-decoration-color: #008080; font-weight: bold\">002</span><span style=\"font-weight: bold\">}</span> &amp; \\entry<span style=\"font-weight: bold\">{</span><span style=\"color: #008080; text-decoration-color: #008080; font-weight: bold\">0.928</span><span style=\"font-weight: bold\">}{</span>.<span style=\"color: #008080; text-decoration-color: #008080; font-weight: bold\">045</span><span style=\"font-weight: bold\">}</span> \\\\ \n",
       "    \\entry<span style=\"font-weight: bold\">{</span><span style=\"color: #008080; text-decoration-color: #008080; font-weight: bold\">0.193</span><span style=\"font-weight: bold\">}{</span>.<span style=\"color: #008080; text-decoration-color: #008080; font-weight: bold\">003</span><span style=\"font-weight: bold\">}</span> &amp; \\entry<span style=\"font-weight: bold\">{</span><span style=\"color: #008080; text-decoration-color: #008080; font-weight: bold\">0.230</span><span style=\"font-weight: bold\">}{</span>.<span style=\"color: #008080; text-decoration-color: #008080; font-weight: bold\">000</span><span style=\"font-weight: bold\">}</span> \\\\ \n",
       "    \\entry<span style=\"font-weight: bold\">{</span><span style=\"color: #008080; text-decoration-color: #008080; font-weight: bold\">0.105</span><span style=\"font-weight: bold\">}{</span>.<span style=\"color: #008080; text-decoration-color: #008080; font-weight: bold\">008</span><span style=\"font-weight: bold\">}</span> &amp; \\entry<span style=\"font-weight: bold\">{</span><span style=\"color: #008080; text-decoration-color: #008080; font-weight: bold\">0.246</span><span style=\"font-weight: bold\">}{</span>.<span style=\"color: #008080; text-decoration-color: #008080; font-weight: bold\">000</span><span style=\"font-weight: bold\">}</span>\n",
       "\\end<span style=\"font-weight: bold\">{</span>tabularx<span style=\"font-weight: bold\">}</span>\n",
       "</pre>\n"
      ],
      "text/plain": [
       "\\begin\u001b[1m{\u001b[0mtabularx\u001b[1m}\u001b[0m\u001b[1m{\u001b[0m34mm\u001b[1m}\u001b[0m\u001b[1m{\u001b[0mCC\u001b[1m}\u001b[0m\n",
       "    \\entry\u001b[1m{\u001b[0m\u001b[1;36m0.999\u001b[0m\u001b[1m}\u001b[0m\u001b[1m{\u001b[0m.\u001b[1;36m002\u001b[0m\u001b[1m}\u001b[0m & \\entry\u001b[1m{\u001b[0m\u001b[1;36m0.928\u001b[0m\u001b[1m}\u001b[0m\u001b[1m{\u001b[0m.\u001b[1;36m045\u001b[0m\u001b[1m}\u001b[0m \\\\ \n",
       "    \\entry\u001b[1m{\u001b[0m\u001b[1;36m0.193\u001b[0m\u001b[1m}\u001b[0m\u001b[1m{\u001b[0m.\u001b[1;36m003\u001b[0m\u001b[1m}\u001b[0m & \\entry\u001b[1m{\u001b[0m\u001b[1;36m0.230\u001b[0m\u001b[1m}\u001b[0m\u001b[1m{\u001b[0m.\u001b[1;36m000\u001b[0m\u001b[1m}\u001b[0m \\\\ \n",
       "    \\entry\u001b[1m{\u001b[0m\u001b[1;36m0.105\u001b[0m\u001b[1m}\u001b[0m\u001b[1m{\u001b[0m.\u001b[1;36m008\u001b[0m\u001b[1m}\u001b[0m & \\entry\u001b[1m{\u001b[0m\u001b[1;36m0.246\u001b[0m\u001b[1m}\u001b[0m\u001b[1m{\u001b[0m.\u001b[1;36m000\u001b[0m\u001b[1m}\u001b[0m\n",
       "\\end\u001b[1m{\u001b[0mtabularx\u001b[1m}\u001b[0m\n"
      ]
     },
     "metadata": {},
     "output_type": "display_data"
    },
    {
     "data": {
      "text/html": [
       "<pre style=\"white-space:pre;overflow-x:auto;line-height:normal;font-family:Menlo,'DejaVu Sans Mono',consolas,'Courier New',monospace\">\n",
       "\n",
       "\n",
       "\n",
       "</pre>\n"
      ],
      "text/plain": [
       "\n",
       "\n",
       "\n",
       "\n"
      ]
     },
     "metadata": {},
     "output_type": "display_data"
    },
    {
     "data": {
      "text/html": [
       "<pre style=\"white-space:pre;overflow-x:auto;line-height:normal;font-family:Menlo,'DejaVu Sans Mono',consolas,'Courier New',monospace\">——— dataset: MNIST ———\n",
       "\n",
       "</pre>\n"
      ],
      "text/plain": [
       "——— dataset: MNIST ———\n",
       "\n"
      ]
     },
     "metadata": {},
     "output_type": "display_data"
    },
    {
     "data": {
      "text/html": [
       "<pre style=\"white-space:pre;overflow-x:auto;line-height:normal;font-family:Menlo,'DejaVu Sans Mono',consolas,'Courier New',monospace\">\\begin<span style=\"font-weight: bold\">{</span>tabularx<span style=\"font-weight: bold\">}{</span>34mm<span style=\"font-weight: bold\">}{</span>CC<span style=\"font-weight: bold\">}</span>\n",
       "    \\entry<span style=\"font-weight: bold\">{</span><span style=\"color: #008080; text-decoration-color: #008080; font-weight: bold\">0.537</span><span style=\"font-weight: bold\">}{</span>.<span style=\"color: #008080; text-decoration-color: #008080; font-weight: bold\">008</span><span style=\"font-weight: bold\">}</span> &amp; \\entry<span style=\"font-weight: bold\">{</span><span style=\"color: #008080; text-decoration-color: #008080; font-weight: bold\">0.426</span><span style=\"font-weight: bold\">}{</span>.<span style=\"color: #008080; text-decoration-color: #008080; font-weight: bold\">011</span><span style=\"font-weight: bold\">}</span> \\\\ \n",
       "    \\entry<span style=\"font-weight: bold\">{</span><span style=\"color: #008080; text-decoration-color: #008080; font-weight: bold\">0.027</span><span style=\"font-weight: bold\">}{</span>.<span style=\"color: #008080; text-decoration-color: #008080; font-weight: bold\">000</span><span style=\"font-weight: bold\">}</span> &amp; \\entry<span style=\"font-weight: bold\">{</span><span style=\"color: #008080; text-decoration-color: #008080; font-weight: bold\">0.034</span><span style=\"font-weight: bold\">}{</span>.<span style=\"color: #008080; text-decoration-color: #008080; font-weight: bold\">002</span><span style=\"font-weight: bold\">}</span> \\\\ \n",
       "    \\entry<span style=\"font-weight: bold\">{</span><span style=\"color: #008080; text-decoration-color: #008080; font-weight: bold\">0.027</span><span style=\"font-weight: bold\">}{</span>.<span style=\"color: #008080; text-decoration-color: #008080; font-weight: bold\">000</span><span style=\"font-weight: bold\">}</span> &amp; \\entry<span style=\"font-weight: bold\">{</span><span style=\"color: #008080; text-decoration-color: #008080; font-weight: bold\">0.031</span><span style=\"font-weight: bold\">}{</span>.<span style=\"color: #008080; text-decoration-color: #008080; font-weight: bold\">000</span><span style=\"font-weight: bold\">}</span>\n",
       "\\end<span style=\"font-weight: bold\">{</span>tabularx<span style=\"font-weight: bold\">}</span>\n",
       "</pre>\n"
      ],
      "text/plain": [
       "\\begin\u001b[1m{\u001b[0mtabularx\u001b[1m}\u001b[0m\u001b[1m{\u001b[0m34mm\u001b[1m}\u001b[0m\u001b[1m{\u001b[0mCC\u001b[1m}\u001b[0m\n",
       "    \\entry\u001b[1m{\u001b[0m\u001b[1;36m0.537\u001b[0m\u001b[1m}\u001b[0m\u001b[1m{\u001b[0m.\u001b[1;36m008\u001b[0m\u001b[1m}\u001b[0m & \\entry\u001b[1m{\u001b[0m\u001b[1;36m0.426\u001b[0m\u001b[1m}\u001b[0m\u001b[1m{\u001b[0m.\u001b[1;36m011\u001b[0m\u001b[1m}\u001b[0m \\\\ \n",
       "    \\entry\u001b[1m{\u001b[0m\u001b[1;36m0.027\u001b[0m\u001b[1m}\u001b[0m\u001b[1m{\u001b[0m.\u001b[1;36m000\u001b[0m\u001b[1m}\u001b[0m & \\entry\u001b[1m{\u001b[0m\u001b[1;36m0.034\u001b[0m\u001b[1m}\u001b[0m\u001b[1m{\u001b[0m.\u001b[1;36m002\u001b[0m\u001b[1m}\u001b[0m \\\\ \n",
       "    \\entry\u001b[1m{\u001b[0m\u001b[1;36m0.027\u001b[0m\u001b[1m}\u001b[0m\u001b[1m{\u001b[0m.\u001b[1;36m000\u001b[0m\u001b[1m}\u001b[0m & \\entry\u001b[1m{\u001b[0m\u001b[1;36m0.031\u001b[0m\u001b[1m}\u001b[0m\u001b[1m{\u001b[0m.\u001b[1;36m000\u001b[0m\u001b[1m}\u001b[0m\n",
       "\\end\u001b[1m{\u001b[0mtabularx\u001b[1m}\u001b[0m\n"
      ]
     },
     "metadata": {},
     "output_type": "display_data"
    },
    {
     "data": {
      "text/html": [
       "<pre style=\"white-space:pre;overflow-x:auto;line-height:normal;font-family:Menlo,'DejaVu Sans Mono',consolas,'Courier New',monospace\">\n",
       "\n",
       "\n",
       "\n",
       "</pre>\n"
      ],
      "text/plain": [
       "\n",
       "\n",
       "\n",
       "\n"
      ]
     },
     "metadata": {},
     "output_type": "display_data"
    },
    {
     "name": "stdout",
     "output_type": "stream",
     "text": [
      "CPU times: user 2.18 s, sys: 390 ms, total: 2.57 s\n",
      "Wall time: 2.56 s\n"
     ]
    }
   ],
   "source": [
    "%%time\n",
    "\n",
    "for ds in ['DOVES', 'CIFAR10-PATCHES', 'MNIST']:\n",
    "    table = table_entry_active(ds, df_agg, fmt='0.3f')\n",
    "    print(f\"——— dataset: {ds} ———\\n\")\n",
    "    print(table)\n",
    "    print('\\n\\n\\n')"
   ]
  },
  {
   "cell_type": "markdown",
   "id": "9f65ca6e-62ff-431e-a28f-aa937cf35ed6",
   "metadata": {},
   "source": [
    "## Tables 3 & 5: geometry of representations"
   ]
  },
  {
   "cell_type": "markdown",
   "id": "ba507188-8fec-4a00-8e22-41e00561afe2",
   "metadata": {},
   "source": [
    "### Load dfs"
   ]
  },
  {
   "cell_type": "code",
   "execution_count": 11,
   "id": "7cfdd705-c03e-4519-a19b-b8ea2c932ff4",
   "metadata": {},
   "outputs": [],
   "source": [
    "df_knn = pd.read_pickle(pjoin(root, 'df_knn.df'))\n",
    "df_shatter = pd.read_pickle(pjoin(root, 'df_shatter.df'))"
   ]
  },
  {
   "cell_type": "markdown",
   "id": "59d1fdf6-de36-4426-88f1-8ca60da86d80",
   "metadata": {},
   "source": [
    "### Shattering dim"
   ]
  },
  {
   "cell_type": "markdown",
   "id": "4c54eeaf-58c2-4e4e-90f5-73ae8c889201",
   "metadata": {},
   "source": [
    "#### t-test"
   ]
  },
  {
   "cell_type": "code",
   "execution_count": 12,
   "id": "499004d7-98f7-495e-a8f4-d4620308155f",
   "metadata": {},
   "outputs": [],
   "source": [
    "selected_models = [\n",
    "    'poisson', 'categorical', 'laplace',\n",
    "    'gaussian', 'gaussian-relu', 'gaussian-exp',\n",
    "]\n",
    "df_selected = df_shatter.loc[df_shatter['n_dims'].isin([10, 50, 100])].copy()\n",
    "df_selected = df_selected.loc[df_selected['type'].isin(selected_models)]"
   ]
  },
  {
   "cell_type": "code",
   "execution_count": 13,
   "id": "62856f08-4a68-459a-9b48-e4e06211fd40",
   "metadata": {},
   "outputs": [],
   "source": [
    "df_agg, df_ttest = ttest(\n",
    "    value='accuracy',\n",
    "    df=df_selected,\n",
    "    by=['n_dims', 'type'],\n",
    "    test_conds=[\n",
    "        ('poisson', m) for m in\n",
    "        df_selected['type'].unique()\n",
    "        if m != 'poisson'],\n",
    "    method='fdr_bh',\n",
    "    alpha=0.01,\n",
    ")"
   ]
  },
  {
   "cell_type": "code",
   "execution_count": 14,
   "id": "68af8949-5b40-46a5-8093-37549224e914",
   "metadata": {},
   "outputs": [
    {
     "data": {
      "text/html": [
       "<div>\n",
       "<style scoped>\n",
       "    .dataframe tbody tr th:only-of-type {\n",
       "        vertical-align: middle;\n",
       "    }\n",
       "\n",
       "    .dataframe tbody tr th {\n",
       "        vertical-align: top;\n",
       "    }\n",
       "\n",
       "    .dataframe thead th {\n",
       "        text-align: right;\n",
       "    }\n",
       "</style>\n",
       "<table border=\"1\" class=\"dataframe\">\n",
       "  <thead>\n",
       "    <tr style=\"text-align: right;\">\n",
       "      <th></th>\n",
       "      <th>n_dims</th>\n",
       "      <th>cond1</th>\n",
       "      <th>cond2</th>\n",
       "      <th>t</th>\n",
       "      <th>pvals</th>\n",
       "      <th>pvals_fdr_bh</th>\n",
       "      <th>reject</th>\n",
       "    </tr>\n",
       "  </thead>\n",
       "  <tbody>\n",
       "    <tr>\n",
       "      <th>0</th>\n",
       "      <td>10</td>\n",
       "      <td>poisson</td>\n",
       "      <td>categorical</td>\n",
       "      <td>0.662967</td>\n",
       "      <td>5.074730e-01</td>\n",
       "      <td>5.074730e-01</td>\n",
       "      <td>False</td>\n",
       "    </tr>\n",
       "    <tr>\n",
       "      <th>1</th>\n",
       "      <td>10</td>\n",
       "      <td>poisson</td>\n",
       "      <td>gaussian</td>\n",
       "      <td>16.687499</td>\n",
       "      <td>1.236669e-56</td>\n",
       "      <td>1.426926e-56</td>\n",
       "      <td>True</td>\n",
       "    </tr>\n",
       "    <tr>\n",
       "      <th>2</th>\n",
       "      <td>10</td>\n",
       "      <td>poisson</td>\n",
       "      <td>gaussian-exp</td>\n",
       "      <td>28.113196</td>\n",
       "      <td>2.300337e-135</td>\n",
       "      <td>3.136824e-135</td>\n",
       "      <td>True</td>\n",
       "    </tr>\n",
       "    <tr>\n",
       "      <th>3</th>\n",
       "      <td>10</td>\n",
       "      <td>poisson</td>\n",
       "      <td>gaussian-relu</td>\n",
       "      <td>15.893258</td>\n",
       "      <td>5.624889e-52</td>\n",
       "      <td>6.026667e-52</td>\n",
       "      <td>True</td>\n",
       "    </tr>\n",
       "    <tr>\n",
       "      <th>4</th>\n",
       "      <td>10</td>\n",
       "      <td>poisson</td>\n",
       "      <td>laplace</td>\n",
       "      <td>19.559841</td>\n",
       "      <td>1.331953e-74</td>\n",
       "      <td>1.664942e-74</td>\n",
       "      <td>True</td>\n",
       "    </tr>\n",
       "    <tr>\n",
       "      <th>5</th>\n",
       "      <td>50</td>\n",
       "      <td>poisson</td>\n",
       "      <td>categorical</td>\n",
       "      <td>42.717303</td>\n",
       "      <td>3.587684e-247</td>\n",
       "      <td>5.381527e-247</td>\n",
       "      <td>True</td>\n",
       "    </tr>\n",
       "    <tr>\n",
       "      <th>6</th>\n",
       "      <td>50</td>\n",
       "      <td>poisson</td>\n",
       "      <td>gaussian</td>\n",
       "      <td>119.982773</td>\n",
       "      <td>0.000000e+00</td>\n",
       "      <td>0.000000e+00</td>\n",
       "      <td>True</td>\n",
       "    </tr>\n",
       "    <tr>\n",
       "      <th>7</th>\n",
       "      <td>50</td>\n",
       "      <td>poisson</td>\n",
       "      <td>gaussian-exp</td>\n",
       "      <td>111.222322</td>\n",
       "      <td>0.000000e+00</td>\n",
       "      <td>0.000000e+00</td>\n",
       "      <td>True</td>\n",
       "    </tr>\n",
       "    <tr>\n",
       "      <th>8</th>\n",
       "      <td>50</td>\n",
       "      <td>poisson</td>\n",
       "      <td>gaussian-relu</td>\n",
       "      <td>109.848941</td>\n",
       "      <td>0.000000e+00</td>\n",
       "      <td>0.000000e+00</td>\n",
       "      <td>True</td>\n",
       "    </tr>\n",
       "    <tr>\n",
       "      <th>9</th>\n",
       "      <td>50</td>\n",
       "      <td>poisson</td>\n",
       "      <td>laplace</td>\n",
       "      <td>100.845083</td>\n",
       "      <td>0.000000e+00</td>\n",
       "      <td>0.000000e+00</td>\n",
       "      <td>True</td>\n",
       "    </tr>\n",
       "    <tr>\n",
       "      <th>10</th>\n",
       "      <td>100</td>\n",
       "      <td>poisson</td>\n",
       "      <td>categorical</td>\n",
       "      <td>75.215771</td>\n",
       "      <td>0.000000e+00</td>\n",
       "      <td>0.000000e+00</td>\n",
       "      <td>True</td>\n",
       "    </tr>\n",
       "    <tr>\n",
       "      <th>11</th>\n",
       "      <td>100</td>\n",
       "      <td>poisson</td>\n",
       "      <td>gaussian</td>\n",
       "      <td>131.982949</td>\n",
       "      <td>0.000000e+00</td>\n",
       "      <td>0.000000e+00</td>\n",
       "      <td>True</td>\n",
       "    </tr>\n",
       "    <tr>\n",
       "      <th>12</th>\n",
       "      <td>100</td>\n",
       "      <td>poisson</td>\n",
       "      <td>gaussian-exp</td>\n",
       "      <td>98.247341</td>\n",
       "      <td>0.000000e+00</td>\n",
       "      <td>0.000000e+00</td>\n",
       "      <td>True</td>\n",
       "    </tr>\n",
       "    <tr>\n",
       "      <th>13</th>\n",
       "      <td>100</td>\n",
       "      <td>poisson</td>\n",
       "      <td>gaussian-relu</td>\n",
       "      <td>91.062743</td>\n",
       "      <td>0.000000e+00</td>\n",
       "      <td>0.000000e+00</td>\n",
       "      <td>True</td>\n",
       "    </tr>\n",
       "    <tr>\n",
       "      <th>14</th>\n",
       "      <td>100</td>\n",
       "      <td>poisson</td>\n",
       "      <td>laplace</td>\n",
       "      <td>121.874400</td>\n",
       "      <td>0.000000e+00</td>\n",
       "      <td>0.000000e+00</td>\n",
       "      <td>True</td>\n",
       "    </tr>\n",
       "  </tbody>\n",
       "</table>\n",
       "</div>"
      ],
      "text/plain": [
       "    n_dims    cond1          cond2           t          pvals   pvals_fdr_bh  \\\n",
       "0       10  poisson    categorical    0.662967   5.074730e-01   5.074730e-01   \n",
       "1       10  poisson       gaussian   16.687499   1.236669e-56   1.426926e-56   \n",
       "2       10  poisson   gaussian-exp   28.113196  2.300337e-135  3.136824e-135   \n",
       "3       10  poisson  gaussian-relu   15.893258   5.624889e-52   6.026667e-52   \n",
       "4       10  poisson        laplace   19.559841   1.331953e-74   1.664942e-74   \n",
       "5       50  poisson    categorical   42.717303  3.587684e-247  5.381527e-247   \n",
       "6       50  poisson       gaussian  119.982773   0.000000e+00   0.000000e+00   \n",
       "7       50  poisson   gaussian-exp  111.222322   0.000000e+00   0.000000e+00   \n",
       "8       50  poisson  gaussian-relu  109.848941   0.000000e+00   0.000000e+00   \n",
       "9       50  poisson        laplace  100.845083   0.000000e+00   0.000000e+00   \n",
       "10     100  poisson    categorical   75.215771   0.000000e+00   0.000000e+00   \n",
       "11     100  poisson       gaussian  131.982949   0.000000e+00   0.000000e+00   \n",
       "12     100  poisson   gaussian-exp   98.247341   0.000000e+00   0.000000e+00   \n",
       "13     100  poisson  gaussian-relu   91.062743   0.000000e+00   0.000000e+00   \n",
       "14     100  poisson        laplace  121.874400   0.000000e+00   0.000000e+00   \n",
       "\n",
       "    reject  \n",
       "0    False  \n",
       "1     True  \n",
       "2     True  \n",
       "3     True  \n",
       "4     True  \n",
       "5     True  \n",
       "6     True  \n",
       "7     True  \n",
       "8     True  \n",
       "9     True  \n",
       "10    True  \n",
       "11    True  \n",
       "12    True  \n",
       "13    True  \n",
       "14    True  "
      ]
     },
     "execution_count": 14,
     "metadata": {},
     "output_type": "execute_result"
    }
   ],
   "source": [
    "df_ttest"
   ]
  },
  {
   "cell_type": "code",
   "execution_count": 15,
   "id": "5cecf486-8e17-4614-b6d5-0c63e6f9b544",
   "metadata": {},
   "outputs": [
    {
     "data": {
      "text/html": [
       "<div>\n",
       "<style scoped>\n",
       "    .dataframe tbody tr th:only-of-type {\n",
       "        vertical-align: middle;\n",
       "    }\n",
       "\n",
       "    .dataframe tbody tr th {\n",
       "        vertical-align: top;\n",
       "    }\n",
       "\n",
       "    .dataframe thead th {\n",
       "        text-align: right;\n",
       "    }\n",
       "</style>\n",
       "<table border=\"1\" class=\"dataframe\">\n",
       "  <thead>\n",
       "    <tr style=\"text-align: right;\">\n",
       "      <th>n_dims</th>\n",
       "      <th>10</th>\n",
       "      <th>50</th>\n",
       "      <th>100</th>\n",
       "    </tr>\n",
       "    <tr>\n",
       "      <th>cond2</th>\n",
       "      <th></th>\n",
       "      <th></th>\n",
       "      <th></th>\n",
       "    </tr>\n",
       "  </thead>\n",
       "  <tbody>\n",
       "    <tr>\n",
       "      <th>categorical</th>\n",
       "      <td>False</td>\n",
       "      <td>True</td>\n",
       "      <td>True</td>\n",
       "    </tr>\n",
       "    <tr>\n",
       "      <th>gaussian</th>\n",
       "      <td>True</td>\n",
       "      <td>True</td>\n",
       "      <td>True</td>\n",
       "    </tr>\n",
       "    <tr>\n",
       "      <th>gaussian-exp</th>\n",
       "      <td>True</td>\n",
       "      <td>True</td>\n",
       "      <td>True</td>\n",
       "    </tr>\n",
       "    <tr>\n",
       "      <th>gaussian-relu</th>\n",
       "      <td>True</td>\n",
       "      <td>True</td>\n",
       "      <td>True</td>\n",
       "    </tr>\n",
       "    <tr>\n",
       "      <th>laplace</th>\n",
       "      <td>True</td>\n",
       "      <td>True</td>\n",
       "      <td>True</td>\n",
       "    </tr>\n",
       "  </tbody>\n",
       "</table>\n",
       "</div>"
      ],
      "text/plain": [
       "n_dims           10    50    100\n",
       "cond2                           \n",
       "categorical    False  True  True\n",
       "gaussian        True  True  True\n",
       "gaussian-exp    True  True  True\n",
       "gaussian-relu   True  True  True\n",
       "laplace         True  True  True"
      ]
     },
     "execution_count": 15,
     "metadata": {},
     "output_type": "execute_result"
    }
   ],
   "source": [
    "df_ttest.pivot(index='cond2', columns='n_dims', values='reject')"
   ]
  },
  {
   "cell_type": "markdown",
   "id": "97685fdb-85b7-4fc7-a92f-cc8422d324bf",
   "metadata": {},
   "source": [
    "#### Confidence intervals (99%)"
   ]
  },
  {
   "cell_type": "code",
   "execution_count": 16,
   "id": "0ae4a38c-8a80-4669-98c7-d5ba455443cc",
   "metadata": {},
   "outputs": [
    {
     "data": {
      "text/html": [
       "<pre style=\"white-space:pre;overflow-x:auto;line-height:normal;font-family:Menlo,'DejaVu Sans Mono',consolas,'Courier New',monospace\">——— dim: <span style=\"color: #008080; text-decoration-color: #008080; font-weight: bold\">10</span> ———\n",
       "\n",
       "</pre>\n"
      ],
      "text/plain": [
       "——— dim: \u001b[1;36m10\u001b[0m ———\n",
       "\n"
      ]
     },
     "metadata": {},
     "output_type": "display_data"
    },
    {
     "data": {
      "text/html": [
       "<pre style=\"white-space:pre;overflow-x:auto;line-height:normal;font-family:Menlo,'DejaVu Sans Mono',consolas,'Courier New',monospace\">\\begin<span style=\"font-weight: bold\">{</span>tabular<span style=\"font-weight: bold\">}{</span>c<span style=\"font-weight: bold\">}</span>\n",
       "    \\entry<span style=\"font-weight: bold\">{</span><span style=\"color: #008080; text-decoration-color: #008080; font-weight: bold\">0.797</span><span style=\"font-weight: bold\">}{</span>.<span style=\"color: #008080; text-decoration-color: #008080; font-weight: bold\">010</span><span style=\"font-weight: bold\">}</span> \\\\ \n",
       "    \\entry<span style=\"font-weight: bold\">{</span><span style=\"color: #008080; text-decoration-color: #008080; font-weight: bold\">0.795</span><span style=\"font-weight: bold\">}{</span>.<span style=\"color: #008080; text-decoration-color: #008080; font-weight: bold\">007</span><span style=\"font-weight: bold\">}</span> \\\\ \n",
       "    \\entry<span style=\"font-weight: bold\">{</span><span style=\"color: #008080; text-decoration-color: #008080; font-weight: bold\">0.751</span><span style=\"font-weight: bold\">}{</span>.<span style=\"color: #008080; text-decoration-color: #008080; font-weight: bold\">009</span><span style=\"font-weight: bold\">}</span> \\\\ \n",
       "    \\entry<span style=\"font-weight: bold\">{</span><span style=\"color: #008080; text-decoration-color: #008080; font-weight: bold\">0.758</span><span style=\"font-weight: bold\">}{</span>.<span style=\"color: #008080; text-decoration-color: #008080; font-weight: bold\">008</span><span style=\"font-weight: bold\">}</span> \\\\ \n",
       "    \\entry<span style=\"font-weight: bold\">{</span><span style=\"color: #008080; text-decoration-color: #008080; font-weight: bold\">0.762</span><span style=\"font-weight: bold\">}{</span>.<span style=\"color: #008080; text-decoration-color: #008080; font-weight: bold\">008</span><span style=\"font-weight: bold\">}</span> \\\\ \n",
       "    \\entry<span style=\"font-weight: bold\">{</span><span style=\"color: #008080; text-decoration-color: #008080; font-weight: bold\">0.737</span><span style=\"font-weight: bold\">}{</span>.<span style=\"color: #008080; text-decoration-color: #008080; font-weight: bold\">009</span><span style=\"font-weight: bold\">}</span>\n",
       "\\end<span style=\"font-weight: bold\">{</span>tabular<span style=\"font-weight: bold\">}</span>\n",
       "</pre>\n"
      ],
      "text/plain": [
       "\\begin\u001b[1m{\u001b[0mtabular\u001b[1m}\u001b[0m\u001b[1m{\u001b[0mc\u001b[1m}\u001b[0m\n",
       "    \\entry\u001b[1m{\u001b[0m\u001b[1;36m0.797\u001b[0m\u001b[1m}\u001b[0m\u001b[1m{\u001b[0m.\u001b[1;36m010\u001b[0m\u001b[1m}\u001b[0m \\\\ \n",
       "    \\entry\u001b[1m{\u001b[0m\u001b[1;36m0.795\u001b[0m\u001b[1m}\u001b[0m\u001b[1m{\u001b[0m.\u001b[1;36m007\u001b[0m\u001b[1m}\u001b[0m \\\\ \n",
       "    \\entry\u001b[1m{\u001b[0m\u001b[1;36m0.751\u001b[0m\u001b[1m}\u001b[0m\u001b[1m{\u001b[0m.\u001b[1;36m009\u001b[0m\u001b[1m}\u001b[0m \\\\ \n",
       "    \\entry\u001b[1m{\u001b[0m\u001b[1;36m0.758\u001b[0m\u001b[1m}\u001b[0m\u001b[1m{\u001b[0m.\u001b[1;36m008\u001b[0m\u001b[1m}\u001b[0m \\\\ \n",
       "    \\entry\u001b[1m{\u001b[0m\u001b[1;36m0.762\u001b[0m\u001b[1m}\u001b[0m\u001b[1m{\u001b[0m.\u001b[1;36m008\u001b[0m\u001b[1m}\u001b[0m \\\\ \n",
       "    \\entry\u001b[1m{\u001b[0m\u001b[1;36m0.737\u001b[0m\u001b[1m}\u001b[0m\u001b[1m{\u001b[0m.\u001b[1;36m009\u001b[0m\u001b[1m}\u001b[0m\n",
       "\\end\u001b[1m{\u001b[0mtabular\u001b[1m}\u001b[0m\n"
      ]
     },
     "metadata": {},
     "output_type": "display_data"
    },
    {
     "data": {
      "text/html": [
       "<pre style=\"white-space:pre;overflow-x:auto;line-height:normal;font-family:Menlo,'DejaVu Sans Mono',consolas,'Courier New',monospace\">\n",
       "\n",
       "\n",
       "\n",
       "</pre>\n"
      ],
      "text/plain": [
       "\n",
       "\n",
       "\n",
       "\n"
      ]
     },
     "metadata": {},
     "output_type": "display_data"
    },
    {
     "data": {
      "text/html": [
       "<pre style=\"white-space:pre;overflow-x:auto;line-height:normal;font-family:Menlo,'DejaVu Sans Mono',consolas,'Courier New',monospace\">——— dim: <span style=\"color: #008080; text-decoration-color: #008080; font-weight: bold\">50</span> ———\n",
       "\n",
       "</pre>\n"
      ],
      "text/plain": [
       "——— dim: \u001b[1;36m50\u001b[0m ———\n",
       "\n"
      ]
     },
     "metadata": {},
     "output_type": "display_data"
    },
    {
     "data": {
      "text/html": [
       "<pre style=\"white-space:pre;overflow-x:auto;line-height:normal;font-family:Menlo,'DejaVu Sans Mono',consolas,'Courier New',monospace\">\\begin<span style=\"font-weight: bold\">{</span>tabular<span style=\"font-weight: bold\">}{</span>c<span style=\"font-weight: bold\">}</span>\n",
       "    \\entry<span style=\"font-weight: bold\">{</span><span style=\"color: #008080; text-decoration-color: #008080; font-weight: bold\">0.935</span><span style=\"font-weight: bold\">}{</span>.<span style=\"color: #008080; text-decoration-color: #008080; font-weight: bold\">004</span><span style=\"font-weight: bold\">}</span> \\\\ \n",
       "    \\entry<span style=\"font-weight: bold\">{</span><span style=\"color: #008080; text-decoration-color: #008080; font-weight: bold\">0.899</span><span style=\"font-weight: bold\">}{</span>.<span style=\"color: #008080; text-decoration-color: #008080; font-weight: bold\">004</span><span style=\"font-weight: bold\">}</span> \\\\ \n",
       "    \\entry<span style=\"font-weight: bold\">{</span><span style=\"color: #008080; text-decoration-color: #008080; font-weight: bold\">0.770</span><span style=\"font-weight: bold\">}{</span>.<span style=\"color: #008080; text-decoration-color: #008080; font-weight: bold\">008</span><span style=\"font-weight: bold\">}</span> \\\\ \n",
       "    \\entry<span style=\"font-weight: bold\">{</span><span style=\"color: #008080; text-decoration-color: #008080; font-weight: bold\">0.743</span><span style=\"font-weight: bold\">}{</span>.<span style=\"color: #008080; text-decoration-color: #008080; font-weight: bold\">008</span><span style=\"font-weight: bold\">}</span> \\\\ \n",
       "    \\entry<span style=\"font-weight: bold\">{</span><span style=\"color: #008080; text-decoration-color: #008080; font-weight: bold\">0.786</span><span style=\"font-weight: bold\">}{</span>.<span style=\"color: #008080; text-decoration-color: #008080; font-weight: bold\">007</span><span style=\"font-weight: bold\">}</span> \\\\ \n",
       "    \\entry<span style=\"font-weight: bold\">{</span><span style=\"color: #008080; text-decoration-color: #008080; font-weight: bold\">0.762</span><span style=\"font-weight: bold\">}{</span>.<span style=\"color: #008080; text-decoration-color: #008080; font-weight: bold\">008</span><span style=\"font-weight: bold\">}</span>\n",
       "\\end<span style=\"font-weight: bold\">{</span>tabular<span style=\"font-weight: bold\">}</span>\n",
       "</pre>\n"
      ],
      "text/plain": [
       "\\begin\u001b[1m{\u001b[0mtabular\u001b[1m}\u001b[0m\u001b[1m{\u001b[0mc\u001b[1m}\u001b[0m\n",
       "    \\entry\u001b[1m{\u001b[0m\u001b[1;36m0.935\u001b[0m\u001b[1m}\u001b[0m\u001b[1m{\u001b[0m.\u001b[1;36m004\u001b[0m\u001b[1m}\u001b[0m \\\\ \n",
       "    \\entry\u001b[1m{\u001b[0m\u001b[1;36m0.899\u001b[0m\u001b[1m}\u001b[0m\u001b[1m{\u001b[0m.\u001b[1;36m004\u001b[0m\u001b[1m}\u001b[0m \\\\ \n",
       "    \\entry\u001b[1m{\u001b[0m\u001b[1;36m0.770\u001b[0m\u001b[1m}\u001b[0m\u001b[1m{\u001b[0m.\u001b[1;36m008\u001b[0m\u001b[1m}\u001b[0m \\\\ \n",
       "    \\entry\u001b[1m{\u001b[0m\u001b[1;36m0.743\u001b[0m\u001b[1m}\u001b[0m\u001b[1m{\u001b[0m.\u001b[1;36m008\u001b[0m\u001b[1m}\u001b[0m \\\\ \n",
       "    \\entry\u001b[1m{\u001b[0m\u001b[1;36m0.786\u001b[0m\u001b[1m}\u001b[0m\u001b[1m{\u001b[0m.\u001b[1;36m007\u001b[0m\u001b[1m}\u001b[0m \\\\ \n",
       "    \\entry\u001b[1m{\u001b[0m\u001b[1;36m0.762\u001b[0m\u001b[1m}\u001b[0m\u001b[1m{\u001b[0m.\u001b[1;36m008\u001b[0m\u001b[1m}\u001b[0m\n",
       "\\end\u001b[1m{\u001b[0mtabular\u001b[1m}\u001b[0m\n"
      ]
     },
     "metadata": {},
     "output_type": "display_data"
    },
    {
     "data": {
      "text/html": [
       "<pre style=\"white-space:pre;overflow-x:auto;line-height:normal;font-family:Menlo,'DejaVu Sans Mono',consolas,'Courier New',monospace\">\n",
       "\n",
       "\n",
       "\n",
       "</pre>\n"
      ],
      "text/plain": [
       "\n",
       "\n",
       "\n",
       "\n"
      ]
     },
     "metadata": {},
     "output_type": "display_data"
    },
    {
     "data": {
      "text/html": [
       "<pre style=\"white-space:pre;overflow-x:auto;line-height:normal;font-family:Menlo,'DejaVu Sans Mono',consolas,'Courier New',monospace\">——— dim: <span style=\"color: #008080; text-decoration-color: #008080; font-weight: bold\">100</span> ———\n",
       "\n",
       "</pre>\n"
      ],
      "text/plain": [
       "——— dim: \u001b[1;36m100\u001b[0m ———\n",
       "\n"
      ]
     },
     "metadata": {},
     "output_type": "display_data"
    },
    {
     "data": {
      "text/html": [
       "<pre style=\"white-space:pre;overflow-x:auto;line-height:normal;font-family:Menlo,'DejaVu Sans Mono',consolas,'Courier New',monospace\">\\begin<span style=\"font-weight: bold\">{</span>tabular<span style=\"font-weight: bold\">}{</span>c<span style=\"font-weight: bold\">}</span>\n",
       "    \\entry<span style=\"font-weight: bold\">{</span><span style=\"color: #008080; text-decoration-color: #008080; font-weight: bold\">0.949</span><span style=\"font-weight: bold\">}{</span>.<span style=\"color: #008080; text-decoration-color: #008080; font-weight: bold\">003</span><span style=\"font-weight: bold\">}</span> \\\\ \n",
       "    \\entry<span style=\"font-weight: bold\">{</span><span style=\"color: #008080; text-decoration-color: #008080; font-weight: bold\">0.884</span><span style=\"font-weight: bold\">}{</span>.<span style=\"color: #008080; text-decoration-color: #008080; font-weight: bold\">005</span><span style=\"font-weight: bold\">}</span> \\\\ \n",
       "    \\entry<span style=\"font-weight: bold\">{</span><span style=\"color: #008080; text-decoration-color: #008080; font-weight: bold\">0.767</span><span style=\"font-weight: bold\">}{</span>.<span style=\"color: #008080; text-decoration-color: #008080; font-weight: bold\">008</span><span style=\"font-weight: bold\">}</span> \\\\ \n",
       "    \\entry<span style=\"font-weight: bold\">{</span><span style=\"color: #008080; text-decoration-color: #008080; font-weight: bold\">0.763</span><span style=\"font-weight: bold\">}{</span>.<span style=\"color: #008080; text-decoration-color: #008080; font-weight: bold\">007</span><span style=\"font-weight: bold\">}</span> \\\\ \n",
       "    \\entry<span style=\"font-weight: bold\">{</span><span style=\"color: #008080; text-decoration-color: #008080; font-weight: bold\">0.818</span><span style=\"font-weight: bold\">}{</span>.<span style=\"color: #008080; text-decoration-color: #008080; font-weight: bold\">007</span><span style=\"font-weight: bold\">}</span> \\\\ \n",
       "    \\entry<span style=\"font-weight: bold\">{</span><span style=\"color: #008080; text-decoration-color: #008080; font-weight: bold\">0.793</span><span style=\"font-weight: bold\">}{</span>.<span style=\"color: #008080; text-decoration-color: #008080; font-weight: bold\">007</span><span style=\"font-weight: bold\">}</span>\n",
       "\\end<span style=\"font-weight: bold\">{</span>tabular<span style=\"font-weight: bold\">}</span>\n",
       "</pre>\n"
      ],
      "text/plain": [
       "\\begin\u001b[1m{\u001b[0mtabular\u001b[1m}\u001b[0m\u001b[1m{\u001b[0mc\u001b[1m}\u001b[0m\n",
       "    \\entry\u001b[1m{\u001b[0m\u001b[1;36m0.949\u001b[0m\u001b[1m}\u001b[0m\u001b[1m{\u001b[0m.\u001b[1;36m003\u001b[0m\u001b[1m}\u001b[0m \\\\ \n",
       "    \\entry\u001b[1m{\u001b[0m\u001b[1;36m0.884\u001b[0m\u001b[1m}\u001b[0m\u001b[1m{\u001b[0m.\u001b[1;36m005\u001b[0m\u001b[1m}\u001b[0m \\\\ \n",
       "    \\entry\u001b[1m{\u001b[0m\u001b[1;36m0.767\u001b[0m\u001b[1m}\u001b[0m\u001b[1m{\u001b[0m.\u001b[1;36m008\u001b[0m\u001b[1m}\u001b[0m \\\\ \n",
       "    \\entry\u001b[1m{\u001b[0m\u001b[1;36m0.763\u001b[0m\u001b[1m}\u001b[0m\u001b[1m{\u001b[0m.\u001b[1;36m007\u001b[0m\u001b[1m}\u001b[0m \\\\ \n",
       "    \\entry\u001b[1m{\u001b[0m\u001b[1;36m0.818\u001b[0m\u001b[1m}\u001b[0m\u001b[1m{\u001b[0m.\u001b[1;36m007\u001b[0m\u001b[1m}\u001b[0m \\\\ \n",
       "    \\entry\u001b[1m{\u001b[0m\u001b[1;36m0.793\u001b[0m\u001b[1m}\u001b[0m\u001b[1m{\u001b[0m.\u001b[1;36m007\u001b[0m\u001b[1m}\u001b[0m\n",
       "\\end\u001b[1m{\u001b[0mtabular\u001b[1m}\u001b[0m\n"
      ]
     },
     "metadata": {},
     "output_type": "display_data"
    },
    {
     "data": {
      "text/html": [
       "<pre style=\"white-space:pre;overflow-x:auto;line-height:normal;font-family:Menlo,'DejaVu Sans Mono',consolas,'Courier New',monospace\">\n",
       "\n",
       "\n",
       "\n",
       "</pre>\n"
      ],
      "text/plain": [
       "\n",
       "\n",
       "\n",
       "\n"
      ]
     },
     "metadata": {},
     "output_type": "display_data"
    },
    {
     "name": "stdout",
     "output_type": "stream",
     "text": [
      "CPU times: user 40.1 s, sys: 9.98 s, total: 50 s\n",
      "Wall time: 50 s\n"
     ]
    }
   ],
   "source": [
    "%%time\n",
    "\n",
    "for dim in [10, 50, 100]:\n",
    "    table = table_entry_shatter(dim, df_agg, n_resamples=int(1e5), fmt='0.3f')\n",
    "    print(f\"——— dim: {dim} ———\\n\")\n",
    "    print(table)\n",
    "    print('\\n\\n\\n')"
   ]
  },
  {
   "cell_type": "markdown",
   "id": "57c9edaf-f438-4dd8-88ea-9a33ef85e6cc",
   "metadata": {},
   "source": [
    "### KNN"
   ]
  },
  {
   "cell_type": "markdown",
   "id": "ddf89f69-3737-49ab-8e51-0d650c54bca2",
   "metadata": {},
   "source": [
    "#### t-test"
   ]
  },
  {
   "cell_type": "code",
   "execution_count": 17,
   "id": "a3d1f65c-c581-4021-993d-b065ddfd7d4c",
   "metadata": {},
   "outputs": [],
   "source": [
    "selected_models = [\n",
    "    'poisson', 'categorical', 'laplace',\n",
    "    'gaussian', 'gaussian-relu', 'gaussian-exp',\n",
    "]\n",
    "df_selected = df_knn.loc[df_knn['n_dims'].isin([10, 50, 100])].copy()\n",
    "df_selected = df_selected.loc[df_selected['type'].isin(selected_models)]"
   ]
  },
  {
   "cell_type": "code",
   "execution_count": 18,
   "id": "4e16386f-46fd-43ea-bd5a-7615022ad0d6",
   "metadata": {},
   "outputs": [],
   "source": [
    "df_agg, df_ttest = ttest(\n",
    "    value='accuracy',\n",
    "    df=df_selected,\n",
    "    by=['n_dims', 'size', 'type'],\n",
    "    test_conds=[\n",
    "        ('poisson', m) for m in\n",
    "        df_selected['type'].unique()\n",
    "        if m != 'poisson'],\n",
    "    method='fdr_bh',\n",
    "    alpha=0.01,\n",
    ")"
   ]
  },
  {
   "cell_type": "code",
   "execution_count": 19,
   "id": "dcad764a-1963-483d-90e8-d0cec25ad6ac",
   "metadata": {},
   "outputs": [
    {
     "data": {
      "text/html": [
       "<div>\n",
       "<style scoped>\n",
       "    .dataframe tbody tr th:only-of-type {\n",
       "        vertical-align: middle;\n",
       "    }\n",
       "\n",
       "    .dataframe tbody tr th {\n",
       "        vertical-align: top;\n",
       "    }\n",
       "\n",
       "    .dataframe thead th {\n",
       "        text-align: right;\n",
       "    }\n",
       "</style>\n",
       "<table border=\"1\" class=\"dataframe\">\n",
       "  <thead>\n",
       "    <tr style=\"text-align: right;\">\n",
       "      <th></th>\n",
       "      <th>n_dims</th>\n",
       "      <th>size</th>\n",
       "      <th>cond1</th>\n",
       "      <th>cond2</th>\n",
       "      <th>t</th>\n",
       "      <th>pvals</th>\n",
       "      <th>pvals_fdr_bh</th>\n",
       "      <th>reject</th>\n",
       "    </tr>\n",
       "  </thead>\n",
       "  <tbody>\n",
       "    <tr>\n",
       "      <th>0</th>\n",
       "      <td>10</td>\n",
       "      <td>200</td>\n",
       "      <td>poisson</td>\n",
       "      <td>categorical</td>\n",
       "      <td>169.881202</td>\n",
       "      <td>0.000000</td>\n",
       "      <td>0.000000</td>\n",
       "      <td>True</td>\n",
       "    </tr>\n",
       "    <tr>\n",
       "      <th>1</th>\n",
       "      <td>10</td>\n",
       "      <td>200</td>\n",
       "      <td>poisson</td>\n",
       "      <td>gaussian</td>\n",
       "      <td>182.398750</td>\n",
       "      <td>0.000000</td>\n",
       "      <td>0.000000</td>\n",
       "      <td>True</td>\n",
       "    </tr>\n",
       "    <tr>\n",
       "      <th>2</th>\n",
       "      <td>10</td>\n",
       "      <td>200</td>\n",
       "      <td>poisson</td>\n",
       "      <td>gaussian-exp</td>\n",
       "      <td>165.188618</td>\n",
       "      <td>0.000000</td>\n",
       "      <td>0.000000</td>\n",
       "      <td>True</td>\n",
       "    </tr>\n",
       "    <tr>\n",
       "      <th>3</th>\n",
       "      <td>10</td>\n",
       "      <td>200</td>\n",
       "      <td>poisson</td>\n",
       "      <td>gaussian-relu</td>\n",
       "      <td>145.069923</td>\n",
       "      <td>0.000000</td>\n",
       "      <td>0.000000</td>\n",
       "      <td>True</td>\n",
       "    </tr>\n",
       "    <tr>\n",
       "      <th>4</th>\n",
       "      <td>10</td>\n",
       "      <td>200</td>\n",
       "      <td>poisson</td>\n",
       "      <td>laplace</td>\n",
       "      <td>82.033128</td>\n",
       "      <td>0.000000</td>\n",
       "      <td>0.000000</td>\n",
       "      <td>True</td>\n",
       "    </tr>\n",
       "    <tr>\n",
       "      <th>5</th>\n",
       "      <td>10</td>\n",
       "      <td>1000</td>\n",
       "      <td>poisson</td>\n",
       "      <td>categorical</td>\n",
       "      <td>240.189356</td>\n",
       "      <td>0.000000</td>\n",
       "      <td>0.000000</td>\n",
       "      <td>True</td>\n",
       "    </tr>\n",
       "    <tr>\n",
       "      <th>6</th>\n",
       "      <td>10</td>\n",
       "      <td>1000</td>\n",
       "      <td>poisson</td>\n",
       "      <td>gaussian</td>\n",
       "      <td>221.416368</td>\n",
       "      <td>0.000000</td>\n",
       "      <td>0.000000</td>\n",
       "      <td>True</td>\n",
       "    </tr>\n",
       "    <tr>\n",
       "      <th>7</th>\n",
       "      <td>10</td>\n",
       "      <td>1000</td>\n",
       "      <td>poisson</td>\n",
       "      <td>gaussian-exp</td>\n",
       "      <td>203.872618</td>\n",
       "      <td>0.000000</td>\n",
       "      <td>0.000000</td>\n",
       "      <td>True</td>\n",
       "    </tr>\n",
       "    <tr>\n",
       "      <th>8</th>\n",
       "      <td>10</td>\n",
       "      <td>1000</td>\n",
       "      <td>poisson</td>\n",
       "      <td>gaussian-relu</td>\n",
       "      <td>161.395089</td>\n",
       "      <td>0.000000</td>\n",
       "      <td>0.000000</td>\n",
       "      <td>True</td>\n",
       "    </tr>\n",
       "    <tr>\n",
       "      <th>9</th>\n",
       "      <td>10</td>\n",
       "      <td>1000</td>\n",
       "      <td>poisson</td>\n",
       "      <td>laplace</td>\n",
       "      <td>132.399649</td>\n",
       "      <td>0.000000</td>\n",
       "      <td>0.000000</td>\n",
       "      <td>True</td>\n",
       "    </tr>\n",
       "    <tr>\n",
       "      <th>10</th>\n",
       "      <td>10</td>\n",
       "      <td>5000</td>\n",
       "      <td>poisson</td>\n",
       "      <td>categorical</td>\n",
       "      <td>8.874238</td>\n",
       "      <td>0.000891</td>\n",
       "      <td>0.001182</td>\n",
       "      <td>True</td>\n",
       "    </tr>\n",
       "    <tr>\n",
       "      <th>11</th>\n",
       "      <td>10</td>\n",
       "      <td>5000</td>\n",
       "      <td>poisson</td>\n",
       "      <td>gaussian</td>\n",
       "      <td>7.067356</td>\n",
       "      <td>0.002115</td>\n",
       "      <td>0.002440</td>\n",
       "      <td>True</td>\n",
       "    </tr>\n",
       "    <tr>\n",
       "      <th>12</th>\n",
       "      <td>10</td>\n",
       "      <td>5000</td>\n",
       "      <td>poisson</td>\n",
       "      <td>gaussian-exp</td>\n",
       "      <td>7.328759</td>\n",
       "      <td>0.001845</td>\n",
       "      <td>0.002244</td>\n",
       "      <td>True</td>\n",
       "    </tr>\n",
       "    <tr>\n",
       "      <th>13</th>\n",
       "      <td>10</td>\n",
       "      <td>5000</td>\n",
       "      <td>poisson</td>\n",
       "      <td>gaussian-relu</td>\n",
       "      <td>5.801522</td>\n",
       "      <td>0.004390</td>\n",
       "      <td>0.004939</td>\n",
       "      <td>True</td>\n",
       "    </tr>\n",
       "    <tr>\n",
       "      <th>14</th>\n",
       "      <td>10</td>\n",
       "      <td>5000</td>\n",
       "      <td>poisson</td>\n",
       "      <td>laplace</td>\n",
       "      <td>3.320968</td>\n",
       "      <td>0.029352</td>\n",
       "      <td>0.029352</td>\n",
       "      <td>False</td>\n",
       "    </tr>\n",
       "    <tr>\n",
       "      <th>15</th>\n",
       "      <td>50</td>\n",
       "      <td>200</td>\n",
       "      <td>poisson</td>\n",
       "      <td>categorical</td>\n",
       "      <td>117.001104</td>\n",
       "      <td>0.000000</td>\n",
       "      <td>0.000000</td>\n",
       "      <td>True</td>\n",
       "    </tr>\n",
       "    <tr>\n",
       "      <th>16</th>\n",
       "      <td>50</td>\n",
       "      <td>200</td>\n",
       "      <td>poisson</td>\n",
       "      <td>gaussian</td>\n",
       "      <td>316.942549</td>\n",
       "      <td>0.000000</td>\n",
       "      <td>0.000000</td>\n",
       "      <td>True</td>\n",
       "    </tr>\n",
       "    <tr>\n",
       "      <th>17</th>\n",
       "      <td>50</td>\n",
       "      <td>200</td>\n",
       "      <td>poisson</td>\n",
       "      <td>gaussian-exp</td>\n",
       "      <td>191.212478</td>\n",
       "      <td>0.000000</td>\n",
       "      <td>0.000000</td>\n",
       "      <td>True</td>\n",
       "    </tr>\n",
       "    <tr>\n",
       "      <th>18</th>\n",
       "      <td>50</td>\n",
       "      <td>200</td>\n",
       "      <td>poisson</td>\n",
       "      <td>gaussian-relu</td>\n",
       "      <td>193.589079</td>\n",
       "      <td>0.000000</td>\n",
       "      <td>0.000000</td>\n",
       "      <td>True</td>\n",
       "    </tr>\n",
       "    <tr>\n",
       "      <th>19</th>\n",
       "      <td>50</td>\n",
       "      <td>200</td>\n",
       "      <td>poisson</td>\n",
       "      <td>laplace</td>\n",
       "      <td>123.656622</td>\n",
       "      <td>0.000000</td>\n",
       "      <td>0.000000</td>\n",
       "      <td>True</td>\n",
       "    </tr>\n",
       "    <tr>\n",
       "      <th>20</th>\n",
       "      <td>50</td>\n",
       "      <td>1000</td>\n",
       "      <td>poisson</td>\n",
       "      <td>categorical</td>\n",
       "      <td>164.198235</td>\n",
       "      <td>0.000000</td>\n",
       "      <td>0.000000</td>\n",
       "      <td>True</td>\n",
       "    </tr>\n",
       "    <tr>\n",
       "      <th>21</th>\n",
       "      <td>50</td>\n",
       "      <td>1000</td>\n",
       "      <td>poisson</td>\n",
       "      <td>gaussian</td>\n",
       "      <td>447.481687</td>\n",
       "      <td>0.000000</td>\n",
       "      <td>0.000000</td>\n",
       "      <td>True</td>\n",
       "    </tr>\n",
       "    <tr>\n",
       "      <th>22</th>\n",
       "      <td>50</td>\n",
       "      <td>1000</td>\n",
       "      <td>poisson</td>\n",
       "      <td>gaussian-exp</td>\n",
       "      <td>187.787981</td>\n",
       "      <td>0.000000</td>\n",
       "      <td>0.000000</td>\n",
       "      <td>True</td>\n",
       "    </tr>\n",
       "    <tr>\n",
       "      <th>23</th>\n",
       "      <td>50</td>\n",
       "      <td>1000</td>\n",
       "      <td>poisson</td>\n",
       "      <td>gaussian-relu</td>\n",
       "      <td>225.200497</td>\n",
       "      <td>0.000000</td>\n",
       "      <td>0.000000</td>\n",
       "      <td>True</td>\n",
       "    </tr>\n",
       "    <tr>\n",
       "      <th>24</th>\n",
       "      <td>50</td>\n",
       "      <td>1000</td>\n",
       "      <td>poisson</td>\n",
       "      <td>laplace</td>\n",
       "      <td>141.944873</td>\n",
       "      <td>0.000000</td>\n",
       "      <td>0.000000</td>\n",
       "      <td>True</td>\n",
       "    </tr>\n",
       "    <tr>\n",
       "      <th>25</th>\n",
       "      <td>50</td>\n",
       "      <td>5000</td>\n",
       "      <td>poisson</td>\n",
       "      <td>categorical</td>\n",
       "      <td>11.749147</td>\n",
       "      <td>0.000300</td>\n",
       "      <td>0.000422</td>\n",
       "      <td>True</td>\n",
       "    </tr>\n",
       "    <tr>\n",
       "      <th>26</th>\n",
       "      <td>50</td>\n",
       "      <td>5000</td>\n",
       "      <td>poisson</td>\n",
       "      <td>gaussian</td>\n",
       "      <td>21.920043</td>\n",
       "      <td>0.000026</td>\n",
       "      <td>0.000037</td>\n",
       "      <td>True</td>\n",
       "    </tr>\n",
       "    <tr>\n",
       "      <th>27</th>\n",
       "      <td>50</td>\n",
       "      <td>5000</td>\n",
       "      <td>poisson</td>\n",
       "      <td>gaussian-exp</td>\n",
       "      <td>7.131087</td>\n",
       "      <td>0.002045</td>\n",
       "      <td>0.002421</td>\n",
       "      <td>True</td>\n",
       "    </tr>\n",
       "    <tr>\n",
       "      <th>28</th>\n",
       "      <td>50</td>\n",
       "      <td>5000</td>\n",
       "      <td>poisson</td>\n",
       "      <td>gaussian-relu</td>\n",
       "      <td>8.425519</td>\n",
       "      <td>0.001087</td>\n",
       "      <td>0.001358</td>\n",
       "      <td>True</td>\n",
       "    </tr>\n",
       "    <tr>\n",
       "      <th>29</th>\n",
       "      <td>50</td>\n",
       "      <td>5000</td>\n",
       "      <td>poisson</td>\n",
       "      <td>laplace</td>\n",
       "      <td>5.207492</td>\n",
       "      <td>0.006483</td>\n",
       "      <td>0.007115</td>\n",
       "      <td>True</td>\n",
       "    </tr>\n",
       "    <tr>\n",
       "      <th>30</th>\n",
       "      <td>100</td>\n",
       "      <td>200</td>\n",
       "      <td>poisson</td>\n",
       "      <td>categorical</td>\n",
       "      <td>102.738539</td>\n",
       "      <td>0.000000</td>\n",
       "      <td>0.000000</td>\n",
       "      <td>True</td>\n",
       "    </tr>\n",
       "    <tr>\n",
       "      <th>31</th>\n",
       "      <td>100</td>\n",
       "      <td>200</td>\n",
       "      <td>poisson</td>\n",
       "      <td>gaussian</td>\n",
       "      <td>169.240903</td>\n",
       "      <td>0.000000</td>\n",
       "      <td>0.000000</td>\n",
       "      <td>True</td>\n",
       "    </tr>\n",
       "    <tr>\n",
       "      <th>32</th>\n",
       "      <td>100</td>\n",
       "      <td>200</td>\n",
       "      <td>poisson</td>\n",
       "      <td>gaussian-exp</td>\n",
       "      <td>138.743331</td>\n",
       "      <td>0.000000</td>\n",
       "      <td>0.000000</td>\n",
       "      <td>True</td>\n",
       "    </tr>\n",
       "    <tr>\n",
       "      <th>33</th>\n",
       "      <td>100</td>\n",
       "      <td>200</td>\n",
       "      <td>poisson</td>\n",
       "      <td>gaussian-relu</td>\n",
       "      <td>91.078080</td>\n",
       "      <td>0.000000</td>\n",
       "      <td>0.000000</td>\n",
       "      <td>True</td>\n",
       "    </tr>\n",
       "    <tr>\n",
       "      <th>34</th>\n",
       "      <td>100</td>\n",
       "      <td>200</td>\n",
       "      <td>poisson</td>\n",
       "      <td>laplace</td>\n",
       "      <td>97.454508</td>\n",
       "      <td>0.000000</td>\n",
       "      <td>0.000000</td>\n",
       "      <td>True</td>\n",
       "    </tr>\n",
       "    <tr>\n",
       "      <th>35</th>\n",
       "      <td>100</td>\n",
       "      <td>1000</td>\n",
       "      <td>poisson</td>\n",
       "      <td>categorical</td>\n",
       "      <td>191.603620</td>\n",
       "      <td>0.000000</td>\n",
       "      <td>0.000000</td>\n",
       "      <td>True</td>\n",
       "    </tr>\n",
       "    <tr>\n",
       "      <th>36</th>\n",
       "      <td>100</td>\n",
       "      <td>1000</td>\n",
       "      <td>poisson</td>\n",
       "      <td>gaussian</td>\n",
       "      <td>222.352954</td>\n",
       "      <td>0.000000</td>\n",
       "      <td>0.000000</td>\n",
       "      <td>True</td>\n",
       "    </tr>\n",
       "    <tr>\n",
       "      <th>37</th>\n",
       "      <td>100</td>\n",
       "      <td>1000</td>\n",
       "      <td>poisson</td>\n",
       "      <td>gaussian-exp</td>\n",
       "      <td>154.272454</td>\n",
       "      <td>0.000000</td>\n",
       "      <td>0.000000</td>\n",
       "      <td>True</td>\n",
       "    </tr>\n",
       "    <tr>\n",
       "      <th>38</th>\n",
       "      <td>100</td>\n",
       "      <td>1000</td>\n",
       "      <td>poisson</td>\n",
       "      <td>gaussian-relu</td>\n",
       "      <td>122.857256</td>\n",
       "      <td>0.000000</td>\n",
       "      <td>0.000000</td>\n",
       "      <td>True</td>\n",
       "    </tr>\n",
       "    <tr>\n",
       "      <th>39</th>\n",
       "      <td>100</td>\n",
       "      <td>1000</td>\n",
       "      <td>poisson</td>\n",
       "      <td>laplace</td>\n",
       "      <td>119.332315</td>\n",
       "      <td>0.000000</td>\n",
       "      <td>0.000000</td>\n",
       "      <td>True</td>\n",
       "    </tr>\n",
       "    <tr>\n",
       "      <th>40</th>\n",
       "      <td>100</td>\n",
       "      <td>5000</td>\n",
       "      <td>poisson</td>\n",
       "      <td>categorical</td>\n",
       "      <td>8.868135</td>\n",
       "      <td>0.000893</td>\n",
       "      <td>0.001182</td>\n",
       "      <td>True</td>\n",
       "    </tr>\n",
       "    <tr>\n",
       "      <th>41</th>\n",
       "      <td>100</td>\n",
       "      <td>5000</td>\n",
       "      <td>poisson</td>\n",
       "      <td>gaussian</td>\n",
       "      <td>8.460402</td>\n",
       "      <td>0.001070</td>\n",
       "      <td>0.001358</td>\n",
       "      <td>True</td>\n",
       "    </tr>\n",
       "    <tr>\n",
       "      <th>42</th>\n",
       "      <td>100</td>\n",
       "      <td>5000</td>\n",
       "      <td>poisson</td>\n",
       "      <td>gaussian-exp</td>\n",
       "      <td>4.757709</td>\n",
       "      <td>0.008920</td>\n",
       "      <td>0.009557</td>\n",
       "      <td>True</td>\n",
       "    </tr>\n",
       "    <tr>\n",
       "      <th>43</th>\n",
       "      <td>100</td>\n",
       "      <td>5000</td>\n",
       "      <td>poisson</td>\n",
       "      <td>gaussian-relu</td>\n",
       "      <td>3.441563</td>\n",
       "      <td>0.026256</td>\n",
       "      <td>0.026853</td>\n",
       "      <td>False</td>\n",
       "    </tr>\n",
       "    <tr>\n",
       "      <th>44</th>\n",
       "      <td>100</td>\n",
       "      <td>5000</td>\n",
       "      <td>poisson</td>\n",
       "      <td>laplace</td>\n",
       "      <td>4.201574</td>\n",
       "      <td>0.013678</td>\n",
       "      <td>0.014315</td>\n",
       "      <td>False</td>\n",
       "    </tr>\n",
       "  </tbody>\n",
       "</table>\n",
       "</div>"
      ],
      "text/plain": [
       "    n_dims  size    cond1          cond2           t     pvals  pvals_fdr_bh  \\\n",
       "0       10   200  poisson    categorical  169.881202  0.000000      0.000000   \n",
       "1       10   200  poisson       gaussian  182.398750  0.000000      0.000000   \n",
       "2       10   200  poisson   gaussian-exp  165.188618  0.000000      0.000000   \n",
       "3       10   200  poisson  gaussian-relu  145.069923  0.000000      0.000000   \n",
       "4       10   200  poisson        laplace   82.033128  0.000000      0.000000   \n",
       "5       10  1000  poisson    categorical  240.189356  0.000000      0.000000   \n",
       "6       10  1000  poisson       gaussian  221.416368  0.000000      0.000000   \n",
       "7       10  1000  poisson   gaussian-exp  203.872618  0.000000      0.000000   \n",
       "8       10  1000  poisson  gaussian-relu  161.395089  0.000000      0.000000   \n",
       "9       10  1000  poisson        laplace  132.399649  0.000000      0.000000   \n",
       "10      10  5000  poisson    categorical    8.874238  0.000891      0.001182   \n",
       "11      10  5000  poisson       gaussian    7.067356  0.002115      0.002440   \n",
       "12      10  5000  poisson   gaussian-exp    7.328759  0.001845      0.002244   \n",
       "13      10  5000  poisson  gaussian-relu    5.801522  0.004390      0.004939   \n",
       "14      10  5000  poisson        laplace    3.320968  0.029352      0.029352   \n",
       "15      50   200  poisson    categorical  117.001104  0.000000      0.000000   \n",
       "16      50   200  poisson       gaussian  316.942549  0.000000      0.000000   \n",
       "17      50   200  poisson   gaussian-exp  191.212478  0.000000      0.000000   \n",
       "18      50   200  poisson  gaussian-relu  193.589079  0.000000      0.000000   \n",
       "19      50   200  poisson        laplace  123.656622  0.000000      0.000000   \n",
       "20      50  1000  poisson    categorical  164.198235  0.000000      0.000000   \n",
       "21      50  1000  poisson       gaussian  447.481687  0.000000      0.000000   \n",
       "22      50  1000  poisson   gaussian-exp  187.787981  0.000000      0.000000   \n",
       "23      50  1000  poisson  gaussian-relu  225.200497  0.000000      0.000000   \n",
       "24      50  1000  poisson        laplace  141.944873  0.000000      0.000000   \n",
       "25      50  5000  poisson    categorical   11.749147  0.000300      0.000422   \n",
       "26      50  5000  poisson       gaussian   21.920043  0.000026      0.000037   \n",
       "27      50  5000  poisson   gaussian-exp    7.131087  0.002045      0.002421   \n",
       "28      50  5000  poisson  gaussian-relu    8.425519  0.001087      0.001358   \n",
       "29      50  5000  poisson        laplace    5.207492  0.006483      0.007115   \n",
       "30     100   200  poisson    categorical  102.738539  0.000000      0.000000   \n",
       "31     100   200  poisson       gaussian  169.240903  0.000000      0.000000   \n",
       "32     100   200  poisson   gaussian-exp  138.743331  0.000000      0.000000   \n",
       "33     100   200  poisson  gaussian-relu   91.078080  0.000000      0.000000   \n",
       "34     100   200  poisson        laplace   97.454508  0.000000      0.000000   \n",
       "35     100  1000  poisson    categorical  191.603620  0.000000      0.000000   \n",
       "36     100  1000  poisson       gaussian  222.352954  0.000000      0.000000   \n",
       "37     100  1000  poisson   gaussian-exp  154.272454  0.000000      0.000000   \n",
       "38     100  1000  poisson  gaussian-relu  122.857256  0.000000      0.000000   \n",
       "39     100  1000  poisson        laplace  119.332315  0.000000      0.000000   \n",
       "40     100  5000  poisson    categorical    8.868135  0.000893      0.001182   \n",
       "41     100  5000  poisson       gaussian    8.460402  0.001070      0.001358   \n",
       "42     100  5000  poisson   gaussian-exp    4.757709  0.008920      0.009557   \n",
       "43     100  5000  poisson  gaussian-relu    3.441563  0.026256      0.026853   \n",
       "44     100  5000  poisson        laplace    4.201574  0.013678      0.014315   \n",
       "\n",
       "    reject  \n",
       "0     True  \n",
       "1     True  \n",
       "2     True  \n",
       "3     True  \n",
       "4     True  \n",
       "5     True  \n",
       "6     True  \n",
       "7     True  \n",
       "8     True  \n",
       "9     True  \n",
       "10    True  \n",
       "11    True  \n",
       "12    True  \n",
       "13    True  \n",
       "14   False  \n",
       "15    True  \n",
       "16    True  \n",
       "17    True  \n",
       "18    True  \n",
       "19    True  \n",
       "20    True  \n",
       "21    True  \n",
       "22    True  \n",
       "23    True  \n",
       "24    True  \n",
       "25    True  \n",
       "26    True  \n",
       "27    True  \n",
       "28    True  \n",
       "29    True  \n",
       "30    True  \n",
       "31    True  \n",
       "32    True  \n",
       "33    True  \n",
       "34    True  \n",
       "35    True  \n",
       "36    True  \n",
       "37    True  \n",
       "38    True  \n",
       "39    True  \n",
       "40    True  \n",
       "41    True  \n",
       "42    True  \n",
       "43   False  \n",
       "44   False  "
      ]
     },
     "execution_count": 19,
     "metadata": {},
     "output_type": "execute_result"
    }
   ],
   "source": [
    "df_ttest"
   ]
  },
  {
   "cell_type": "code",
   "execution_count": 20,
   "id": "98f884f9-8d12-4c6d-a857-bf53eb16f779",
   "metadata": {},
   "outputs": [
    {
     "data": {
      "text/html": [
       "<div>\n",
       "<style scoped>\n",
       "    .dataframe tbody tr th:only-of-type {\n",
       "        vertical-align: middle;\n",
       "    }\n",
       "\n",
       "    .dataframe tbody tr th {\n",
       "        vertical-align: top;\n",
       "    }\n",
       "\n",
       "    .dataframe thead th {\n",
       "        text-align: right;\n",
       "    }\n",
       "</style>\n",
       "<table border=\"1\" class=\"dataframe\">\n",
       "  <thead>\n",
       "    <tr style=\"text-align: right;\">\n",
       "      <th></th>\n",
       "      <th>size</th>\n",
       "      <th>200</th>\n",
       "      <th>1000</th>\n",
       "      <th>5000</th>\n",
       "    </tr>\n",
       "    <tr>\n",
       "      <th>n_dims</th>\n",
       "      <th>cond2</th>\n",
       "      <th></th>\n",
       "      <th></th>\n",
       "      <th></th>\n",
       "    </tr>\n",
       "  </thead>\n",
       "  <tbody>\n",
       "    <tr>\n",
       "      <th rowspan=\"5\" valign=\"top\">10</th>\n",
       "      <th>categorical</th>\n",
       "      <td>True</td>\n",
       "      <td>True</td>\n",
       "      <td>True</td>\n",
       "    </tr>\n",
       "    <tr>\n",
       "      <th>gaussian</th>\n",
       "      <td>True</td>\n",
       "      <td>True</td>\n",
       "      <td>True</td>\n",
       "    </tr>\n",
       "    <tr>\n",
       "      <th>gaussian-exp</th>\n",
       "      <td>True</td>\n",
       "      <td>True</td>\n",
       "      <td>True</td>\n",
       "    </tr>\n",
       "    <tr>\n",
       "      <th>gaussian-relu</th>\n",
       "      <td>True</td>\n",
       "      <td>True</td>\n",
       "      <td>True</td>\n",
       "    </tr>\n",
       "    <tr>\n",
       "      <th>laplace</th>\n",
       "      <td>True</td>\n",
       "      <td>True</td>\n",
       "      <td>False</td>\n",
       "    </tr>\n",
       "    <tr>\n",
       "      <th rowspan=\"5\" valign=\"top\">50</th>\n",
       "      <th>categorical</th>\n",
       "      <td>True</td>\n",
       "      <td>True</td>\n",
       "      <td>True</td>\n",
       "    </tr>\n",
       "    <tr>\n",
       "      <th>gaussian</th>\n",
       "      <td>True</td>\n",
       "      <td>True</td>\n",
       "      <td>True</td>\n",
       "    </tr>\n",
       "    <tr>\n",
       "      <th>gaussian-exp</th>\n",
       "      <td>True</td>\n",
       "      <td>True</td>\n",
       "      <td>True</td>\n",
       "    </tr>\n",
       "    <tr>\n",
       "      <th>gaussian-relu</th>\n",
       "      <td>True</td>\n",
       "      <td>True</td>\n",
       "      <td>True</td>\n",
       "    </tr>\n",
       "    <tr>\n",
       "      <th>laplace</th>\n",
       "      <td>True</td>\n",
       "      <td>True</td>\n",
       "      <td>True</td>\n",
       "    </tr>\n",
       "    <tr>\n",
       "      <th rowspan=\"5\" valign=\"top\">100</th>\n",
       "      <th>categorical</th>\n",
       "      <td>True</td>\n",
       "      <td>True</td>\n",
       "      <td>True</td>\n",
       "    </tr>\n",
       "    <tr>\n",
       "      <th>gaussian</th>\n",
       "      <td>True</td>\n",
       "      <td>True</td>\n",
       "      <td>True</td>\n",
       "    </tr>\n",
       "    <tr>\n",
       "      <th>gaussian-exp</th>\n",
       "      <td>True</td>\n",
       "      <td>True</td>\n",
       "      <td>True</td>\n",
       "    </tr>\n",
       "    <tr>\n",
       "      <th>gaussian-relu</th>\n",
       "      <td>True</td>\n",
       "      <td>True</td>\n",
       "      <td>False</td>\n",
       "    </tr>\n",
       "    <tr>\n",
       "      <th>laplace</th>\n",
       "      <td>True</td>\n",
       "      <td>True</td>\n",
       "      <td>False</td>\n",
       "    </tr>\n",
       "  </tbody>\n",
       "</table>\n",
       "</div>"
      ],
      "text/plain": [
       "size                  200   1000   5000\n",
       "n_dims cond2                           \n",
       "10     categorical    True  True   True\n",
       "       gaussian       True  True   True\n",
       "       gaussian-exp   True  True   True\n",
       "       gaussian-relu  True  True   True\n",
       "       laplace        True  True  False\n",
       "50     categorical    True  True   True\n",
       "       gaussian       True  True   True\n",
       "       gaussian-exp   True  True   True\n",
       "       gaussian-relu  True  True   True\n",
       "       laplace        True  True   True\n",
       "100    categorical    True  True   True\n",
       "       gaussian       True  True   True\n",
       "       gaussian-exp   True  True   True\n",
       "       gaussian-relu  True  True  False\n",
       "       laplace        True  True  False"
      ]
     },
     "execution_count": 20,
     "metadata": {},
     "output_type": "execute_result"
    }
   ],
   "source": [
    "df_ttest.pivot(index=['n_dims', 'cond2'], columns='size', values='reject')"
   ]
  },
  {
   "cell_type": "markdown",
   "id": "b8f729c4-5012-41f1-ac6c-3e9d6ba20e09",
   "metadata": {},
   "source": [
    "#### Confidence intervals (99%)"
   ]
  },
  {
   "cell_type": "code",
   "execution_count": 21,
   "id": "5f065ea5-89b7-452d-9858-8f4b341b8611",
   "metadata": {},
   "outputs": [
    {
     "data": {
      "text/html": [
       "<pre style=\"white-space:pre;overflow-x:auto;line-height:normal;font-family:Menlo,'DejaVu Sans Mono',consolas,'Courier New',monospace\">——— dim: <span style=\"color: #008080; text-decoration-color: #008080; font-weight: bold\">10</span> ———\n",
       "\n",
       "</pre>\n"
      ],
      "text/plain": [
       "——— dim: \u001b[1;36m10\u001b[0m ———\n",
       "\n"
      ]
     },
     "metadata": {},
     "output_type": "display_data"
    },
    {
     "data": {
      "text/html": [
       "<pre style=\"white-space:pre;overflow-x:auto;line-height:normal;font-family:Menlo,'DejaVu Sans Mono',consolas,'Courier New',monospace\">\\begin<span style=\"font-weight: bold\">{</span>tabularx<span style=\"font-weight: bold\">}{</span>65mm<span style=\"font-weight: bold\">}{</span>CCC<span style=\"font-weight: bold\">}</span>\n",
       "    \\entry<span style=\"font-weight: bold\">{</span><span style=\"color: #008080; text-decoration-color: #008080; font-weight: bold\">0.815</span><span style=\"font-weight: bold\">}{</span>.<span style=\"color: #008080; text-decoration-color: #008080; font-weight: bold\">002</span><span style=\"font-weight: bold\">}</span> &amp; \\entry<span style=\"font-weight: bold\">{</span><span style=\"color: #008080; text-decoration-color: #008080; font-weight: bold\">0.919</span><span style=\"font-weight: bold\">}{</span>.<span style=\"color: #008080; text-decoration-color: #008080; font-weight: bold\">001</span><span style=\"font-weight: bold\">}</span> &amp; \\entry<span style=\"font-weight: bold\">{</span><span style=\"color: #008080; text-decoration-color: #008080; font-weight: bold\">0.946</span><span style=\"font-weight: bold\">}{</span>.<span style=\"color: #008080; text-decoration-color: #008080; font-weight: bold\">019</span><span style=\"font-weight: bold\">}</span> \\\\ \n",
       "    \\entry<span style=\"font-weight: bold\">{</span><span style=\"color: #008080; text-decoration-color: #008080; font-weight: bold\">0.705</span><span style=\"font-weight: bold\">}{</span>.<span style=\"color: #008080; text-decoration-color: #008080; font-weight: bold\">003</span><span style=\"font-weight: bold\">}</span> &amp; \\entry<span style=\"font-weight: bold\">{</span><span style=\"color: #008080; text-decoration-color: #008080; font-weight: bold\">0.800</span><span style=\"font-weight: bold\">}{</span>.<span style=\"color: #008080; text-decoration-color: #008080; font-weight: bold\">002</span><span style=\"font-weight: bold\">}</span> &amp; \\entry<span style=\"font-weight: bold\">{</span><span style=\"color: #008080; text-decoration-color: #008080; font-weight: bold\">0.853</span><span style=\"font-weight: bold\">}{</span>.<span style=\"color: #008080; text-decoration-color: #008080; font-weight: bold\">045</span><span style=\"font-weight: bold\">}</span> \\\\ \n",
       "    \\entry<span style=\"font-weight: bold\">{</span><span style=\"color: #008080; text-decoration-color: #008080; font-weight: bold\">0.757</span><span style=\"font-weight: bold\">}{</span>.<span style=\"color: #008080; text-decoration-color: #008080; font-weight: bold\">003</span><span style=\"font-weight: bold\">}</span> &amp; \\entry<span style=\"font-weight: bold\">{</span><span style=\"color: #008080; text-decoration-color: #008080; font-weight: bold\">0.869</span><span style=\"font-weight: bold\">}{</span>.<span style=\"color: #008080; text-decoration-color: #008080; font-weight: bold\">002</span><span style=\"font-weight: bold\">}</span> &amp; \\entry<span style=\"font-weight: bold\">{</span><span style=\"color: #008080; text-decoration-color: #008080; font-weight: bold\">0.924</span><span style=\"font-weight: bold\">}{</span>.<span style=\"color: #008080; text-decoration-color: #008080; font-weight: bold\">032</span><span style=\"font-weight: bold\">}</span> \\\\ \n",
       "    \\entry<span style=\"font-weight: bold\">{</span><span style=\"color: #008080; text-decoration-color: #008080; font-weight: bold\">0.673</span><span style=\"font-weight: bold\">}{</span>.<span style=\"color: #008080; text-decoration-color: #008080; font-weight: bold\">003</span><span style=\"font-weight: bold\">}</span> &amp; \\entry<span style=\"font-weight: bold\">{</span><span style=\"color: #008080; text-decoration-color: #008080; font-weight: bold\">0.813</span><span style=\"font-weight: bold\">}{</span>.<span style=\"color: #008080; text-decoration-color: #008080; font-weight: bold\">002</span><span style=\"font-weight: bold\">}</span> &amp; \\entry<span style=\"font-weight: bold\">{</span><span style=\"color: #008080; text-decoration-color: #008080; font-weight: bold\">0.891</span><span style=\"font-weight: bold\">}{</span>.<span style=\"color: #008080; text-decoration-color: #008080; font-weight: bold\">037</span><span style=\"font-weight: bold\">}</span> \\\\ \n",
       "    \\entry<span style=\"font-weight: bold\">{</span><span style=\"color: #008080; text-decoration-color: #008080; font-weight: bold\">0.694</span><span style=\"font-weight: bold\">}{</span>.<span style=\"color: #008080; text-decoration-color: #008080; font-weight: bold\">004</span><span style=\"font-weight: bold\">}</span> &amp; \\entry<span style=\"font-weight: bold\">{</span><span style=\"color: #008080; text-decoration-color: #008080; font-weight: bold\">0.817</span><span style=\"font-weight: bold\">}{</span>.<span style=\"color: #008080; text-decoration-color: #008080; font-weight: bold\">003</span><span style=\"font-weight: bold\">}</span> &amp; \\entry<span style=\"font-weight: bold\">{</span><span style=\"color: #008080; text-decoration-color: #008080; font-weight: bold\">0.877</span><span style=\"font-weight: bold\">}{</span>.<span style=\"color: #008080; text-decoration-color: #008080; font-weight: bold\">051</span><span style=\"font-weight: bold\">}</span> \\\\ \n",
       "    \\entry<span style=\"font-weight: bold\">{</span><span style=\"color: #008080; text-decoration-color: #008080; font-weight: bold\">0.642</span><span style=\"font-weight: bold\">}{</span>.<span style=\"color: #008080; text-decoration-color: #008080; font-weight: bold\">004</span><span style=\"font-weight: bold\">}</span> &amp; \\entry<span style=\"font-weight: bold\">{</span><span style=\"color: #008080; text-decoration-color: #008080; font-weight: bold\">0.784</span><span style=\"font-weight: bold\">}{</span>.<span style=\"color: #008080; text-decoration-color: #008080; font-weight: bold\">002</span><span style=\"font-weight: bold\">}</span> &amp; \\entry<span style=\"font-weight: bold\">{</span><span style=\"color: #008080; text-decoration-color: #008080; font-weight: bold\">0.863</span><span style=\"font-weight: bold\">}{</span>.<span style=\"color: #008080; text-decoration-color: #008080; font-weight: bold\">037</span><span style=\"font-weight: bold\">}</span>\n",
       "\\end<span style=\"font-weight: bold\">{</span>tabularx<span style=\"font-weight: bold\">}</span>\n",
       "</pre>\n"
      ],
      "text/plain": [
       "\\begin\u001b[1m{\u001b[0mtabularx\u001b[1m}\u001b[0m\u001b[1m{\u001b[0m65mm\u001b[1m}\u001b[0m\u001b[1m{\u001b[0mCCC\u001b[1m}\u001b[0m\n",
       "    \\entry\u001b[1m{\u001b[0m\u001b[1;36m0.815\u001b[0m\u001b[1m}\u001b[0m\u001b[1m{\u001b[0m.\u001b[1;36m002\u001b[0m\u001b[1m}\u001b[0m & \\entry\u001b[1m{\u001b[0m\u001b[1;36m0.919\u001b[0m\u001b[1m}\u001b[0m\u001b[1m{\u001b[0m.\u001b[1;36m001\u001b[0m\u001b[1m}\u001b[0m & \\entry\u001b[1m{\u001b[0m\u001b[1;36m0.946\u001b[0m\u001b[1m}\u001b[0m\u001b[1m{\u001b[0m.\u001b[1;36m019\u001b[0m\u001b[1m}\u001b[0m \\\\ \n",
       "    \\entry\u001b[1m{\u001b[0m\u001b[1;36m0.705\u001b[0m\u001b[1m}\u001b[0m\u001b[1m{\u001b[0m.\u001b[1;36m003\u001b[0m\u001b[1m}\u001b[0m & \\entry\u001b[1m{\u001b[0m\u001b[1;36m0.800\u001b[0m\u001b[1m}\u001b[0m\u001b[1m{\u001b[0m.\u001b[1;36m002\u001b[0m\u001b[1m}\u001b[0m & \\entry\u001b[1m{\u001b[0m\u001b[1;36m0.853\u001b[0m\u001b[1m}\u001b[0m\u001b[1m{\u001b[0m.\u001b[1;36m045\u001b[0m\u001b[1m}\u001b[0m \\\\ \n",
       "    \\entry\u001b[1m{\u001b[0m\u001b[1;36m0.757\u001b[0m\u001b[1m}\u001b[0m\u001b[1m{\u001b[0m.\u001b[1;36m003\u001b[0m\u001b[1m}\u001b[0m & \\entry\u001b[1m{\u001b[0m\u001b[1;36m0.869\u001b[0m\u001b[1m}\u001b[0m\u001b[1m{\u001b[0m.\u001b[1;36m002\u001b[0m\u001b[1m}\u001b[0m & \\entry\u001b[1m{\u001b[0m\u001b[1;36m0.924\u001b[0m\u001b[1m}\u001b[0m\u001b[1m{\u001b[0m.\u001b[1;36m032\u001b[0m\u001b[1m}\u001b[0m \\\\ \n",
       "    \\entry\u001b[1m{\u001b[0m\u001b[1;36m0.673\u001b[0m\u001b[1m}\u001b[0m\u001b[1m{\u001b[0m.\u001b[1;36m003\u001b[0m\u001b[1m}\u001b[0m & \\entry\u001b[1m{\u001b[0m\u001b[1;36m0.813\u001b[0m\u001b[1m}\u001b[0m\u001b[1m{\u001b[0m.\u001b[1;36m002\u001b[0m\u001b[1m}\u001b[0m & \\entry\u001b[1m{\u001b[0m\u001b[1;36m0.891\u001b[0m\u001b[1m}\u001b[0m\u001b[1m{\u001b[0m.\u001b[1;36m037\u001b[0m\u001b[1m}\u001b[0m \\\\ \n",
       "    \\entry\u001b[1m{\u001b[0m\u001b[1;36m0.694\u001b[0m\u001b[1m}\u001b[0m\u001b[1m{\u001b[0m.\u001b[1;36m004\u001b[0m\u001b[1m}\u001b[0m & \\entry\u001b[1m{\u001b[0m\u001b[1;36m0.817\u001b[0m\u001b[1m}\u001b[0m\u001b[1m{\u001b[0m.\u001b[1;36m003\u001b[0m\u001b[1m}\u001b[0m & \\entry\u001b[1m{\u001b[0m\u001b[1;36m0.877\u001b[0m\u001b[1m}\u001b[0m\u001b[1m{\u001b[0m.\u001b[1;36m051\u001b[0m\u001b[1m}\u001b[0m \\\\ \n",
       "    \\entry\u001b[1m{\u001b[0m\u001b[1;36m0.642\u001b[0m\u001b[1m}\u001b[0m\u001b[1m{\u001b[0m.\u001b[1;36m004\u001b[0m\u001b[1m}\u001b[0m & \\entry\u001b[1m{\u001b[0m\u001b[1;36m0.784\u001b[0m\u001b[1m}\u001b[0m\u001b[1m{\u001b[0m.\u001b[1;36m002\u001b[0m\u001b[1m}\u001b[0m & \\entry\u001b[1m{\u001b[0m\u001b[1;36m0.863\u001b[0m\u001b[1m}\u001b[0m\u001b[1m{\u001b[0m.\u001b[1;36m037\u001b[0m\u001b[1m}\u001b[0m\n",
       "\\end\u001b[1m{\u001b[0mtabularx\u001b[1m}\u001b[0m\n"
      ]
     },
     "metadata": {},
     "output_type": "display_data"
    },
    {
     "data": {
      "text/html": [
       "<pre style=\"white-space:pre;overflow-x:auto;line-height:normal;font-family:Menlo,'DejaVu Sans Mono',consolas,'Courier New',monospace\">\n",
       "\n",
       "\n",
       "\n",
       "</pre>\n"
      ],
      "text/plain": [
       "\n",
       "\n",
       "\n",
       "\n"
      ]
     },
     "metadata": {},
     "output_type": "display_data"
    },
    {
     "data": {
      "text/html": [
       "<pre style=\"white-space:pre;overflow-x:auto;line-height:normal;font-family:Menlo,'DejaVu Sans Mono',consolas,'Courier New',monospace\">——— dim: <span style=\"color: #008080; text-decoration-color: #008080; font-weight: bold\">50</span> ———\n",
       "\n",
       "</pre>\n"
      ],
      "text/plain": [
       "——— dim: \u001b[1;36m50\u001b[0m ———\n",
       "\n"
      ]
     },
     "metadata": {},
     "output_type": "display_data"
    },
    {
     "data": {
      "text/html": [
       "<pre style=\"white-space:pre;overflow-x:auto;line-height:normal;font-family:Menlo,'DejaVu Sans Mono',consolas,'Courier New',monospace\">\\begin<span style=\"font-weight: bold\">{</span>tabularx<span style=\"font-weight: bold\">}{</span>65mm<span style=\"font-weight: bold\">}{</span>CCC<span style=\"font-weight: bold\">}</span>\n",
       "    \\entry<span style=\"font-weight: bold\">{</span><span style=\"color: #008080; text-decoration-color: #008080; font-weight: bold\">0.825</span><span style=\"font-weight: bold\">}{</span>.<span style=\"color: #008080; text-decoration-color: #008080; font-weight: bold\">002</span><span style=\"font-weight: bold\">}</span> &amp; \\entry<span style=\"font-weight: bold\">{</span><span style=\"color: #008080; text-decoration-color: #008080; font-weight: bold\">0.927</span><span style=\"font-weight: bold\">}{</span>.<span style=\"color: #008080; text-decoration-color: #008080; font-weight: bold\">001</span><span style=\"font-weight: bold\">}</span> &amp; \\entry<span style=\"font-weight: bold\">{</span><span style=\"color: #008080; text-decoration-color: #008080; font-weight: bold\">0.957</span><span style=\"font-weight: bold\">}{</span>.<span style=\"color: #008080; text-decoration-color: #008080; font-weight: bold\">006</span><span style=\"font-weight: bold\">}</span> \\\\ \n",
       "    \\entry<span style=\"font-weight: bold\">{</span><span style=\"color: #008080; text-decoration-color: #008080; font-weight: bold\">0.770</span><span style=\"font-weight: bold\">}{</span>.<span style=\"color: #008080; text-decoration-color: #008080; font-weight: bold\">002</span><span style=\"font-weight: bold\">}</span> &amp; \\entry<span style=\"font-weight: bold\">{</span><span style=\"color: #008080; text-decoration-color: #008080; font-weight: bold\">0.880</span><span style=\"font-weight: bold\">}{</span>.<span style=\"color: #008080; text-decoration-color: #008080; font-weight: bold\">001</span><span style=\"font-weight: bold\">}</span> &amp; \\entry<span style=\"font-weight: bold\">{</span><span style=\"color: #008080; text-decoration-color: #008080; font-weight: bold\">0.920</span><span style=\"font-weight: bold\">}{</span>.<span style=\"color: #008080; text-decoration-color: #008080; font-weight: bold\">010</span><span style=\"font-weight: bold\">}</span> \\\\ \n",
       "    \\entry<span style=\"font-weight: bold\">{</span><span style=\"color: #008080; text-decoration-color: #008080; font-weight: bold\">0.710</span><span style=\"font-weight: bold\">}{</span>.<span style=\"color: #008080; text-decoration-color: #008080; font-weight: bold\">004</span><span style=\"font-weight: bold\">}</span> &amp; \\entry<span style=\"font-weight: bold\">{</span><span style=\"color: #008080; text-decoration-color: #008080; font-weight: bold\">0.836</span><span style=\"font-weight: bold\">}{</span>.<span style=\"color: #008080; text-decoration-color: #008080; font-weight: bold\">003</span><span style=\"font-weight: bold\">}</span> &amp; \\entry<span style=\"font-weight: bold\">{</span><span style=\"color: #008080; text-decoration-color: #008080; font-weight: bold\">0.902</span><span style=\"font-weight: bold\">}{</span>.<span style=\"color: #008080; text-decoration-color: #008080; font-weight: bold\">043</span><span style=\"font-weight: bold\">}</span> \\\\ \n",
       "    \\entry<span style=\"font-weight: bold\">{</span><span style=\"color: #008080; text-decoration-color: #008080; font-weight: bold\">0.604</span><span style=\"font-weight: bold\">}{</span>.<span style=\"color: #008080; text-decoration-color: #008080; font-weight: bold\">003</span><span style=\"font-weight: bold\">}</span> &amp; \\entry<span style=\"font-weight: bold\">{</span><span style=\"color: #008080; text-decoration-color: #008080; font-weight: bold\">0.746</span><span style=\"font-weight: bold\">}{</span>.<span style=\"color: #008080; text-decoration-color: #008080; font-weight: bold\">002</span><span style=\"font-weight: bold\">}</span> &amp; \\entry<span style=\"font-weight: bold\">{</span><span style=\"color: #008080; text-decoration-color: #008080; font-weight: bold\">0.837</span><span style=\"font-weight: bold\">}{</span>.<span style=\"color: #008080; text-decoration-color: #008080; font-weight: bold\">026</span><span style=\"font-weight: bold\">}</span> \\\\ \n",
       "    \\entry<span style=\"font-weight: bold\">{</span><span style=\"color: #008080; text-decoration-color: #008080; font-weight: bold\">0.710</span><span style=\"font-weight: bold\">}{</span>.<span style=\"color: #008080; text-decoration-color: #008080; font-weight: bold\">003</span><span style=\"font-weight: bold\">}</span> &amp; \\entry<span style=\"font-weight: bold\">{</span><span style=\"color: #008080; text-decoration-color: #008080; font-weight: bold\">0.844</span><span style=\"font-weight: bold\">}{</span>.<span style=\"color: #008080; text-decoration-color: #008080; font-weight: bold\">002</span><span style=\"font-weight: bold\">}</span> &amp; \\entry<span style=\"font-weight: bold\">{</span><span style=\"color: #008080; text-decoration-color: #008080; font-weight: bold\">0.904</span><span style=\"font-weight: bold\">}{</span>.<span style=\"color: #008080; text-decoration-color: #008080; font-weight: bold\">030</span><span style=\"font-weight: bold\">}</span> \\\\ \n",
       "    \\entry<span style=\"font-weight: bold\">{</span><span style=\"color: #008080; text-decoration-color: #008080; font-weight: bold\">0.694</span><span style=\"font-weight: bold\">}{</span>.<span style=\"color: #008080; text-decoration-color: #008080; font-weight: bold\">003</span><span style=\"font-weight: bold\">}</span> &amp; \\entry<span style=\"font-weight: bold\">{</span><span style=\"color: #008080; text-decoration-color: #008080; font-weight: bold\">0.836</span><span style=\"font-weight: bold\">}{</span>.<span style=\"color: #008080; text-decoration-color: #008080; font-weight: bold\">002</span><span style=\"font-weight: bold\">}</span> &amp; \\entry<span style=\"font-weight: bold\">{</span><span style=\"color: #008080; text-decoration-color: #008080; font-weight: bold\">0.906</span><span style=\"font-weight: bold\">}{</span>.<span style=\"color: #008080; text-decoration-color: #008080; font-weight: bold\">031</span><span style=\"font-weight: bold\">}</span>\n",
       "\\end<span style=\"font-weight: bold\">{</span>tabularx<span style=\"font-weight: bold\">}</span>\n",
       "</pre>\n"
      ],
      "text/plain": [
       "\\begin\u001b[1m{\u001b[0mtabularx\u001b[1m}\u001b[0m\u001b[1m{\u001b[0m65mm\u001b[1m}\u001b[0m\u001b[1m{\u001b[0mCCC\u001b[1m}\u001b[0m\n",
       "    \\entry\u001b[1m{\u001b[0m\u001b[1;36m0.825\u001b[0m\u001b[1m}\u001b[0m\u001b[1m{\u001b[0m.\u001b[1;36m002\u001b[0m\u001b[1m}\u001b[0m & \\entry\u001b[1m{\u001b[0m\u001b[1;36m0.927\u001b[0m\u001b[1m}\u001b[0m\u001b[1m{\u001b[0m.\u001b[1;36m001\u001b[0m\u001b[1m}\u001b[0m & \\entry\u001b[1m{\u001b[0m\u001b[1;36m0.957\u001b[0m\u001b[1m}\u001b[0m\u001b[1m{\u001b[0m.\u001b[1;36m006\u001b[0m\u001b[1m}\u001b[0m \\\\ \n",
       "    \\entry\u001b[1m{\u001b[0m\u001b[1;36m0.770\u001b[0m\u001b[1m}\u001b[0m\u001b[1m{\u001b[0m.\u001b[1;36m002\u001b[0m\u001b[1m}\u001b[0m & \\entry\u001b[1m{\u001b[0m\u001b[1;36m0.880\u001b[0m\u001b[1m}\u001b[0m\u001b[1m{\u001b[0m.\u001b[1;36m001\u001b[0m\u001b[1m}\u001b[0m & \\entry\u001b[1m{\u001b[0m\u001b[1;36m0.920\u001b[0m\u001b[1m}\u001b[0m\u001b[1m{\u001b[0m.\u001b[1;36m010\u001b[0m\u001b[1m}\u001b[0m \\\\ \n",
       "    \\entry\u001b[1m{\u001b[0m\u001b[1;36m0.710\u001b[0m\u001b[1m}\u001b[0m\u001b[1m{\u001b[0m.\u001b[1;36m004\u001b[0m\u001b[1m}\u001b[0m & \\entry\u001b[1m{\u001b[0m\u001b[1;36m0.836\u001b[0m\u001b[1m}\u001b[0m\u001b[1m{\u001b[0m.\u001b[1;36m003\u001b[0m\u001b[1m}\u001b[0m & \\entry\u001b[1m{\u001b[0m\u001b[1;36m0.902\u001b[0m\u001b[1m}\u001b[0m\u001b[1m{\u001b[0m.\u001b[1;36m043\u001b[0m\u001b[1m}\u001b[0m \\\\ \n",
       "    \\entry\u001b[1m{\u001b[0m\u001b[1;36m0.604\u001b[0m\u001b[1m}\u001b[0m\u001b[1m{\u001b[0m.\u001b[1;36m003\u001b[0m\u001b[1m}\u001b[0m & \\entry\u001b[1m{\u001b[0m\u001b[1;36m0.746\u001b[0m\u001b[1m}\u001b[0m\u001b[1m{\u001b[0m.\u001b[1;36m002\u001b[0m\u001b[1m}\u001b[0m & \\entry\u001b[1m{\u001b[0m\u001b[1;36m0.837\u001b[0m\u001b[1m}\u001b[0m\u001b[1m{\u001b[0m.\u001b[1;36m026\u001b[0m\u001b[1m}\u001b[0m \\\\ \n",
       "    \\entry\u001b[1m{\u001b[0m\u001b[1;36m0.710\u001b[0m\u001b[1m}\u001b[0m\u001b[1m{\u001b[0m.\u001b[1;36m003\u001b[0m\u001b[1m}\u001b[0m & \\entry\u001b[1m{\u001b[0m\u001b[1;36m0.844\u001b[0m\u001b[1m}\u001b[0m\u001b[1m{\u001b[0m.\u001b[1;36m002\u001b[0m\u001b[1m}\u001b[0m & \\entry\u001b[1m{\u001b[0m\u001b[1;36m0.904\u001b[0m\u001b[1m}\u001b[0m\u001b[1m{\u001b[0m.\u001b[1;36m030\u001b[0m\u001b[1m}\u001b[0m \\\\ \n",
       "    \\entry\u001b[1m{\u001b[0m\u001b[1;36m0.694\u001b[0m\u001b[1m}\u001b[0m\u001b[1m{\u001b[0m.\u001b[1;36m003\u001b[0m\u001b[1m}\u001b[0m & \\entry\u001b[1m{\u001b[0m\u001b[1;36m0.836\u001b[0m\u001b[1m}\u001b[0m\u001b[1m{\u001b[0m.\u001b[1;36m002\u001b[0m\u001b[1m}\u001b[0m & \\entry\u001b[1m{\u001b[0m\u001b[1;36m0.906\u001b[0m\u001b[1m}\u001b[0m\u001b[1m{\u001b[0m.\u001b[1;36m031\u001b[0m\u001b[1m}\u001b[0m\n",
       "\\end\u001b[1m{\u001b[0mtabularx\u001b[1m}\u001b[0m\n"
      ]
     },
     "metadata": {},
     "output_type": "display_data"
    },
    {
     "data": {
      "text/html": [
       "<pre style=\"white-space:pre;overflow-x:auto;line-height:normal;font-family:Menlo,'DejaVu Sans Mono',consolas,'Courier New',monospace\">\n",
       "\n",
       "\n",
       "\n",
       "</pre>\n"
      ],
      "text/plain": [
       "\n",
       "\n",
       "\n",
       "\n"
      ]
     },
     "metadata": {},
     "output_type": "display_data"
    },
    {
     "data": {
      "text/html": [
       "<pre style=\"white-space:pre;overflow-x:auto;line-height:normal;font-family:Menlo,'DejaVu Sans Mono',consolas,'Courier New',monospace\">——— dim: <span style=\"color: #008080; text-decoration-color: #008080; font-weight: bold\">100</span> ———\n",
       "\n",
       "</pre>\n"
      ],
      "text/plain": [
       "——— dim: \u001b[1;36m100\u001b[0m ———\n",
       "\n"
      ]
     },
     "metadata": {},
     "output_type": "display_data"
    },
    {
     "data": {
      "text/html": [
       "<pre style=\"white-space:pre;overflow-x:auto;line-height:normal;font-family:Menlo,'DejaVu Sans Mono',consolas,'Courier New',monospace\">\\begin<span style=\"font-weight: bold\">{</span>tabularx<span style=\"font-weight: bold\">}{</span>65mm<span style=\"font-weight: bold\">}{</span>CCC<span style=\"font-weight: bold\">}</span>\n",
       "    \\entry<span style=\"font-weight: bold\">{</span><span style=\"color: #008080; text-decoration-color: #008080; font-weight: bold\">0.807</span><span style=\"font-weight: bold\">}{</span>.<span style=\"color: #008080; text-decoration-color: #008080; font-weight: bold\">002</span><span style=\"font-weight: bold\">}</span> &amp; \\entry<span style=\"font-weight: bold\">{</span><span style=\"color: #008080; text-decoration-color: #008080; font-weight: bold\">0.925</span><span style=\"font-weight: bold\">}{</span>.<span style=\"color: #008080; text-decoration-color: #008080; font-weight: bold\">001</span><span style=\"font-weight: bold\">}</span> &amp; \\entry<span style=\"font-weight: bold\">{</span><span style=\"color: #008080; text-decoration-color: #008080; font-weight: bold\">0.958</span><span style=\"font-weight: bold\">}{</span>.<span style=\"color: #008080; text-decoration-color: #008080; font-weight: bold\">015</span><span style=\"font-weight: bold\">}</span> \\\\ \n",
       "    \\entry<span style=\"font-weight: bold\">{</span><span style=\"color: #008080; text-decoration-color: #008080; font-weight: bold\">0.753</span><span style=\"font-weight: bold\">}{</span>.<span style=\"color: #008080; text-decoration-color: #008080; font-weight: bold\">002</span><span style=\"font-weight: bold\">}</span> &amp; \\entry<span style=\"font-weight: bold\">{</span><span style=\"color: #008080; text-decoration-color: #008080; font-weight: bold\">0.876</span><span style=\"font-weight: bold\">}{</span>.<span style=\"color: #008080; text-decoration-color: #008080; font-weight: bold\">001</span><span style=\"font-weight: bold\">}</span> &amp; \\entry<span style=\"font-weight: bold\">{</span><span style=\"color: #008080; text-decoration-color: #008080; font-weight: bold\">0.925</span><span style=\"font-weight: bold\">}{</span>.<span style=\"color: #008080; text-decoration-color: #008080; font-weight: bold\">006</span><span style=\"font-weight: bold\">}</span> \\\\ \n",
       "    \\entry<span style=\"font-weight: bold\">{</span><span style=\"color: #008080; text-decoration-color: #008080; font-weight: bold\">0.701</span><span style=\"font-weight: bold\">}{</span>.<span style=\"color: #008080; text-decoration-color: #008080; font-weight: bold\">004</span><span style=\"font-weight: bold\">}</span> &amp; \\entry<span style=\"font-weight: bold\">{</span><span style=\"color: #008080; text-decoration-color: #008080; font-weight: bold\">0.830</span><span style=\"font-weight: bold\">}{</span>.<span style=\"color: #008080; text-decoration-color: #008080; font-weight: bold\">003</span><span style=\"font-weight: bold\">}</span> &amp; \\entry<span style=\"font-weight: bold\">{</span><span style=\"color: #008080; text-decoration-color: #008080; font-weight: bold\">0.896</span><span style=\"font-weight: bold\">}{</span>.<span style=\"color: #008080; text-decoration-color: #008080; font-weight: bold\">053</span><span style=\"font-weight: bold\">}</span> \\\\ \n",
       "    \\entry<span style=\"font-weight: bold\">{</span><span style=\"color: #008080; text-decoration-color: #008080; font-weight: bold\">0.636</span><span style=\"font-weight: bold\">}{</span>.<span style=\"color: #008080; text-decoration-color: #008080; font-weight: bold\">004</span><span style=\"font-weight: bold\">}</span> &amp; \\entry<span style=\"font-weight: bold\">{</span><span style=\"color: #008080; text-decoration-color: #008080; font-weight: bold\">0.789</span><span style=\"font-weight: bold\">}{</span>.<span style=\"color: #008080; text-decoration-color: #008080; font-weight: bold\">002</span><span style=\"font-weight: bold\">}</span> &amp; \\entry<span style=\"font-weight: bold\">{</span><span style=\"color: #008080; text-decoration-color: #008080; font-weight: bold\">0.875</span><span style=\"font-weight: bold\">}{</span>.<span style=\"color: #008080; text-decoration-color: #008080; font-weight: bold\">027</span><span style=\"font-weight: bold\">}</span> \\\\ \n",
       "    \\entry<span style=\"font-weight: bold\">{</span><span style=\"color: #008080; text-decoration-color: #008080; font-weight: bold\">0.757</span><span style=\"font-weight: bold\">}{</span>.<span style=\"color: #008080; text-decoration-color: #008080; font-weight: bold\">003</span><span style=\"font-weight: bold\">}</span> &amp; \\entry<span style=\"font-weight: bold\">{</span><span style=\"color: #008080; text-decoration-color: #008080; font-weight: bold\">0.881</span><span style=\"font-weight: bold\">}{</span>.<span style=\"color: #008080; text-decoration-color: #008080; font-weight: bold\">001</span><span style=\"font-weight: bold\">}</span> &amp; \\entry<span style=\"font-weight: bold\">{</span><span style=\"color: #008080; text-decoration-color: #008080; font-weight: bold\">0.933</span><span style=\"font-weight: bold\">}{</span>.<span style=\"color: #008080; text-decoration-color: #008080; font-weight: bold\">021</span><span style=\"font-weight: bold\">}</span> \\\\ \n",
       "    \\entry<span style=\"font-weight: bold\">{</span><span style=\"color: #008080; text-decoration-color: #008080; font-weight: bold\">0.695</span><span style=\"font-weight: bold\">}{</span>.<span style=\"color: #008080; text-decoration-color: #008080; font-weight: bold\">004</span><span style=\"font-weight: bold\">}</span> &amp; \\entry<span style=\"font-weight: bold\">{</span><span style=\"color: #008080; text-decoration-color: #008080; font-weight: bold\">0.846</span><span style=\"font-weight: bold\">}{</span>.<span style=\"color: #008080; text-decoration-color: #008080; font-weight: bold\">002</span><span style=\"font-weight: bold\">}</span> &amp; \\entry<span style=\"font-weight: bold\">{</span><span style=\"color: #008080; text-decoration-color: #008080; font-weight: bold\">0.918</span><span style=\"font-weight: bold\">}{</span>.<span style=\"color: #008080; text-decoration-color: #008080; font-weight: bold\">027</span><span style=\"font-weight: bold\">}</span>\n",
       "\\end<span style=\"font-weight: bold\">{</span>tabularx<span style=\"font-weight: bold\">}</span>\n",
       "</pre>\n"
      ],
      "text/plain": [
       "\\begin\u001b[1m{\u001b[0mtabularx\u001b[1m}\u001b[0m\u001b[1m{\u001b[0m65mm\u001b[1m}\u001b[0m\u001b[1m{\u001b[0mCCC\u001b[1m}\u001b[0m\n",
       "    \\entry\u001b[1m{\u001b[0m\u001b[1;36m0.807\u001b[0m\u001b[1m}\u001b[0m\u001b[1m{\u001b[0m.\u001b[1;36m002\u001b[0m\u001b[1m}\u001b[0m & \\entry\u001b[1m{\u001b[0m\u001b[1;36m0.925\u001b[0m\u001b[1m}\u001b[0m\u001b[1m{\u001b[0m.\u001b[1;36m001\u001b[0m\u001b[1m}\u001b[0m & \\entry\u001b[1m{\u001b[0m\u001b[1;36m0.958\u001b[0m\u001b[1m}\u001b[0m\u001b[1m{\u001b[0m.\u001b[1;36m015\u001b[0m\u001b[1m}\u001b[0m \\\\ \n",
       "    \\entry\u001b[1m{\u001b[0m\u001b[1;36m0.753\u001b[0m\u001b[1m}\u001b[0m\u001b[1m{\u001b[0m.\u001b[1;36m002\u001b[0m\u001b[1m}\u001b[0m & \\entry\u001b[1m{\u001b[0m\u001b[1;36m0.876\u001b[0m\u001b[1m}\u001b[0m\u001b[1m{\u001b[0m.\u001b[1;36m001\u001b[0m\u001b[1m}\u001b[0m & \\entry\u001b[1m{\u001b[0m\u001b[1;36m0.925\u001b[0m\u001b[1m}\u001b[0m\u001b[1m{\u001b[0m.\u001b[1;36m006\u001b[0m\u001b[1m}\u001b[0m \\\\ \n",
       "    \\entry\u001b[1m{\u001b[0m\u001b[1;36m0.701\u001b[0m\u001b[1m}\u001b[0m\u001b[1m{\u001b[0m.\u001b[1;36m004\u001b[0m\u001b[1m}\u001b[0m & \\entry\u001b[1m{\u001b[0m\u001b[1;36m0.830\u001b[0m\u001b[1m}\u001b[0m\u001b[1m{\u001b[0m.\u001b[1;36m003\u001b[0m\u001b[1m}\u001b[0m & \\entry\u001b[1m{\u001b[0m\u001b[1;36m0.896\u001b[0m\u001b[1m}\u001b[0m\u001b[1m{\u001b[0m.\u001b[1;36m053\u001b[0m\u001b[1m}\u001b[0m \\\\ \n",
       "    \\entry\u001b[1m{\u001b[0m\u001b[1;36m0.636\u001b[0m\u001b[1m}\u001b[0m\u001b[1m{\u001b[0m.\u001b[1;36m004\u001b[0m\u001b[1m}\u001b[0m & \\entry\u001b[1m{\u001b[0m\u001b[1;36m0.789\u001b[0m\u001b[1m}\u001b[0m\u001b[1m{\u001b[0m.\u001b[1;36m002\u001b[0m\u001b[1m}\u001b[0m & \\entry\u001b[1m{\u001b[0m\u001b[1;36m0.875\u001b[0m\u001b[1m}\u001b[0m\u001b[1m{\u001b[0m.\u001b[1;36m027\u001b[0m\u001b[1m}\u001b[0m \\\\ \n",
       "    \\entry\u001b[1m{\u001b[0m\u001b[1;36m0.757\u001b[0m\u001b[1m}\u001b[0m\u001b[1m{\u001b[0m.\u001b[1;36m003\u001b[0m\u001b[1m}\u001b[0m & \\entry\u001b[1m{\u001b[0m\u001b[1;36m0.881\u001b[0m\u001b[1m}\u001b[0m\u001b[1m{\u001b[0m.\u001b[1;36m001\u001b[0m\u001b[1m}\u001b[0m & \\entry\u001b[1m{\u001b[0m\u001b[1;36m0.933\u001b[0m\u001b[1m}\u001b[0m\u001b[1m{\u001b[0m.\u001b[1;36m021\u001b[0m\u001b[1m}\u001b[0m \\\\ \n",
       "    \\entry\u001b[1m{\u001b[0m\u001b[1;36m0.695\u001b[0m\u001b[1m}\u001b[0m\u001b[1m{\u001b[0m.\u001b[1;36m004\u001b[0m\u001b[1m}\u001b[0m & \\entry\u001b[1m{\u001b[0m\u001b[1;36m0.846\u001b[0m\u001b[1m}\u001b[0m\u001b[1m{\u001b[0m.\u001b[1;36m002\u001b[0m\u001b[1m}\u001b[0m & \\entry\u001b[1m{\u001b[0m\u001b[1;36m0.918\u001b[0m\u001b[1m}\u001b[0m\u001b[1m{\u001b[0m.\u001b[1;36m027\u001b[0m\u001b[1m}\u001b[0m\n",
       "\\end\u001b[1m{\u001b[0mtabularx\u001b[1m}\u001b[0m\n"
      ]
     },
     "metadata": {},
     "output_type": "display_data"
    },
    {
     "data": {
      "text/html": [
       "<pre style=\"white-space:pre;overflow-x:auto;line-height:normal;font-family:Menlo,'DejaVu Sans Mono',consolas,'Courier New',monospace\">\n",
       "\n",
       "\n",
       "\n",
       "</pre>\n"
      ],
      "text/plain": [
       "\n",
       "\n",
       "\n",
       "\n"
      ]
     },
     "metadata": {},
     "output_type": "display_data"
    },
    {
     "name": "stdout",
     "output_type": "stream",
     "text": [
      "CPU times: user 2min 37s, sys: 39 s, total: 3min 16s\n",
      "Wall time: 3min 16s\n"
     ]
    }
   ],
   "source": [
    "%%time\n",
    "\n",
    "for dim in [10, 50, 100]:\n",
    "    table = table_entry_knn(dim, df_agg, n_resamples=int(1e5), fmt='0.3f')\n",
    "    print(f\"——— dim: {dim} ———\\n\")\n",
    "    print(table)\n",
    "    print('\\n\\n\\n')"
   ]
  },
  {
   "cell_type": "markdown",
   "id": "b90df4b3-012d-4fd4-b79c-29cb565158f0",
   "metadata": {},
   "source": [
    "## Table 4: negative ELBO"
   ]
  },
  {
   "cell_type": "markdown",
   "id": "4574cfd0-d547-41ce-8997-576d2ccdf98a",
   "metadata": {},
   "source": [
    "### Load df"
   ]
  },
  {
   "cell_type": "code",
   "execution_count": 22,
   "id": "90b6328a-36f6-4858-a4cd-2331e78d512e",
   "metadata": {},
   "outputs": [],
   "source": [
    "df = pjoin(root, 'df_main.df')\n",
    "df = pd.read_pickle(df)"
   ]
  },
  {
   "cell_type": "markdown",
   "id": "63508e81-f939-4ba2-8538-5e7477c07962",
   "metadata": {},
   "source": [
    "### t-test"
   ]
  },
  {
   "cell_type": "code",
   "execution_count": 23,
   "id": "e2fcdccf-e30e-4108-99b0-7a97936cd3de",
   "metadata": {},
   "outputs": [],
   "source": [
    "group_cols = ['type', 'dataset', 'enc_type', 'method']\n",
    "\n",
    "df_agg, df_ttest = ttest(\n",
    "    df=df,\n",
    "    value='nelbo',\n",
    "    by=group_cols,\n",
    "    test_conds=[('exact', 'mc')]\n",
    ")"
   ]
  },
  {
   "cell_type": "code",
   "execution_count": 24,
   "id": "f4c43084-ec03-44cb-912f-96b820f71b85",
   "metadata": {},
   "outputs": [
    {
     "data": {
      "text/html": [
       "<div>\n",
       "<style scoped>\n",
       "    .dataframe tbody tr th:only-of-type {\n",
       "        vertical-align: middle;\n",
       "    }\n",
       "\n",
       "    .dataframe tbody tr th {\n",
       "        vertical-align: top;\n",
       "    }\n",
       "\n",
       "    .dataframe thead th {\n",
       "        text-align: right;\n",
       "    }\n",
       "</style>\n",
       "<table border=\"1\" class=\"dataframe\">\n",
       "  <thead>\n",
       "    <tr style=\"text-align: right;\">\n",
       "      <th></th>\n",
       "      <th>type</th>\n",
       "      <th>dataset</th>\n",
       "      <th>enc_type</th>\n",
       "      <th>cond1</th>\n",
       "      <th>cond2</th>\n",
       "      <th>t</th>\n",
       "      <th>pvals</th>\n",
       "      <th>pvals_fdr_bh</th>\n",
       "      <th>reject</th>\n",
       "    </tr>\n",
       "  </thead>\n",
       "  <tbody>\n",
       "    <tr>\n",
       "      <th>0</th>\n",
       "      <td>categorical</td>\n",
       "      <td>CIFAR10-PATCHES</td>\n",
       "      <td>conv</td>\n",
       "      <td>exact</td>\n",
       "      <td>mc</td>\n",
       "      <td>29.741441</td>\n",
       "      <td>7.610919e-06</td>\n",
       "      <td>3.653241e-05</td>\n",
       "      <td>True</td>\n",
       "    </tr>\n",
       "    <tr>\n",
       "      <th>1</th>\n",
       "      <td>categorical</td>\n",
       "      <td>CIFAR10-PATCHES</td>\n",
       "      <td>lin</td>\n",
       "      <td>exact</td>\n",
       "      <td>mc</td>\n",
       "      <td>107.020257</td>\n",
       "      <td>4.571246e-08</td>\n",
       "      <td>6.433598e-07</td>\n",
       "      <td>True</td>\n",
       "    </tr>\n",
       "    <tr>\n",
       "      <th>2</th>\n",
       "      <td>categorical</td>\n",
       "      <td>DOVES</td>\n",
       "      <td>conv</td>\n",
       "      <td>exact</td>\n",
       "      <td>mc</td>\n",
       "      <td>76.319655</td>\n",
       "      <td>1.766480e-07</td>\n",
       "      <td>1.326846e-06</td>\n",
       "      <td>True</td>\n",
       "    </tr>\n",
       "    <tr>\n",
       "      <th>3</th>\n",
       "      <td>categorical</td>\n",
       "      <td>DOVES</td>\n",
       "      <td>lin</td>\n",
       "      <td>exact</td>\n",
       "      <td>mc</td>\n",
       "      <td>102.837428</td>\n",
       "      <td>5.361332e-08</td>\n",
       "      <td>6.433598e-07</td>\n",
       "      <td>True</td>\n",
       "    </tr>\n",
       "    <tr>\n",
       "      <th>4</th>\n",
       "      <td>categorical</td>\n",
       "      <td>MNIST</td>\n",
       "      <td>conv</td>\n",
       "      <td>exact</td>\n",
       "      <td>mc</td>\n",
       "      <td>-0.754298</td>\n",
       "      <td>5.293873e-01</td>\n",
       "      <td>5.524041e-01</td>\n",
       "      <td>False</td>\n",
       "    </tr>\n",
       "    <tr>\n",
       "      <th>5</th>\n",
       "      <td>categorical</td>\n",
       "      <td>MNIST</td>\n",
       "      <td>lin</td>\n",
       "      <td>exact</td>\n",
       "      <td>mc</td>\n",
       "      <td>72.149197</td>\n",
       "      <td>2.211410e-07</td>\n",
       "      <td>1.326846e-06</td>\n",
       "      <td>True</td>\n",
       "    </tr>\n",
       "    <tr>\n",
       "      <th>6</th>\n",
       "      <td>gaussian</td>\n",
       "      <td>CIFAR10-PATCHES</td>\n",
       "      <td>conv</td>\n",
       "      <td>exact</td>\n",
       "      <td>mc</td>\n",
       "      <td>-1.736704</td>\n",
       "      <td>1.574435e-01</td>\n",
       "      <td>1.889322e-01</td>\n",
       "      <td>False</td>\n",
       "    </tr>\n",
       "    <tr>\n",
       "      <th>7</th>\n",
       "      <td>gaussian</td>\n",
       "      <td>CIFAR10-PATCHES</td>\n",
       "      <td>lin</td>\n",
       "      <td>exact</td>\n",
       "      <td>mc</td>\n",
       "      <td>-0.425670</td>\n",
       "      <td>6.922524e-01</td>\n",
       "      <td>6.922524e-01</td>\n",
       "      <td>False</td>\n",
       "    </tr>\n",
       "    <tr>\n",
       "      <th>8</th>\n",
       "      <td>gaussian</td>\n",
       "      <td>DOVES</td>\n",
       "      <td>conv</td>\n",
       "      <td>exact</td>\n",
       "      <td>mc</td>\n",
       "      <td>-2.090717</td>\n",
       "      <td>1.047458e-01</td>\n",
       "      <td>1.396611e-01</td>\n",
       "      <td>False</td>\n",
       "    </tr>\n",
       "    <tr>\n",
       "      <th>9</th>\n",
       "      <td>gaussian</td>\n",
       "      <td>DOVES</td>\n",
       "      <td>lin</td>\n",
       "      <td>exact</td>\n",
       "      <td>mc</td>\n",
       "      <td>1.843652</td>\n",
       "      <td>1.390086e-01</td>\n",
       "      <td>1.755898e-01</td>\n",
       "      <td>False</td>\n",
       "    </tr>\n",
       "    <tr>\n",
       "      <th>10</th>\n",
       "      <td>gaussian</td>\n",
       "      <td>MNIST</td>\n",
       "      <td>conv</td>\n",
       "      <td>exact</td>\n",
       "      <td>mc</td>\n",
       "      <td>-7.369763</td>\n",
       "      <td>1.806446e-03</td>\n",
       "      <td>4.034175e-03</td>\n",
       "      <td>True</td>\n",
       "    </tr>\n",
       "    <tr>\n",
       "      <th>11</th>\n",
       "      <td>gaussian</td>\n",
       "      <td>MNIST</td>\n",
       "      <td>lin</td>\n",
       "      <td>exact</td>\n",
       "      <td>mc</td>\n",
       "      <td>-9.279763</td>\n",
       "      <td>7.500815e-04</td>\n",
       "      <td>2.250245e-03</td>\n",
       "      <td>True</td>\n",
       "    </tr>\n",
       "    <tr>\n",
       "      <th>12</th>\n",
       "      <td>laplace</td>\n",
       "      <td>CIFAR10-PATCHES</td>\n",
       "      <td>conv</td>\n",
       "      <td>exact</td>\n",
       "      <td>mc</td>\n",
       "      <td>-7.060932</td>\n",
       "      <td>2.122036e-03</td>\n",
       "      <td>4.244072e-03</td>\n",
       "      <td>True</td>\n",
       "    </tr>\n",
       "    <tr>\n",
       "      <th>13</th>\n",
       "      <td>laplace</td>\n",
       "      <td>CIFAR10-PATCHES</td>\n",
       "      <td>lin</td>\n",
       "      <td>exact</td>\n",
       "      <td>mc</td>\n",
       "      <td>4.212034</td>\n",
       "      <td>1.356400e-02</td>\n",
       "      <td>2.170240e-02</td>\n",
       "      <td>False</td>\n",
       "    </tr>\n",
       "    <tr>\n",
       "      <th>14</th>\n",
       "      <td>laplace</td>\n",
       "      <td>DOVES</td>\n",
       "      <td>conv</td>\n",
       "      <td>exact</td>\n",
       "      <td>mc</td>\n",
       "      <td>-3.296984</td>\n",
       "      <td>3.001818e-02</td>\n",
       "      <td>4.502727e-02</td>\n",
       "      <td>False</td>\n",
       "    </tr>\n",
       "    <tr>\n",
       "      <th>15</th>\n",
       "      <td>laplace</td>\n",
       "      <td>DOVES</td>\n",
       "      <td>lin</td>\n",
       "      <td>exact</td>\n",
       "      <td>mc</td>\n",
       "      <td>-1.083803</td>\n",
       "      <td>3.394114e-01</td>\n",
       "      <td>3.702670e-01</td>\n",
       "      <td>False</td>\n",
       "    </tr>\n",
       "    <tr>\n",
       "      <th>16</th>\n",
       "      <td>laplace</td>\n",
       "      <td>MNIST</td>\n",
       "      <td>conv</td>\n",
       "      <td>exact</td>\n",
       "      <td>mc</td>\n",
       "      <td>-2.240532</td>\n",
       "      <td>8.856967e-02</td>\n",
       "      <td>1.250395e-01</td>\n",
       "      <td>False</td>\n",
       "    </tr>\n",
       "    <tr>\n",
       "      <th>17</th>\n",
       "      <td>laplace</td>\n",
       "      <td>MNIST</td>\n",
       "      <td>lin</td>\n",
       "      <td>exact</td>\n",
       "      <td>mc</td>\n",
       "      <td>-1.383149</td>\n",
       "      <td>2.388106e-01</td>\n",
       "      <td>2.729264e-01</td>\n",
       "      <td>False</td>\n",
       "    </tr>\n",
       "    <tr>\n",
       "      <th>18</th>\n",
       "      <td>poisson</td>\n",
       "      <td>CIFAR10-PATCHES</td>\n",
       "      <td>conv</td>\n",
       "      <td>exact</td>\n",
       "      <td>mc</td>\n",
       "      <td>-14.507506</td>\n",
       "      <td>1.312645e-04</td>\n",
       "      <td>4.500499e-04</td>\n",
       "      <td>True</td>\n",
       "    </tr>\n",
       "    <tr>\n",
       "      <th>19</th>\n",
       "      <td>poisson</td>\n",
       "      <td>CIFAR10-PATCHES</td>\n",
       "      <td>lin</td>\n",
       "      <td>exact</td>\n",
       "      <td>mc</td>\n",
       "      <td>-6.218841</td>\n",
       "      <td>3.403504e-03</td>\n",
       "      <td>6.283392e-03</td>\n",
       "      <td>True</td>\n",
       "    </tr>\n",
       "    <tr>\n",
       "      <th>20</th>\n",
       "      <td>poisson</td>\n",
       "      <td>DOVES</td>\n",
       "      <td>conv</td>\n",
       "      <td>exact</td>\n",
       "      <td>mc</td>\n",
       "      <td>-17.087880</td>\n",
       "      <td>6.879351e-05</td>\n",
       "      <td>2.751741e-04</td>\n",
       "      <td>True</td>\n",
       "    </tr>\n",
       "    <tr>\n",
       "      <th>21</th>\n",
       "      <td>poisson</td>\n",
       "      <td>DOVES</td>\n",
       "      <td>lin</td>\n",
       "      <td>exact</td>\n",
       "      <td>mc</td>\n",
       "      <td>4.337745</td>\n",
       "      <td>1.227468e-02</td>\n",
       "      <td>2.104231e-02</td>\n",
       "      <td>False</td>\n",
       "    </tr>\n",
       "    <tr>\n",
       "      <th>22</th>\n",
       "      <td>poisson</td>\n",
       "      <td>MNIST</td>\n",
       "      <td>conv</td>\n",
       "      <td>exact</td>\n",
       "      <td>mc</td>\n",
       "      <td>-7.387991</td>\n",
       "      <td>1.789696e-03</td>\n",
       "      <td>4.034175e-03</td>\n",
       "      <td>True</td>\n",
       "    </tr>\n",
       "    <tr>\n",
       "      <th>23</th>\n",
       "      <td>poisson</td>\n",
       "      <td>MNIST</td>\n",
       "      <td>lin</td>\n",
       "      <td>exact</td>\n",
       "      <td>mc</td>\n",
       "      <td>-7.324384</td>\n",
       "      <td>1.848997e-03</td>\n",
       "      <td>4.034175e-03</td>\n",
       "      <td>True</td>\n",
       "    </tr>\n",
       "  </tbody>\n",
       "</table>\n",
       "</div>"
      ],
      "text/plain": [
       "           type          dataset enc_type  cond1 cond2           t  \\\n",
       "0   categorical  CIFAR10-PATCHES     conv  exact    mc   29.741441   \n",
       "1   categorical  CIFAR10-PATCHES      lin  exact    mc  107.020257   \n",
       "2   categorical            DOVES     conv  exact    mc   76.319655   \n",
       "3   categorical            DOVES      lin  exact    mc  102.837428   \n",
       "4   categorical            MNIST     conv  exact    mc   -0.754298   \n",
       "5   categorical            MNIST      lin  exact    mc   72.149197   \n",
       "6      gaussian  CIFAR10-PATCHES     conv  exact    mc   -1.736704   \n",
       "7      gaussian  CIFAR10-PATCHES      lin  exact    mc   -0.425670   \n",
       "8      gaussian            DOVES     conv  exact    mc   -2.090717   \n",
       "9      gaussian            DOVES      lin  exact    mc    1.843652   \n",
       "10     gaussian            MNIST     conv  exact    mc   -7.369763   \n",
       "11     gaussian            MNIST      lin  exact    mc   -9.279763   \n",
       "12      laplace  CIFAR10-PATCHES     conv  exact    mc   -7.060932   \n",
       "13      laplace  CIFAR10-PATCHES      lin  exact    mc    4.212034   \n",
       "14      laplace            DOVES     conv  exact    mc   -3.296984   \n",
       "15      laplace            DOVES      lin  exact    mc   -1.083803   \n",
       "16      laplace            MNIST     conv  exact    mc   -2.240532   \n",
       "17      laplace            MNIST      lin  exact    mc   -1.383149   \n",
       "18      poisson  CIFAR10-PATCHES     conv  exact    mc  -14.507506   \n",
       "19      poisson  CIFAR10-PATCHES      lin  exact    mc   -6.218841   \n",
       "20      poisson            DOVES     conv  exact    mc  -17.087880   \n",
       "21      poisson            DOVES      lin  exact    mc    4.337745   \n",
       "22      poisson            MNIST     conv  exact    mc   -7.387991   \n",
       "23      poisson            MNIST      lin  exact    mc   -7.324384   \n",
       "\n",
       "           pvals  pvals_fdr_bh  reject  \n",
       "0   7.610919e-06  3.653241e-05    True  \n",
       "1   4.571246e-08  6.433598e-07    True  \n",
       "2   1.766480e-07  1.326846e-06    True  \n",
       "3   5.361332e-08  6.433598e-07    True  \n",
       "4   5.293873e-01  5.524041e-01   False  \n",
       "5   2.211410e-07  1.326846e-06    True  \n",
       "6   1.574435e-01  1.889322e-01   False  \n",
       "7   6.922524e-01  6.922524e-01   False  \n",
       "8   1.047458e-01  1.396611e-01   False  \n",
       "9   1.390086e-01  1.755898e-01   False  \n",
       "10  1.806446e-03  4.034175e-03    True  \n",
       "11  7.500815e-04  2.250245e-03    True  \n",
       "12  2.122036e-03  4.244072e-03    True  \n",
       "13  1.356400e-02  2.170240e-02   False  \n",
       "14  3.001818e-02  4.502727e-02   False  \n",
       "15  3.394114e-01  3.702670e-01   False  \n",
       "16  8.856967e-02  1.250395e-01   False  \n",
       "17  2.388106e-01  2.729264e-01   False  \n",
       "18  1.312645e-04  4.500499e-04    True  \n",
       "19  3.403504e-03  6.283392e-03    True  \n",
       "20  6.879351e-05  2.751741e-04    True  \n",
       "21  1.227468e-02  2.104231e-02   False  \n",
       "22  1.789696e-03  4.034175e-03    True  \n",
       "23  1.848997e-03  4.034175e-03    True  "
      ]
     },
     "execution_count": 24,
     "metadata": {},
     "output_type": "execute_result"
    }
   ],
   "source": [
    "df_ttest"
   ]
  },
  {
   "cell_type": "code",
   "execution_count": 25,
   "id": "bf5ff182-1b20-4ab4-b19a-d1d875408da5",
   "metadata": {},
   "outputs": [
    {
     "data": {
      "text/html": [
       "<div>\n",
       "<style scoped>\n",
       "    .dataframe tbody tr th:only-of-type {\n",
       "        vertical-align: middle;\n",
       "    }\n",
       "\n",
       "    .dataframe tbody tr th {\n",
       "        vertical-align: top;\n",
       "    }\n",
       "\n",
       "    .dataframe thead tr th {\n",
       "        text-align: left;\n",
       "    }\n",
       "\n",
       "    .dataframe thead tr:last-of-type th {\n",
       "        text-align: right;\n",
       "    }\n",
       "</style>\n",
       "<table border=\"1\" class=\"dataframe\">\n",
       "  <thead>\n",
       "    <tr>\n",
       "      <th>dataset</th>\n",
       "      <th colspan=\"2\" halign=\"left\">CIFAR10-PATCHES</th>\n",
       "      <th colspan=\"2\" halign=\"left\">DOVES</th>\n",
       "      <th colspan=\"2\" halign=\"left\">MNIST</th>\n",
       "    </tr>\n",
       "    <tr>\n",
       "      <th>enc_type</th>\n",
       "      <th>conv</th>\n",
       "      <th>lin</th>\n",
       "      <th>conv</th>\n",
       "      <th>lin</th>\n",
       "      <th>conv</th>\n",
       "      <th>lin</th>\n",
       "    </tr>\n",
       "    <tr>\n",
       "      <th>type</th>\n",
       "      <th></th>\n",
       "      <th></th>\n",
       "      <th></th>\n",
       "      <th></th>\n",
       "      <th></th>\n",
       "      <th></th>\n",
       "    </tr>\n",
       "  </thead>\n",
       "  <tbody>\n",
       "    <tr>\n",
       "      <th>categorical</th>\n",
       "      <td>True</td>\n",
       "      <td>True</td>\n",
       "      <td>True</td>\n",
       "      <td>True</td>\n",
       "      <td>False</td>\n",
       "      <td>True</td>\n",
       "    </tr>\n",
       "    <tr>\n",
       "      <th>gaussian</th>\n",
       "      <td>False</td>\n",
       "      <td>False</td>\n",
       "      <td>False</td>\n",
       "      <td>False</td>\n",
       "      <td>True</td>\n",
       "      <td>True</td>\n",
       "    </tr>\n",
       "    <tr>\n",
       "      <th>laplace</th>\n",
       "      <td>True</td>\n",
       "      <td>False</td>\n",
       "      <td>False</td>\n",
       "      <td>False</td>\n",
       "      <td>False</td>\n",
       "      <td>False</td>\n",
       "    </tr>\n",
       "    <tr>\n",
       "      <th>poisson</th>\n",
       "      <td>True</td>\n",
       "      <td>True</td>\n",
       "      <td>True</td>\n",
       "      <td>False</td>\n",
       "      <td>True</td>\n",
       "      <td>True</td>\n",
       "    </tr>\n",
       "  </tbody>\n",
       "</table>\n",
       "</div>"
      ],
      "text/plain": [
       "dataset     CIFAR10-PATCHES         DOVES         MNIST       \n",
       "enc_type               conv    lin   conv    lin   conv    lin\n",
       "type                                                          \n",
       "categorical            True   True   True   True  False   True\n",
       "gaussian              False  False  False  False   True   True\n",
       "laplace                True  False  False  False  False  False\n",
       "poisson                True   True   True  False   True   True"
      ]
     },
     "execution_count": 25,
     "metadata": {},
     "output_type": "execute_result"
    }
   ],
   "source": [
    "df_ttest.pivot(values='reject', index='type', columns=['dataset', 'enc_type'])"
   ]
  },
  {
   "cell_type": "markdown",
   "id": "5f4fc588-47d1-4bc3-8fff-4fe609caff32",
   "metadata": {},
   "source": [
    "### Confidence intervals (99%)"
   ]
  },
  {
   "cell_type": "code",
   "execution_count": 26,
   "id": "76029eab-ffa2-472e-a890-00c96c3e8ca2",
   "metadata": {},
   "outputs": [
    {
     "data": {
      "text/html": [
       "<pre style=\"white-space:pre;overflow-x:auto;line-height:normal;font-family:Menlo,'DejaVu Sans Mono',consolas,'Courier New',monospace\">——— model: poisson ———\n",
       "\n",
       "</pre>\n"
      ],
      "text/plain": [
       "——— model: poisson ———\n",
       "\n"
      ]
     },
     "metadata": {},
     "output_type": "display_data"
    },
    {
     "data": {
      "text/html": [
       "<pre style=\"white-space:pre;overflow-x:auto;line-height:normal;font-family:Menlo,'DejaVu Sans Mono',consolas,'Courier New',monospace\">\\begin<span style=\"font-weight: bold\">{</span>tabularx<span style=\"font-weight: bold\">}{</span>34mm<span style=\"font-weight: bold\">}{</span>CC<span style=\"font-weight: bold\">}</span>\n",
       "    \\entry<span style=\"font-weight: bold\">{</span><span style=\"color: #008080; text-decoration-color: #008080; font-weight: bold\">168.0</span><span style=\"font-weight: bold\">}{</span>.<span style=\"color: #008080; text-decoration-color: #008080; font-weight: bold\">8</span><span style=\"font-weight: bold\">}</span> &amp; \\entry<span style=\"font-weight: bold\">{</span><span style=\"color: #008080; text-decoration-color: #008080; font-weight: bold\">162.4</span><span style=\"font-weight: bold\">}{</span>.<span style=\"color: #008080; text-decoration-color: #008080; font-weight: bold\">2</span><span style=\"font-weight: bold\">}</span> \\\\ \n",
       "    \\entry<span style=\"font-weight: bold\">{</span><span style=\"color: #008080; text-decoration-color: #008080; font-weight: bold\">167.2</span><span style=\"font-weight: bold\">}{</span>.<span style=\"color: #008080; text-decoration-color: #008080; font-weight: bold\">1</span><span style=\"font-weight: bold\">}</span> &amp; \\entry<span style=\"font-weight: bold\">{</span><span style=\"color: #008080; text-decoration-color: #008080; font-weight: bold\">163.4</span><span style=\"font-weight: bold\">}{</span>.<span style=\"color: #008080; text-decoration-color: #008080; font-weight: bold\">1</span><span style=\"font-weight: bold\">}</span> \\\\ \n",
       "    \\entry<span style=\"font-weight: bold\">{</span><span style=\"color: #008080; text-decoration-color: #008080; font-weight: bold\">179.3</span><span style=\"font-weight: bold\">}{</span>.<span style=\"color: #008080; text-decoration-color: #008080; font-weight: bold\">1</span><span style=\"font-weight: bold\">}</span> &amp; \\entry<span style=\"font-weight: bold\">{</span><span style=\"color: #008080; text-decoration-color: #008080; font-weight: bold\">179.4</span><span style=\"font-weight: bold\">}{</span>.<span style=\"color: #008080; text-decoration-color: #008080; font-weight: bold\">1</span><span style=\"font-weight: bold\">}</span>\n",
       "\\end<span style=\"font-weight: bold\">{</span>tabularx<span style=\"font-weight: bold\">}</span>\n",
       "&amp;\n",
       "\\begin<span style=\"font-weight: bold\">{</span>tabularx<span style=\"font-weight: bold\">}{</span>34mm<span style=\"font-weight: bold\">}{</span>CC<span style=\"font-weight: bold\">}</span>\n",
       "    \\entry<span style=\"font-weight: bold\">{</span><span style=\"color: #008080; text-decoration-color: #008080; font-weight: bold\">167.1</span><span style=\"font-weight: bold\">}{</span>.<span style=\"color: #008080; text-decoration-color: #008080; font-weight: bold\">2</span><span style=\"font-weight: bold\">}</span> &amp; \\entry<span style=\"font-weight: bold\">{</span><span style=\"color: #008080; text-decoration-color: #008080; font-weight: bold\">162.1</span><span style=\"font-weight: bold\">}{</span>.<span style=\"color: #008080; text-decoration-color: #008080; font-weight: bold\">1</span><span style=\"font-weight: bold\">}</span> \\\\ \n",
       "    \\entry<span style=\"font-weight: bold\">{</span><span style=\"color: #008080; text-decoration-color: #008080; font-weight: bold\">167.3</span><span style=\"font-weight: bold\">}{</span>.<span style=\"color: #008080; text-decoration-color: #008080; font-weight: bold\">1</span><span style=\"font-weight: bold\">}</span> &amp; \\entry<span style=\"font-weight: bold\">{</span><span style=\"color: #008080; text-decoration-color: #008080; font-weight: bold\">162.9</span><span style=\"font-weight: bold\">}{</span>.<span style=\"color: #008080; text-decoration-color: #008080; font-weight: bold\">2</span><span style=\"font-weight: bold\">}</span> \\\\ \n",
       "    \\entry<span style=\"font-weight: bold\">{</span><span style=\"color: #008080; text-decoration-color: #008080; font-weight: bold\">182.3</span><span style=\"font-weight: bold\">}{</span>.<span style=\"color: #008080; text-decoration-color: #008080; font-weight: bold\">1</span><span style=\"font-weight: bold\">}</span> &amp; \\entry<span style=\"font-weight: bold\">{</span><span style=\"color: #008080; text-decoration-color: #008080; font-weight: bold\">182.3</span><span style=\"font-weight: bold\">}{</span>.<span style=\"color: #008080; text-decoration-color: #008080; font-weight: bold\">2</span><span style=\"font-weight: bold\">}</span>\n",
       "\\end<span style=\"font-weight: bold\">{</span>tabularx<span style=\"font-weight: bold\">}</span>\n",
       "&amp;\n",
       "\\begin<span style=\"font-weight: bold\">{</span>tabularx<span style=\"font-weight: bold\">}{</span>34mm<span style=\"font-weight: bold\">}{</span>CC<span style=\"font-weight: bold\">}</span>\n",
       "    \\entry<span style=\"font-weight: bold\">{</span><span style=\"color: #008080; text-decoration-color: #008080; font-weight: bold\">41.5</span><span style=\"font-weight: bold\">}{</span>.<span style=\"color: #008080; text-decoration-color: #008080; font-weight: bold\">1</span><span style=\"font-weight: bold\">}</span> &amp; \\entry<span style=\"font-weight: bold\">{</span><span style=\"color: #008080; text-decoration-color: #008080; font-weight: bold\">39.7</span><span style=\"font-weight: bold\">}{</span>.<span style=\"color: #008080; text-decoration-color: #008080; font-weight: bold\">2</span><span style=\"font-weight: bold\">}</span> \\\\ \n",
       "    \\entry<span style=\"font-weight: bold\">{</span><span style=\"color: #008080; text-decoration-color: #008080; font-weight: bold\">41.7</span><span style=\"font-weight: bold\">}{</span>.<span style=\"color: #008080; text-decoration-color: #008080; font-weight: bold\">2</span><span style=\"font-weight: bold\">}</span> &amp; \\entry<span style=\"font-weight: bold\">{</span><span style=\"color: #008080; text-decoration-color: #008080; font-weight: bold\">40.1</span><span style=\"font-weight: bold\">}{</span>.<span style=\"color: #008080; text-decoration-color: #008080; font-weight: bold\">2</span><span style=\"font-weight: bold\">}</span> \\\\ \n",
       "    \\entry<span style=\"font-weight: bold\">{</span><span style=\"color: #008080; text-decoration-color: #008080; font-weight: bold\">44.8</span><span style=\"font-weight: bold\">}{</span>.<span style=\"color: #008080; text-decoration-color: #008080; font-weight: bold\">1</span><span style=\"font-weight: bold\">}</span> &amp; \\entry<span style=\"font-weight: bold\">{</span><span style=\"color: #008080; text-decoration-color: #008080; font-weight: bold\">44.2</span><span style=\"font-weight: bold\">}{</span>.<span style=\"color: #008080; text-decoration-color: #008080; font-weight: bold\">1</span><span style=\"font-weight: bold\">}</span>\n",
       "\\end<span style=\"font-weight: bold\">{</span>tabularx<span style=\"font-weight: bold\">}</span>\n",
       "</pre>\n"
      ],
      "text/plain": [
       "\\begin\u001b[1m{\u001b[0mtabularx\u001b[1m}\u001b[0m\u001b[1m{\u001b[0m34mm\u001b[1m}\u001b[0m\u001b[1m{\u001b[0mCC\u001b[1m}\u001b[0m\n",
       "    \\entry\u001b[1m{\u001b[0m\u001b[1;36m168.0\u001b[0m\u001b[1m}\u001b[0m\u001b[1m{\u001b[0m.\u001b[1;36m8\u001b[0m\u001b[1m}\u001b[0m & \\entry\u001b[1m{\u001b[0m\u001b[1;36m162.4\u001b[0m\u001b[1m}\u001b[0m\u001b[1m{\u001b[0m.\u001b[1;36m2\u001b[0m\u001b[1m}\u001b[0m \\\\ \n",
       "    \\entry\u001b[1m{\u001b[0m\u001b[1;36m167.2\u001b[0m\u001b[1m}\u001b[0m\u001b[1m{\u001b[0m.\u001b[1;36m1\u001b[0m\u001b[1m}\u001b[0m & \\entry\u001b[1m{\u001b[0m\u001b[1;36m163.4\u001b[0m\u001b[1m}\u001b[0m\u001b[1m{\u001b[0m.\u001b[1;36m1\u001b[0m\u001b[1m}\u001b[0m \\\\ \n",
       "    \\entry\u001b[1m{\u001b[0m\u001b[1;36m179.3\u001b[0m\u001b[1m}\u001b[0m\u001b[1m{\u001b[0m.\u001b[1;36m1\u001b[0m\u001b[1m}\u001b[0m & \\entry\u001b[1m{\u001b[0m\u001b[1;36m179.4\u001b[0m\u001b[1m}\u001b[0m\u001b[1m{\u001b[0m.\u001b[1;36m1\u001b[0m\u001b[1m}\u001b[0m\n",
       "\\end\u001b[1m{\u001b[0mtabularx\u001b[1m}\u001b[0m\n",
       "&\n",
       "\\begin\u001b[1m{\u001b[0mtabularx\u001b[1m}\u001b[0m\u001b[1m{\u001b[0m34mm\u001b[1m}\u001b[0m\u001b[1m{\u001b[0mCC\u001b[1m}\u001b[0m\n",
       "    \\entry\u001b[1m{\u001b[0m\u001b[1;36m167.1\u001b[0m\u001b[1m}\u001b[0m\u001b[1m{\u001b[0m.\u001b[1;36m2\u001b[0m\u001b[1m}\u001b[0m & \\entry\u001b[1m{\u001b[0m\u001b[1;36m162.1\u001b[0m\u001b[1m}\u001b[0m\u001b[1m{\u001b[0m.\u001b[1;36m1\u001b[0m\u001b[1m}\u001b[0m \\\\ \n",
       "    \\entry\u001b[1m{\u001b[0m\u001b[1;36m167.3\u001b[0m\u001b[1m}\u001b[0m\u001b[1m{\u001b[0m.\u001b[1;36m1\u001b[0m\u001b[1m}\u001b[0m & \\entry\u001b[1m{\u001b[0m\u001b[1;36m162.9\u001b[0m\u001b[1m}\u001b[0m\u001b[1m{\u001b[0m.\u001b[1;36m2\u001b[0m\u001b[1m}\u001b[0m \\\\ \n",
       "    \\entry\u001b[1m{\u001b[0m\u001b[1;36m182.3\u001b[0m\u001b[1m}\u001b[0m\u001b[1m{\u001b[0m.\u001b[1;36m1\u001b[0m\u001b[1m}\u001b[0m & \\entry\u001b[1m{\u001b[0m\u001b[1;36m182.3\u001b[0m\u001b[1m}\u001b[0m\u001b[1m{\u001b[0m.\u001b[1;36m2\u001b[0m\u001b[1m}\u001b[0m\n",
       "\\end\u001b[1m{\u001b[0mtabularx\u001b[1m}\u001b[0m\n",
       "&\n",
       "\\begin\u001b[1m{\u001b[0mtabularx\u001b[1m}\u001b[0m\u001b[1m{\u001b[0m34mm\u001b[1m}\u001b[0m\u001b[1m{\u001b[0mCC\u001b[1m}\u001b[0m\n",
       "    \\entry\u001b[1m{\u001b[0m\u001b[1;36m41.5\u001b[0m\u001b[1m}\u001b[0m\u001b[1m{\u001b[0m.\u001b[1;36m1\u001b[0m\u001b[1m}\u001b[0m & \\entry\u001b[1m{\u001b[0m\u001b[1;36m39.7\u001b[0m\u001b[1m}\u001b[0m\u001b[1m{\u001b[0m.\u001b[1;36m2\u001b[0m\u001b[1m}\u001b[0m \\\\ \n",
       "    \\entry\u001b[1m{\u001b[0m\u001b[1;36m41.7\u001b[0m\u001b[1m}\u001b[0m\u001b[1m{\u001b[0m.\u001b[1;36m2\u001b[0m\u001b[1m}\u001b[0m & \\entry\u001b[1m{\u001b[0m\u001b[1;36m40.1\u001b[0m\u001b[1m}\u001b[0m\u001b[1m{\u001b[0m.\u001b[1;36m2\u001b[0m\u001b[1m}\u001b[0m \\\\ \n",
       "    \\entry\u001b[1m{\u001b[0m\u001b[1;36m44.8\u001b[0m\u001b[1m}\u001b[0m\u001b[1m{\u001b[0m.\u001b[1;36m1\u001b[0m\u001b[1m}\u001b[0m & \\entry\u001b[1m{\u001b[0m\u001b[1;36m44.2\u001b[0m\u001b[1m}\u001b[0m\u001b[1m{\u001b[0m.\u001b[1;36m1\u001b[0m\u001b[1m}\u001b[0m\n",
       "\\end\u001b[1m{\u001b[0mtabularx\u001b[1m}\u001b[0m\n"
      ]
     },
     "metadata": {},
     "output_type": "display_data"
    },
    {
     "data": {
      "text/html": [
       "<pre style=\"white-space:pre;overflow-x:auto;line-height:normal;font-family:Menlo,'DejaVu Sans Mono',consolas,'Courier New',monospace\">\n",
       "\n",
       "\n",
       "\n",
       "</pre>\n"
      ],
      "text/plain": [
       "\n",
       "\n",
       "\n",
       "\n"
      ]
     },
     "metadata": {},
     "output_type": "display_data"
    },
    {
     "data": {
      "text/html": [
       "<pre style=\"white-space:pre;overflow-x:auto;line-height:normal;font-family:Menlo,'DejaVu Sans Mono',consolas,'Courier New',monospace\">——— model: gaussian ———\n",
       "\n",
       "</pre>\n"
      ],
      "text/plain": [
       "——— model: gaussian ———\n",
       "\n"
      ]
     },
     "metadata": {},
     "output_type": "display_data"
    },
    {
     "data": {
      "text/html": [
       "<pre style=\"white-space:pre;overflow-x:auto;line-height:normal;font-family:Menlo,'DejaVu Sans Mono',consolas,'Courier New',monospace\">\\begin<span style=\"font-weight: bold\">{</span>tabularx<span style=\"font-weight: bold\">}{</span>34mm<span style=\"font-weight: bold\">}{</span>CC<span style=\"font-weight: bold\">}</span>\n",
       "    \\entry<span style=\"font-weight: bold\">{</span><span style=\"color: #008080; text-decoration-color: #008080; font-weight: bold\">160.3</span><span style=\"font-weight: bold\">}{</span>.<span style=\"color: #008080; text-decoration-color: #008080; font-weight: bold\">1</span><span style=\"font-weight: bold\">}</span> &amp; \\entry<span style=\"font-weight: bold\">{</span><span style=\"color: #008080; text-decoration-color: #008080; font-weight: bold\">154.4</span><span style=\"font-weight: bold\">}{</span>.<span style=\"color: #008080; text-decoration-color: #008080; font-weight: bold\">1</span><span style=\"font-weight: bold\">}</span> \\\\ \n",
       "    \\entry<span style=\"font-weight: bold\">{</span><span style=\"color: #008080; text-decoration-color: #008080; font-weight: bold\">160.3</span><span style=\"font-weight: bold\">}{</span>.<span style=\"color: #008080; text-decoration-color: #008080; font-weight: bold\">1</span><span style=\"font-weight: bold\">}</span> &amp; \\entry<span style=\"font-weight: bold\">{</span><span style=\"color: #008080; text-decoration-color: #008080; font-weight: bold\">154.4</span><span style=\"font-weight: bold\">}{</span>.<span style=\"color: #008080; text-decoration-color: #008080; font-weight: bold\">1</span><span style=\"font-weight: bold\">}</span>\n",
       "\\end<span style=\"font-weight: bold\">{</span>tabularx<span style=\"font-weight: bold\">}</span>\n",
       "&amp;\n",
       "\\begin<span style=\"font-weight: bold\">{</span>tabularx<span style=\"font-weight: bold\">}{</span>34mm<span style=\"font-weight: bold\">}{</span>CC<span style=\"font-weight: bold\">}</span>\n",
       "    \\entry<span style=\"font-weight: bold\">{</span><span style=\"color: #008080; text-decoration-color: #008080; font-weight: bold\">165.9</span><span style=\"font-weight: bold\">}{</span>.<span style=\"color: #008080; text-decoration-color: #008080; font-weight: bold\">1</span><span style=\"font-weight: bold\">}</span> &amp; \\entry<span style=\"font-weight: bold\">{</span><span style=\"color: #008080; text-decoration-color: #008080; font-weight: bold\">149.2</span><span style=\"font-weight: bold\">}{</span>.<span style=\"color: #008080; text-decoration-color: #008080; font-weight: bold\">0</span><span style=\"font-weight: bold\">}</span> \\\\ \n",
       "    \\entry<span style=\"font-weight: bold\">{</span><span style=\"color: #008080; text-decoration-color: #008080; font-weight: bold\">165.9</span><span style=\"font-weight: bold\">}{</span>.<span style=\"color: #008080; text-decoration-color: #008080; font-weight: bold\">1</span><span style=\"font-weight: bold\">}</span> &amp; \\entry<span style=\"font-weight: bold\">{</span><span style=\"color: #008080; text-decoration-color: #008080; font-weight: bold\">149.2</span><span style=\"font-weight: bold\">}{</span>.<span style=\"color: #008080; text-decoration-color: #008080; font-weight: bold\">1</span><span style=\"font-weight: bold\">}</span>\n",
       "\\end<span style=\"font-weight: bold\">{</span>tabularx<span style=\"font-weight: bold\">}</span>\n",
       "&amp;\n",
       "\\begin<span style=\"font-weight: bold\">{</span>tabularx<span style=\"font-weight: bold\">}{</span>34mm<span style=\"font-weight: bold\">}{</span>CC<span style=\"font-weight: bold\">}</span>\n",
       "    \\entry<span style=\"font-weight: bold\">{</span><span style=\"color: #008080; text-decoration-color: #008080; font-weight: bold\">40.6</span><span style=\"font-weight: bold\">}{</span>.<span style=\"color: #008080; text-decoration-color: #008080; font-weight: bold\">1</span><span style=\"font-weight: bold\">}</span> &amp; \\entry<span style=\"font-weight: bold\">{</span><span style=\"color: #008080; text-decoration-color: #008080; font-weight: bold\">40.0</span><span style=\"font-weight: bold\">}{</span>.<span style=\"color: #008080; text-decoration-color: #008080; font-weight: bold\">1</span><span style=\"font-weight: bold\">}</span> \\\\ \n",
       "    \\entry<span style=\"font-weight: bold\">{</span><span style=\"color: #008080; text-decoration-color: #008080; font-weight: bold\">40.7</span><span style=\"font-weight: bold\">}{</span>.<span style=\"color: #008080; text-decoration-color: #008080; font-weight: bold\">1</span><span style=\"font-weight: bold\">}</span> &amp; \\entry<span style=\"font-weight: bold\">{</span><span style=\"color: #008080; text-decoration-color: #008080; font-weight: bold\">40.1</span><span style=\"font-weight: bold\">}{</span>.<span style=\"color: #008080; text-decoration-color: #008080; font-weight: bold\">0</span><span style=\"font-weight: bold\">}</span>\n",
       "\\end<span style=\"font-weight: bold\">{</span>tabularx<span style=\"font-weight: bold\">}</span>\n",
       "</pre>\n"
      ],
      "text/plain": [
       "\\begin\u001b[1m{\u001b[0mtabularx\u001b[1m}\u001b[0m\u001b[1m{\u001b[0m34mm\u001b[1m}\u001b[0m\u001b[1m{\u001b[0mCC\u001b[1m}\u001b[0m\n",
       "    \\entry\u001b[1m{\u001b[0m\u001b[1;36m160.3\u001b[0m\u001b[1m}\u001b[0m\u001b[1m{\u001b[0m.\u001b[1;36m1\u001b[0m\u001b[1m}\u001b[0m & \\entry\u001b[1m{\u001b[0m\u001b[1;36m154.4\u001b[0m\u001b[1m}\u001b[0m\u001b[1m{\u001b[0m.\u001b[1;36m1\u001b[0m\u001b[1m}\u001b[0m \\\\ \n",
       "    \\entry\u001b[1m{\u001b[0m\u001b[1;36m160.3\u001b[0m\u001b[1m}\u001b[0m\u001b[1m{\u001b[0m.\u001b[1;36m1\u001b[0m\u001b[1m}\u001b[0m & \\entry\u001b[1m{\u001b[0m\u001b[1;36m154.4\u001b[0m\u001b[1m}\u001b[0m\u001b[1m{\u001b[0m.\u001b[1;36m1\u001b[0m\u001b[1m}\u001b[0m\n",
       "\\end\u001b[1m{\u001b[0mtabularx\u001b[1m}\u001b[0m\n",
       "&\n",
       "\\begin\u001b[1m{\u001b[0mtabularx\u001b[1m}\u001b[0m\u001b[1m{\u001b[0m34mm\u001b[1m}\u001b[0m\u001b[1m{\u001b[0mCC\u001b[1m}\u001b[0m\n",
       "    \\entry\u001b[1m{\u001b[0m\u001b[1;36m165.9\u001b[0m\u001b[1m}\u001b[0m\u001b[1m{\u001b[0m.\u001b[1;36m1\u001b[0m\u001b[1m}\u001b[0m & \\entry\u001b[1m{\u001b[0m\u001b[1;36m149.2\u001b[0m\u001b[1m}\u001b[0m\u001b[1m{\u001b[0m.\u001b[1;36m0\u001b[0m\u001b[1m}\u001b[0m \\\\ \n",
       "    \\entry\u001b[1m{\u001b[0m\u001b[1;36m165.9\u001b[0m\u001b[1m}\u001b[0m\u001b[1m{\u001b[0m.\u001b[1;36m1\u001b[0m\u001b[1m}\u001b[0m & \\entry\u001b[1m{\u001b[0m\u001b[1;36m149.2\u001b[0m\u001b[1m}\u001b[0m\u001b[1m{\u001b[0m.\u001b[1;36m1\u001b[0m\u001b[1m}\u001b[0m\n",
       "\\end\u001b[1m{\u001b[0mtabularx\u001b[1m}\u001b[0m\n",
       "&\n",
       "\\begin\u001b[1m{\u001b[0mtabularx\u001b[1m}\u001b[0m\u001b[1m{\u001b[0m34mm\u001b[1m}\u001b[0m\u001b[1m{\u001b[0mCC\u001b[1m}\u001b[0m\n",
       "    \\entry\u001b[1m{\u001b[0m\u001b[1;36m40.6\u001b[0m\u001b[1m}\u001b[0m\u001b[1m{\u001b[0m.\u001b[1;36m1\u001b[0m\u001b[1m}\u001b[0m & \\entry\u001b[1m{\u001b[0m\u001b[1;36m40.0\u001b[0m\u001b[1m}\u001b[0m\u001b[1m{\u001b[0m.\u001b[1;36m1\u001b[0m\u001b[1m}\u001b[0m \\\\ \n",
       "    \\entry\u001b[1m{\u001b[0m\u001b[1;36m40.7\u001b[0m\u001b[1m}\u001b[0m\u001b[1m{\u001b[0m.\u001b[1;36m1\u001b[0m\u001b[1m}\u001b[0m & \\entry\u001b[1m{\u001b[0m\u001b[1;36m40.1\u001b[0m\u001b[1m}\u001b[0m\u001b[1m{\u001b[0m.\u001b[1;36m0\u001b[0m\u001b[1m}\u001b[0m\n",
       "\\end\u001b[1m{\u001b[0mtabularx\u001b[1m}\u001b[0m\n"
      ]
     },
     "metadata": {},
     "output_type": "display_data"
    },
    {
     "data": {
      "text/html": [
       "<pre style=\"white-space:pre;overflow-x:auto;line-height:normal;font-family:Menlo,'DejaVu Sans Mono',consolas,'Courier New',monospace\">\n",
       "\n",
       "\n",
       "\n",
       "</pre>\n"
      ],
      "text/plain": [
       "\n",
       "\n",
       "\n",
       "\n"
      ]
     },
     "metadata": {},
     "output_type": "display_data"
    },
    {
     "data": {
      "text/html": [
       "<pre style=\"white-space:pre;overflow-x:auto;line-height:normal;font-family:Menlo,'DejaVu Sans Mono',consolas,'Courier New',monospace\">——— model: categorical ———\n",
       "\n",
       "</pre>\n"
      ],
      "text/plain": [
       "——— model: categorical ———\n",
       "\n"
      ]
     },
     "metadata": {},
     "output_type": "display_data"
    },
    {
     "data": {
      "text/html": [
       "<pre style=\"white-space:pre;overflow-x:auto;line-height:normal;font-family:Menlo,'DejaVu Sans Mono',consolas,'Courier New',monospace\">\\begin<span style=\"font-weight: bold\">{</span>tabularx<span style=\"font-weight: bold\">}{</span>34mm<span style=\"font-weight: bold\">}{</span>CC<span style=\"font-weight: bold\">}</span>\n",
       "    \\entry<span style=\"font-weight: bold\">{</span><span style=\"color: #008080; text-decoration-color: #008080; font-weight: bold\">174.9</span><span style=\"font-weight: bold\">}{</span>.<span style=\"color: #008080; text-decoration-color: #008080; font-weight: bold\">1</span><span style=\"font-weight: bold\">}</span> &amp; \\entry<span style=\"font-weight: bold\">{</span><span style=\"color: #008080; text-decoration-color: #008080; font-weight: bold\">186.3</span><span style=\"font-weight: bold\">}{</span>.<span style=\"color: #008080; text-decoration-color: #008080; font-weight: bold\">8</span><span style=\"font-weight: bold\">}</span> \\\\ \n",
       "    \\entry<span style=\"font-weight: bold\">{</span><span style=\"color: #008080; text-decoration-color: #008080; font-weight: bold\">170.5</span><span style=\"font-weight: bold\">}{</span>.<span style=\"color: #008080; text-decoration-color: #008080; font-weight: bold\">1</span><span style=\"font-weight: bold\">}</span> &amp; \\entry<span style=\"font-weight: bold\">{</span><span style=\"color: #008080; text-decoration-color: #008080; font-weight: bold\">171.9</span><span style=\"font-weight: bold\">}{</span>.<span style=\"color: #008080; text-decoration-color: #008080; font-weight: bold\">2</span><span style=\"font-weight: bold\">}</span> \\\\ \n",
       "    \\entry<span style=\"font-weight: bold\">{</span><span style=\"color: #008080; text-decoration-color: #008080; font-weight: bold\">174.2</span><span style=\"font-weight: bold\">}{</span>.<span style=\"color: #008080; text-decoration-color: #008080; font-weight: bold\">2</span><span style=\"font-weight: bold\">}</span> &amp; \\entry<span style=\"font-weight: bold\">{</span><span style=\"color: #008080; text-decoration-color: #008080; font-weight: bold\">181.1</span><span style=\"font-weight: bold\">}{</span>.<span style=\"color: #008080; text-decoration-color: #008080; font-weight: bold\">3</span><span style=\"font-weight: bold\">}</span>\n",
       "\\end<span style=\"font-weight: bold\">{</span>tabularx<span style=\"font-weight: bold\">}</span>\n",
       "&amp;\n",
       "\\begin<span style=\"font-weight: bold\">{</span>tabularx<span style=\"font-weight: bold\">}{</span>34mm<span style=\"font-weight: bold\">}{</span>CC<span style=\"font-weight: bold\">}</span>\n",
       "    \\entry<span style=\"font-weight: bold\">{</span><span style=\"color: #008080; text-decoration-color: #008080; font-weight: bold\">177.1</span><span style=\"font-weight: bold\">}{</span>.<span style=\"color: #008080; text-decoration-color: #008080; font-weight: bold\">1</span><span style=\"font-weight: bold\">}</span> &amp; \\entry<span style=\"font-weight: bold\">{</span><span style=\"color: #008080; text-decoration-color: #008080; font-weight: bold\">180.6</span><span style=\"font-weight: bold\">}{</span>.<span style=\"color: #008080; text-decoration-color: #008080; font-weight: bold\">5</span><span style=\"font-weight: bold\">}</span> \\\\ \n",
       "    \\entry<span style=\"font-weight: bold\">{</span><span style=\"color: #008080; text-decoration-color: #008080; font-weight: bold\">174.7</span><span style=\"font-weight: bold\">}{</span>.<span style=\"color: #008080; text-decoration-color: #008080; font-weight: bold\">1</span><span style=\"font-weight: bold\">}</span> &amp; \\entry<span style=\"font-weight: bold\">{</span><span style=\"color: #008080; text-decoration-color: #008080; font-weight: bold\">176.5</span><span style=\"font-weight: bold\">}{</span>.<span style=\"color: #008080; text-decoration-color: #008080; font-weight: bold\">1</span><span style=\"font-weight: bold\">}</span> \\\\ \n",
       "    \\entry<span style=\"font-weight: bold\">{</span><span style=\"color: #008080; text-decoration-color: #008080; font-weight: bold\">180.2</span><span style=\"font-weight: bold\">}{</span>.<span style=\"color: #008080; text-decoration-color: #008080; font-weight: bold\">0</span><span style=\"font-weight: bold\">}</span> &amp; \\entry<span style=\"font-weight: bold\">{</span><span style=\"color: #008080; text-decoration-color: #008080; font-weight: bold\">185.6</span><span style=\"font-weight: bold\">}{</span>.<span style=\"color: #008080; text-decoration-color: #008080; font-weight: bold\">2</span><span style=\"font-weight: bold\">}</span>\n",
       "\\end<span style=\"font-weight: bold\">{</span>tabularx<span style=\"font-weight: bold\">}</span>\n",
       "&amp;\n",
       "\\begin<span style=\"font-weight: bold\">{</span>tabularx<span style=\"font-weight: bold\">}{</span>34mm<span style=\"font-weight: bold\">}{</span>CC<span style=\"font-weight: bold\">}</span>\n",
       "    \\entry<span style=\"font-weight: bold\">{</span><span style=\"color: #008080; text-decoration-color: #008080; font-weight: bold\">56.1</span><span style=\"font-weight: bold\">}{</span>.<span style=\"color: #008080; text-decoration-color: #008080; font-weight: bold\">7</span><span style=\"font-weight: bold\">}</span> &amp; \\entry<span style=\"font-weight: bold\">{</span><span style=\"color: #008080; text-decoration-color: #008080; font-weight: bold\">59.1</span><span style=\"font-weight: bold\">}{</span>.<span style=\"color: #008080; text-decoration-color: #008080; font-weight: bold\">0</span><span style=\"font-weight: bold\">}</span> \\\\ \n",
       "    \\entry<span style=\"font-weight: bold\">{</span><span style=\"color: #008080; text-decoration-color: #008080; font-weight: bold\">39.7</span><span style=\"font-weight: bold\">}{</span>.<span style=\"color: #008080; text-decoration-color: #008080; font-weight: bold\">2</span><span style=\"font-weight: bold\">}</span> &amp; \\entry<span style=\"font-weight: bold\">{</span><span style=\"color: #008080; text-decoration-color: #008080; font-weight: bold\">59.1</span><span style=\"font-weight: bold\">}{</span>.<span style=\"color: #008080; text-decoration-color: #008080; font-weight: bold\">0</span><span style=\"font-weight: bold\">}</span> \\\\ \n",
       "    \\entry<span style=\"font-weight: bold\">{</span><span style=\"color: #008080; text-decoration-color: #008080; font-weight: bold\">49.3</span><span style=\"font-weight: bold\">}{</span>.<span style=\"color: #008080; text-decoration-color: #008080; font-weight: bold\">1</span><span style=\"font-weight: bold\">}</span> &amp; \\entry<span style=\"font-weight: bold\">{</span><span style=\"color: #008080; text-decoration-color: #008080; font-weight: bold\">63.8</span><span style=\"font-weight: bold\">}{</span><span style=\"color: #008080; text-decoration-color: #008080; font-weight: bold\">3.4</span><span style=\"font-weight: bold\">}</span>\n",
       "\\end<span style=\"font-weight: bold\">{</span>tabularx<span style=\"font-weight: bold\">}</span>\n",
       "</pre>\n"
      ],
      "text/plain": [
       "\\begin\u001b[1m{\u001b[0mtabularx\u001b[1m}\u001b[0m\u001b[1m{\u001b[0m34mm\u001b[1m}\u001b[0m\u001b[1m{\u001b[0mCC\u001b[1m}\u001b[0m\n",
       "    \\entry\u001b[1m{\u001b[0m\u001b[1;36m174.9\u001b[0m\u001b[1m}\u001b[0m\u001b[1m{\u001b[0m.\u001b[1;36m1\u001b[0m\u001b[1m}\u001b[0m & \\entry\u001b[1m{\u001b[0m\u001b[1;36m186.3\u001b[0m\u001b[1m}\u001b[0m\u001b[1m{\u001b[0m.\u001b[1;36m8\u001b[0m\u001b[1m}\u001b[0m \\\\ \n",
       "    \\entry\u001b[1m{\u001b[0m\u001b[1;36m170.5\u001b[0m\u001b[1m}\u001b[0m\u001b[1m{\u001b[0m.\u001b[1;36m1\u001b[0m\u001b[1m}\u001b[0m & \\entry\u001b[1m{\u001b[0m\u001b[1;36m171.9\u001b[0m\u001b[1m}\u001b[0m\u001b[1m{\u001b[0m.\u001b[1;36m2\u001b[0m\u001b[1m}\u001b[0m \\\\ \n",
       "    \\entry\u001b[1m{\u001b[0m\u001b[1;36m174.2\u001b[0m\u001b[1m}\u001b[0m\u001b[1m{\u001b[0m.\u001b[1;36m2\u001b[0m\u001b[1m}\u001b[0m & \\entry\u001b[1m{\u001b[0m\u001b[1;36m181.1\u001b[0m\u001b[1m}\u001b[0m\u001b[1m{\u001b[0m.\u001b[1;36m3\u001b[0m\u001b[1m}\u001b[0m\n",
       "\\end\u001b[1m{\u001b[0mtabularx\u001b[1m}\u001b[0m\n",
       "&\n",
       "\\begin\u001b[1m{\u001b[0mtabularx\u001b[1m}\u001b[0m\u001b[1m{\u001b[0m34mm\u001b[1m}\u001b[0m\u001b[1m{\u001b[0mCC\u001b[1m}\u001b[0m\n",
       "    \\entry\u001b[1m{\u001b[0m\u001b[1;36m177.1\u001b[0m\u001b[1m}\u001b[0m\u001b[1m{\u001b[0m.\u001b[1;36m1\u001b[0m\u001b[1m}\u001b[0m & \\entry\u001b[1m{\u001b[0m\u001b[1;36m180.6\u001b[0m\u001b[1m}\u001b[0m\u001b[1m{\u001b[0m.\u001b[1;36m5\u001b[0m\u001b[1m}\u001b[0m \\\\ \n",
       "    \\entry\u001b[1m{\u001b[0m\u001b[1;36m174.7\u001b[0m\u001b[1m}\u001b[0m\u001b[1m{\u001b[0m.\u001b[1;36m1\u001b[0m\u001b[1m}\u001b[0m & \\entry\u001b[1m{\u001b[0m\u001b[1;36m176.5\u001b[0m\u001b[1m}\u001b[0m\u001b[1m{\u001b[0m.\u001b[1;36m1\u001b[0m\u001b[1m}\u001b[0m \\\\ \n",
       "    \\entry\u001b[1m{\u001b[0m\u001b[1;36m180.2\u001b[0m\u001b[1m}\u001b[0m\u001b[1m{\u001b[0m.\u001b[1;36m0\u001b[0m\u001b[1m}\u001b[0m & \\entry\u001b[1m{\u001b[0m\u001b[1;36m185.6\u001b[0m\u001b[1m}\u001b[0m\u001b[1m{\u001b[0m.\u001b[1;36m2\u001b[0m\u001b[1m}\u001b[0m\n",
       "\\end\u001b[1m{\u001b[0mtabularx\u001b[1m}\u001b[0m\n",
       "&\n",
       "\\begin\u001b[1m{\u001b[0mtabularx\u001b[1m}\u001b[0m\u001b[1m{\u001b[0m34mm\u001b[1m}\u001b[0m\u001b[1m{\u001b[0mCC\u001b[1m}\u001b[0m\n",
       "    \\entry\u001b[1m{\u001b[0m\u001b[1;36m56.1\u001b[0m\u001b[1m}\u001b[0m\u001b[1m{\u001b[0m.\u001b[1;36m7\u001b[0m\u001b[1m}\u001b[0m & \\entry\u001b[1m{\u001b[0m\u001b[1;36m59.1\u001b[0m\u001b[1m}\u001b[0m\u001b[1m{\u001b[0m.\u001b[1;36m0\u001b[0m\u001b[1m}\u001b[0m \\\\ \n",
       "    \\entry\u001b[1m{\u001b[0m\u001b[1;36m39.7\u001b[0m\u001b[1m}\u001b[0m\u001b[1m{\u001b[0m.\u001b[1;36m2\u001b[0m\u001b[1m}\u001b[0m & \\entry\u001b[1m{\u001b[0m\u001b[1;36m59.1\u001b[0m\u001b[1m}\u001b[0m\u001b[1m{\u001b[0m.\u001b[1;36m0\u001b[0m\u001b[1m}\u001b[0m \\\\ \n",
       "    \\entry\u001b[1m{\u001b[0m\u001b[1;36m49.3\u001b[0m\u001b[1m}\u001b[0m\u001b[1m{\u001b[0m.\u001b[1;36m1\u001b[0m\u001b[1m}\u001b[0m & \\entry\u001b[1m{\u001b[0m\u001b[1;36m63.8\u001b[0m\u001b[1m}\u001b[0m\u001b[1m{\u001b[0m\u001b[1;36m3.4\u001b[0m\u001b[1m}\u001b[0m\n",
       "\\end\u001b[1m{\u001b[0mtabularx\u001b[1m}\u001b[0m\n"
      ]
     },
     "metadata": {},
     "output_type": "display_data"
    },
    {
     "data": {
      "text/html": [
       "<pre style=\"white-space:pre;overflow-x:auto;line-height:normal;font-family:Menlo,'DejaVu Sans Mono',consolas,'Courier New',monospace\">\n",
       "\n",
       "\n",
       "\n",
       "</pre>\n"
      ],
      "text/plain": [
       "\n",
       "\n",
       "\n",
       "\n"
      ]
     },
     "metadata": {},
     "output_type": "display_data"
    },
    {
     "data": {
      "text/html": [
       "<pre style=\"white-space:pre;overflow-x:auto;line-height:normal;font-family:Menlo,'DejaVu Sans Mono',consolas,'Courier New',monospace\">——— model: laplace ———\n",
       "\n",
       "</pre>\n"
      ],
      "text/plain": [
       "——— model: laplace ———\n",
       "\n"
      ]
     },
     "metadata": {},
     "output_type": "display_data"
    },
    {
     "data": {
      "text/html": [
       "<pre style=\"white-space:pre;overflow-x:auto;line-height:normal;font-family:Menlo,'DejaVu Sans Mono',consolas,'Courier New',monospace\">\\begin<span style=\"font-weight: bold\">{</span>tabularx<span style=\"font-weight: bold\">}{</span>34mm<span style=\"font-weight: bold\">}{</span>CC<span style=\"font-weight: bold\">}</span>\n",
       "    \\entry<span style=\"font-weight: bold\">{</span><span style=\"color: #008080; text-decoration-color: #008080; font-weight: bold\">167.3</span><span style=\"font-weight: bold\">}{</span>.<span style=\"color: #008080; text-decoration-color: #008080; font-weight: bold\">0</span><span style=\"font-weight: bold\">}</span> &amp; \\entry<span style=\"font-weight: bold\">{</span><span style=\"color: #008080; text-decoration-color: #008080; font-weight: bold\">159.0</span><span style=\"font-weight: bold\">}{</span>.<span style=\"color: #008080; text-decoration-color: #008080; font-weight: bold\">2</span><span style=\"font-weight: bold\">}</span> \\\\ \n",
       "    \\entry<span style=\"font-weight: bold\">{</span><span style=\"color: #008080; text-decoration-color: #008080; font-weight: bold\">167.3</span><span style=\"font-weight: bold\">}{</span>.<span style=\"color: #008080; text-decoration-color: #008080; font-weight: bold\">0</span><span style=\"font-weight: bold\">}</span> &amp; \\entry<span style=\"font-weight: bold\">{</span><span style=\"color: #008080; text-decoration-color: #008080; font-weight: bold\">159.2</span><span style=\"font-weight: bold\">}{</span>.<span style=\"color: #008080; text-decoration-color: #008080; font-weight: bold\">2</span><span style=\"font-weight: bold\">}</span>\n",
       "\\end<span style=\"font-weight: bold\">{</span>tabularx<span style=\"font-weight: bold\">}</span>\n",
       "&amp;\n",
       "\\begin<span style=\"font-weight: bold\">{</span>tabularx<span style=\"font-weight: bold\">}{</span>34mm<span style=\"font-weight: bold\">}{</span>CC<span style=\"font-weight: bold\">}</span>\n",
       "    \\entry<span style=\"font-weight: bold\">{</span><span style=\"color: #008080; text-decoration-color: #008080; font-weight: bold\">170.1</span><span style=\"font-weight: bold\">}{</span>.<span style=\"color: #008080; text-decoration-color: #008080; font-weight: bold\">1</span><span style=\"font-weight: bold\">}</span> &amp; \\entry<span style=\"font-weight: bold\">{</span><span style=\"color: #008080; text-decoration-color: #008080; font-weight: bold\">154.3</span><span style=\"font-weight: bold\">}{</span>.<span style=\"color: #008080; text-decoration-color: #008080; font-weight: bold\">1</span><span style=\"font-weight: bold\">}</span> \\\\ \n",
       "    \\entry<span style=\"font-weight: bold\">{</span><span style=\"color: #008080; text-decoration-color: #008080; font-weight: bold\">170.1</span><span style=\"font-weight: bold\">}{</span>.<span style=\"color: #008080; text-decoration-color: #008080; font-weight: bold\">1</span><span style=\"font-weight: bold\">}</span> &amp; \\entry<span style=\"font-weight: bold\">{</span><span style=\"color: #008080; text-decoration-color: #008080; font-weight: bold\">154.5</span><span style=\"font-weight: bold\">}{</span>.<span style=\"color: #008080; text-decoration-color: #008080; font-weight: bold\">1</span><span style=\"font-weight: bold\">}</span>\n",
       "\\end<span style=\"font-weight: bold\">{</span>tabularx<span style=\"font-weight: bold\">}</span>\n",
       "&amp;\n",
       "\\begin<span style=\"font-weight: bold\">{</span>tabularx<span style=\"font-weight: bold\">}{</span>34mm<span style=\"font-weight: bold\">}{</span>CC<span style=\"font-weight: bold\">}</span>\n",
       "    \\entry<span style=\"font-weight: bold\">{</span><span style=\"color: #008080; text-decoration-color: #008080; font-weight: bold\">42.1</span><span style=\"font-weight: bold\">}{</span>.<span style=\"color: #008080; text-decoration-color: #008080; font-weight: bold\">1</span><span style=\"font-weight: bold\">}</span> &amp; \\entry<span style=\"font-weight: bold\">{</span><span style=\"color: #008080; text-decoration-color: #008080; font-weight: bold\">41.0</span><span style=\"font-weight: bold\">}{</span>.<span style=\"color: #008080; text-decoration-color: #008080; font-weight: bold\">0</span><span style=\"font-weight: bold\">}</span> \\\\ \n",
       "    \\entry<span style=\"font-weight: bold\">{</span><span style=\"color: #008080; text-decoration-color: #008080; font-weight: bold\">42.1</span><span style=\"font-weight: bold\">}{</span>.<span style=\"color: #008080; text-decoration-color: #008080; font-weight: bold\">0</span><span style=\"font-weight: bold\">}</span> &amp; \\entry<span style=\"font-weight: bold\">{</span><span style=\"color: #008080; text-decoration-color: #008080; font-weight: bold\">41.0</span><span style=\"font-weight: bold\">}{</span>.<span style=\"color: #008080; text-decoration-color: #008080; font-weight: bold\">0</span><span style=\"font-weight: bold\">}</span>\n",
       "\\end<span style=\"font-weight: bold\">{</span>tabularx<span style=\"font-weight: bold\">}</span>\n",
       "</pre>\n"
      ],
      "text/plain": [
       "\\begin\u001b[1m{\u001b[0mtabularx\u001b[1m}\u001b[0m\u001b[1m{\u001b[0m34mm\u001b[1m}\u001b[0m\u001b[1m{\u001b[0mCC\u001b[1m}\u001b[0m\n",
       "    \\entry\u001b[1m{\u001b[0m\u001b[1;36m167.3\u001b[0m\u001b[1m}\u001b[0m\u001b[1m{\u001b[0m.\u001b[1;36m0\u001b[0m\u001b[1m}\u001b[0m & \\entry\u001b[1m{\u001b[0m\u001b[1;36m159.0\u001b[0m\u001b[1m}\u001b[0m\u001b[1m{\u001b[0m.\u001b[1;36m2\u001b[0m\u001b[1m}\u001b[0m \\\\ \n",
       "    \\entry\u001b[1m{\u001b[0m\u001b[1;36m167.3\u001b[0m\u001b[1m}\u001b[0m\u001b[1m{\u001b[0m.\u001b[1;36m0\u001b[0m\u001b[1m}\u001b[0m & \\entry\u001b[1m{\u001b[0m\u001b[1;36m159.2\u001b[0m\u001b[1m}\u001b[0m\u001b[1m{\u001b[0m.\u001b[1;36m2\u001b[0m\u001b[1m}\u001b[0m\n",
       "\\end\u001b[1m{\u001b[0mtabularx\u001b[1m}\u001b[0m\n",
       "&\n",
       "\\begin\u001b[1m{\u001b[0mtabularx\u001b[1m}\u001b[0m\u001b[1m{\u001b[0m34mm\u001b[1m}\u001b[0m\u001b[1m{\u001b[0mCC\u001b[1m}\u001b[0m\n",
       "    \\entry\u001b[1m{\u001b[0m\u001b[1;36m170.1\u001b[0m\u001b[1m}\u001b[0m\u001b[1m{\u001b[0m.\u001b[1;36m1\u001b[0m\u001b[1m}\u001b[0m & \\entry\u001b[1m{\u001b[0m\u001b[1;36m154.3\u001b[0m\u001b[1m}\u001b[0m\u001b[1m{\u001b[0m.\u001b[1;36m1\u001b[0m\u001b[1m}\u001b[0m \\\\ \n",
       "    \\entry\u001b[1m{\u001b[0m\u001b[1;36m170.1\u001b[0m\u001b[1m}\u001b[0m\u001b[1m{\u001b[0m.\u001b[1;36m1\u001b[0m\u001b[1m}\u001b[0m & \\entry\u001b[1m{\u001b[0m\u001b[1;36m154.5\u001b[0m\u001b[1m}\u001b[0m\u001b[1m{\u001b[0m.\u001b[1;36m1\u001b[0m\u001b[1m}\u001b[0m\n",
       "\\end\u001b[1m{\u001b[0mtabularx\u001b[1m}\u001b[0m\n",
       "&\n",
       "\\begin\u001b[1m{\u001b[0mtabularx\u001b[1m}\u001b[0m\u001b[1m{\u001b[0m34mm\u001b[1m}\u001b[0m\u001b[1m{\u001b[0mCC\u001b[1m}\u001b[0m\n",
       "    \\entry\u001b[1m{\u001b[0m\u001b[1;36m42.1\u001b[0m\u001b[1m}\u001b[0m\u001b[1m{\u001b[0m.\u001b[1;36m1\u001b[0m\u001b[1m}\u001b[0m & \\entry\u001b[1m{\u001b[0m\u001b[1;36m41.0\u001b[0m\u001b[1m}\u001b[0m\u001b[1m{\u001b[0m.\u001b[1;36m0\u001b[0m\u001b[1m}\u001b[0m \\\\ \n",
       "    \\entry\u001b[1m{\u001b[0m\u001b[1;36m42.1\u001b[0m\u001b[1m}\u001b[0m\u001b[1m{\u001b[0m.\u001b[1;36m0\u001b[0m\u001b[1m}\u001b[0m & \\entry\u001b[1m{\u001b[0m\u001b[1;36m41.0\u001b[0m\u001b[1m}\u001b[0m\u001b[1m{\u001b[0m.\u001b[1;36m0\u001b[0m\u001b[1m}\u001b[0m\n",
       "\\end\u001b[1m{\u001b[0mtabularx\u001b[1m}\u001b[0m\n"
      ]
     },
     "metadata": {},
     "output_type": "display_data"
    },
    {
     "data": {
      "text/html": [
       "<pre style=\"white-space:pre;overflow-x:auto;line-height:normal;font-family:Menlo,'DejaVu Sans Mono',consolas,'Courier New',monospace\">\n",
       "\n",
       "\n",
       "\n",
       "</pre>\n"
      ],
      "text/plain": [
       "\n",
       "\n",
       "\n",
       "\n"
      ]
     },
     "metadata": {},
     "output_type": "display_data"
    }
   ],
   "source": [
    "for model in ['poisson', 'gaussian', 'categorical', 'laplace']:\n",
    "    table = table_entry_loss(model, df_agg)\n",
    "    print(f\"——— model: {model} ———\\n\")\n",
    "    print(table)\n",
    "    print('\\n\\n\\n')"
   ]
  },
  {
   "cell_type": "markdown",
   "id": "34a00bd4-eb81-49a5-8aa9-b736c6c346c6",
   "metadata": {},
   "source": [
    "## Figure 4"
   ]
  },
  {
   "cell_type": "markdown",
   "id": "8307bf66-af55-41c4-b593-c16090afa4bf",
   "metadata": {},
   "source": [
    "### Load df"
   ]
  },
  {
   "cell_type": "code",
   "execution_count": 27,
   "id": "a6dc9c29-b8a8-4bcb-866c-03bca5b9703e",
   "metadata": {},
   "outputs": [
    {
     "data": {
      "text/plain": [
       "(150, 9)"
      ]
     },
     "execution_count": 27,
     "metadata": {},
     "output_type": "execute_result"
    }
   ],
   "source": [
    "df = pjoin(root, 'df_main.df')\n",
    "df = pd.read_pickle(df)\n",
    "df = add_nelbo_diff(df)\n",
    "df.shape"
   ]
  },
  {
   "cell_type": "code",
   "execution_count": 28,
   "id": "2b7d2acf-8965-4a3a-b517-cc3dcaacee94",
   "metadata": {},
   "outputs": [
    {
     "data": {
      "image/png": "[encoded data removed]",
      "text/plain": [
       "<Figure size 600x400 with 6 Axes>"
      ]
     },
     "metadata": {},
     "output_type": "display_data"
    }
   ],
   "source": [
    "fig, axes = nelbo_point(df, scale=2, alpha=0.6)\n",
    "# fig.savefig(pjoin(fig_dir, 'nelbo_point.pdf'), **kws_fig)"
   ]
  },
  {
   "cell_type": "code",
   "execution_count": 29,
   "id": "22cf8f56-2a53-4b0a-9c59-638607b8f8ba",
   "metadata": {},
   "outputs": [
    {
     "data": {
      "image/png": "[encoded data removed]",
      "text/plain": [
       "<Figure size 660x440 with 6 Axes>"
      ]
     },
     "metadata": {},
     "output_type": "display_data"
    }
   ],
   "source": [
    "fig, axes = nelbo_point(df, scale=2.2, remove_lbls=False)"
   ]
  },
  {
   "cell_type": "code",
   "execution_count": 30,
   "id": "b62511a7-bf7d-4111-9988-82c88d249e92",
   "metadata": {},
   "outputs": [
    {
     "data": {
      "text/html": [
       "<div>\n",
       "<style scoped>\n",
       "    .dataframe tbody tr th:only-of-type {\n",
       "        vertical-align: middle;\n",
       "    }\n",
       "\n",
       "    .dataframe tbody tr th {\n",
       "        vertical-align: top;\n",
       "    }\n",
       "\n",
       "    .dataframe thead th {\n",
       "        text-align: right;\n",
       "    }\n",
       "</style>\n",
       "<table border=\"1\" class=\"dataframe\">\n",
       "  <thead>\n",
       "    <tr style=\"text-align: right;\">\n",
       "      <th></th>\n",
       "      <th></th>\n",
       "      <th>n_dims</th>\n",
       "      <th>seed</th>\n",
       "      <th>active</th>\n",
       "      <th>nelbo</th>\n",
       "      <th>nelbo_diff</th>\n",
       "    </tr>\n",
       "    <tr>\n",
       "      <th>type</th>\n",
       "      <th>method</th>\n",
       "      <th></th>\n",
       "      <th></th>\n",
       "      <th></th>\n",
       "      <th></th>\n",
       "      <th></th>\n",
       "    </tr>\n",
       "  </thead>\n",
       "  <tbody>\n",
       "    <tr>\n",
       "      <th rowspan=\"2\" valign=\"top\">gaussian</th>\n",
       "      <th>exact</th>\n",
       "      <td>512.0</td>\n",
       "      <td>3.0</td>\n",
       "      <td>0.170247</td>\n",
       "      <td>118.394539</td>\n",
       "      <td>0.062021</td>\n",
       "    </tr>\n",
       "    <tr>\n",
       "      <th>mc</th>\n",
       "      <td>512.0</td>\n",
       "      <td>3.0</td>\n",
       "      <td>0.145638</td>\n",
       "      <td>118.430450</td>\n",
       "      <td>0.142867</td>\n",
       "    </tr>\n",
       "    <tr>\n",
       "      <th rowspan=\"3\" valign=\"top\">poisson</th>\n",
       "      <th>exact</th>\n",
       "      <td>512.0</td>\n",
       "      <td>3.0</td>\n",
       "      <td>0.831901</td>\n",
       "      <td>123.472893</td>\n",
       "      <td>0.216889</td>\n",
       "    </tr>\n",
       "    <tr>\n",
       "      <th>mc</th>\n",
       "      <td>512.0</td>\n",
       "      <td>3.0</td>\n",
       "      <td>0.782227</td>\n",
       "      <td>123.759293</td>\n",
       "      <td>0.599133</td>\n",
       "    </tr>\n",
       "    <tr>\n",
       "      <th>st</th>\n",
       "      <td>512.0</td>\n",
       "      <td>3.0</td>\n",
       "      <td>0.742188</td>\n",
       "      <td>135.367767</td>\n",
       "      <td>9.887917</td>\n",
       "    </tr>\n",
       "  </tbody>\n",
       "</table>\n",
       "</div>"
      ],
      "text/plain": [
       "                 n_dims  seed    active       nelbo  nelbo_diff\n",
       "type     method                                                \n",
       "gaussian exact    512.0   3.0  0.170247  118.394539    0.062021\n",
       "         mc       512.0   3.0  0.145638  118.430450    0.142867\n",
       "poisson  exact    512.0   3.0  0.831901  123.472893    0.216889\n",
       "         mc       512.0   3.0  0.782227  123.759293    0.599133\n",
       "         st       512.0   3.0  0.742188  135.367767    9.887917"
      ]
     },
     "execution_count": 30,
     "metadata": {},
     "output_type": "execute_result"
    }
   ],
   "source": [
    "df.groupby(['type', 'method']).mean(numeric_only=True)"
   ]
  },
  {
   "cell_type": "markdown",
   "id": "51c6274f-fe70-4e63-bbff-4e73d42c2af4",
   "metadata": {},
   "source": [
    "## Figure 3"
   ]
  },
  {
   "cell_type": "code",
   "execution_count": 31,
   "id": "486adaaa-6eb4-48f3-88ff-eff249613597",
   "metadata": {},
   "outputs": [],
   "source": [
    "# HIDE CODE\n",
    "\n",
    "\n",
    "from matplotlib.collections import LineCollection\n",
    "\n",
    "\n",
    "def _get_df2p(dfs):\n",
    "    \n",
    "    # mse scores\n",
    "    df_mse = dfs['main'].copy()\n",
    "    df_mse = df_mse.loc[\n",
    "        (df_mse['enc_type'] == 'conv') &\n",
    "        (df_mse['dataset'] == 'DOVES') &\n",
    "        (df_mse['method'] == 'mc')\n",
    "    ].reset_index(drop=True)\n",
    "    \n",
    "    # lifetime scores\n",
    "    df_sprs = dfs['lifetime'].copy()\n",
    "    df_sprs = df_sprs.loc[\n",
    "        (df_sprs['enc_type'] == 'conv') &\n",
    "        (df_sprs['dataset'] == 'DOVES') &\n",
    "        (df_sprs['method'] == 'mc')\n",
    "    ].reset_index(drop=True)\n",
    "    df_sprs = df_sprs.groupby(by=['type', 'seed']).mean(\n",
    "        numeric_only=True)['lifetime'].reset_index()\n",
    "\n",
    "    # create df2p\n",
    "    df2p = collections.defaultdict(list)\n",
    "    looper = itertools.product(\n",
    "        df_mse['type'].unique(),\n",
    "        df_mse['seed'].unique(),\n",
    "    )\n",
    "    for mod, s in looper:\n",
    "        vals = {\n",
    "            'type': mod,\n",
    "            'seed': s,\n",
    "        }\n",
    "        vals['mse_map'] = df_mse.loc[\n",
    "            (df_mse['seed'] == s) &\n",
    "            (df_mse['type'] == mod),\n",
    "            'mse_map',\n",
    "        ].item()\n",
    "        vals['lifetime'] = df_sprs.loc[\n",
    "            (df_sprs['seed'] == s) &\n",
    "            (df_sprs['type'] == mod),\n",
    "            'lifetime',\n",
    "        ].item()\n",
    "        for k, v in vals.items():\n",
    "            df2p[k].append(v)\n",
    "    df2p = pd.DataFrame(df2p)\n",
    "\n",
    "    # load lca / ista\n",
    "    df_sc = dfs['sc'].copy()\n",
    "    df_sc = df_sc.loc[df_sc['quality'] == 'best']\n",
    "    df_sc = df_sc[['type', 'seed', 'mse_map', 'lifetime']]\n",
    "\n",
    "    # add lca / ista\n",
    "    df2p = pd.concat([\n",
    "        df2p,\n",
    "        df_sc,\n",
    "    ]).reset_index(drop=True)\n",
    "    \n",
    "    return df2p\n",
    "\n",
    "\n",
    "def sigmoid_beta_linear(x):\n",
    "    L, x0, k, b = [\n",
    "        0.72930579,\n",
    "        0.76495883,\n",
    "        3.39020406,\n",
    "        0.27468761,\n",
    "    ]\n",
    "    y = L / (1 + np.exp(-k*(x / 100 - x0))) + b\n",
    "    return (y)\n",
    "\n",
    "\n",
    "def sigmoid_lca_poisson(x):\n",
    "    L, x0, k, b = [\n",
    "        2.53656547e+02,\n",
    "        1.56483081e+00,\n",
    "        1.84206981e-01,\n",
    "        -2.52717804e+02,\n",
    "    ]\n",
    "    y = L / (1 + np.exp(-k * (x - x0))) + b\n",
    "    return y\n",
    "\n",
    "\n",
    "# plots part a\n",
    "\n",
    "def scatter_plot_vae_a():\n",
    "    fig, ax = create_figure(1, 1, (8, 4.5))\n",
    "    sns.scatterplot(\n",
    "        data=df2p.loc[df2p['type'].isin(hue_order)],\n",
    "        x='mse_map',\n",
    "        y='lifetime',\n",
    "        hue='type',\n",
    "        palette=pal,\n",
    "        hue_order=hue_order,\n",
    "        alpha=0.9,\n",
    "        s=200,\n",
    "        ax=ax,\n",
    "    )\n",
    "    for artist in ax.collections:\n",
    "        c = artist.get_facecolor()\n",
    "        artist.set_edgecolor(c)\n",
    "        artist.set_facecolor('none')\n",
    "        artist.set_lw(1.8)\n",
    "    ax.grid()\n",
    "    \n",
    "    # add line plot\n",
    "    xs = np.linspace(0, 245, 10000)\n",
    "    ys = sigmoid_beta_linear(xs)\n",
    "    \n",
    "    points = np.array([xs, ys]).T.reshape(-1, 1, 2)\n",
    "    segments = np.concatenate([points[:-1], points[1:]], axis=1)\n",
    "    norm = plt.Normalize(ys.min(), ys.max())\n",
    "    \n",
    "    lc = LineCollection(\n",
    "        segments,\n",
    "        norm=norm,\n",
    "        cmap='crest',\n",
    "        linewidth=3,\n",
    "        alpha=0.6,\n",
    "        linestyle='--',\n",
    "    )\n",
    "    lc.set_array(ys)\n",
    "    ax.add_collection(lc)\n",
    "    \n",
    "    # add beta crosses\n",
    "    sns.scatterplot(\n",
    "        data=df2p_linbeta,\n",
    "        x='mse_map',\n",
    "        y='lifetime',\n",
    "        hue='beta',\n",
    "        palette=pal_beta,\n",
    "        legend=True,\n",
    "        alpha=1.0,\n",
    "        s=100,\n",
    "        ax=ax,\n",
    "    )\n",
    "    \n",
    "    # final touch\n",
    "    ax.autoscale()\n",
    "    ax.set_ylim(0.3, 1.03)\n",
    "    ax.set_xlim(right=250)\n",
    "    ax.set(xlabel='', ylabel='')\n",
    "    ax.tick_params(axis='both', labelsize=15)\n",
    "    \n",
    "    # legend\n",
    "    sns.move_legend(ax, loc='lower right', fontsize=12.0)\n",
    "    legend = ax.get_legend()\n",
    "    legend.set_title('')\n",
    "    \n",
    "    for handle in legend.legendHandles:\n",
    "        handle.set_sizes([handle.get_sizes()[0] * 3.0])\n",
    "    \n",
    "    for text in legend.get_texts():\n",
    "        try:\n",
    "            float(text.get_text())\n",
    "        except ValueError:\n",
    "            continue\n",
    "    \n",
    "        b = float(text.get_text())\n",
    "        text.set_text(r\"$\\beta = $\" + f\" {b:0.2f}\")\n",
    "    \n",
    "    plt.show()\n",
    "\n",
    "    return fig, ax\n",
    "\n",
    "\n",
    "# plots part b\n",
    "\n",
    "def scatter_plot_vae_b():\n",
    "    fig, ax = create_figure(1, 1, (8, 4.5))\n",
    "    sns.scatterplot(\n",
    "        data=df2p.loc[df2p['type'].isin(hue_order)],\n",
    "        x='mse_map',\n",
    "        y='lifetime',\n",
    "        hue='type',\n",
    "        palette=pal,\n",
    "        hue_order=hue_order,\n",
    "        alpha=0.9,\n",
    "        s=200,\n",
    "        ax=ax,\n",
    "    )\n",
    "    for artist in ax.collections:\n",
    "        c = artist.get_facecolor()\n",
    "        artist.set_edgecolor(c)\n",
    "        artist.set_facecolor('none')\n",
    "        artist.set_lw(1.8)\n",
    "    ax.grid()\n",
    "    \n",
    "    # add line plot\n",
    "    xs = np.linspace(37, 115, 10000)\n",
    "    ys = sigmoid_lca_poisson(xs)\n",
    "    \n",
    "    points = np.array([xs, ys]).T.reshape(-1, 1, 2)\n",
    "    segments = np.concatenate([points[:-1], points[1:]], axis=1)\n",
    "    norm = plt.Normalize(ys.min(), ys.max())\n",
    "    \n",
    "    lc = LineCollection(\n",
    "        segments,\n",
    "        norm=norm,\n",
    "        cmap=sns.cubehelix_palette(as_cmap=True),\n",
    "        linewidth=3,\n",
    "        alpha=0.6,\n",
    "        linestyle='--',\n",
    "    )\n",
    "    lc.set_array(ys)\n",
    "    ax.add_collection(lc)\n",
    "    \n",
    "    # add beta crosses\n",
    "    sns.scatterplot(\n",
    "        data=df2p_lcs_inf,\n",
    "        x='mse_map',\n",
    "        y='lifetime',\n",
    "        hue='lamb',\n",
    "        palette=pal_lamb,\n",
    "        legend=True,\n",
    "        s=100,\n",
    "        ax=ax,\n",
    "    )\n",
    "    \n",
    "    # final touch\n",
    "    ax.autoscale()\n",
    "    ax.set_ylim(0.6, 1.0)\n",
    "    ax.set_xlim(right=125)\n",
    "    ax.set(xlabel='', ylabel='')\n",
    "    ax.tick_params(axis='both', labelsize=15)\n",
    "    \n",
    "    # legend\n",
    "    sns.move_legend(ax, loc='lower right', fontsize=12.0)\n",
    "    legend = ax.get_legend()\n",
    "    legend.set_title('')\n",
    "    \n",
    "    for handle in legend.legendHandles:\n",
    "        handle.set_sizes([handle.get_sizes()[0] * 3.0])\n",
    "    \n",
    "    for text in legend.get_texts():\n",
    "        try:\n",
    "            float(text.get_text())\n",
    "        except ValueError:\n",
    "            continue\n",
    "    \n",
    "        b = float(text.get_text())\n",
    "        msg = f\"poisson w/ LCA inference (\"\n",
    "        msg += r\"$\\beta_\\text{LCA} = $\" + f\" {b:0.1g})\"\n",
    "        text.set_text(msg)\n",
    "    \n",
    "    plt.show()\n",
    "\n",
    "    return fig, ax"
   ]
  },
  {
   "cell_type": "markdown",
   "id": "f726abfa-adab-46f8-b78d-bee76483fbdb",
   "metadata": {},
   "source": [
    "### Palette"
   ]
  },
  {
   "cell_type": "code",
   "execution_count": 32,
   "id": "6ec25ac4-761e-4118-8111-d777aff6d53d",
   "metadata": {},
   "outputs": [
    {
     "data": {
      "image/png": "[encoded data removed]",
      "text/plain": [
       "<Figure size 960x280 with 16 Axes>"
      ]
     },
     "metadata": {},
     "output_type": "display_data"
    },
    {
     "data": {
      "image/png": "[encoded data removed]",
      "text/plain": [
       "<Figure size 960x140 with 8 Axes>"
      ]
     },
     "metadata": {},
     "output_type": "display_data"
    },
    {
     "data": {
      "image/png": "[encoded data removed]",
      "text/plain": [
       "<Figure size 960x140 with 8 Axes>"
      ]
     },
     "metadata": {},
     "output_type": "display_data"
    }
   ],
   "source": [
    "pal, pal_beta, pal_lamb = get_palette()\n",
    "show_palette(pal)\n",
    "show_palette(pal_beta)\n",
    "show_palette(pal_lamb)"
   ]
  },
  {
   "cell_type": "markdown",
   "id": "43ae207c-c193-4fba-a433-7727b14f0a87",
   "metadata": {},
   "source": [
    "### Load dfs"
   ]
  },
  {
   "cell_type": "code",
   "execution_count": 33,
   "id": "b795907f-a673-47d9-93e6-3ef38d8e901f",
   "metadata": {},
   "outputs": [
    {
     "data": {
      "text/html": [
       "<pre style=\"white-space:pre;overflow-x:auto;line-height:normal;font-family:Menlo,'DejaVu Sans Mono',consolas,'Courier New',monospace\"><span style=\"font-weight: bold\">[</span><span style=\"color: #008000; text-decoration-color: #008000\">'main'</span>, <span style=\"color: #008000; text-decoration-color: #008000\">'lifetime'</span>, <span style=\"color: #008000; text-decoration-color: #008000\">'beta_main'</span>, <span style=\"color: #008000; text-decoration-color: #008000\">'beta_lifetime'</span>, <span style=\"color: #008000; text-decoration-color: #008000\">'sc'</span><span style=\"font-weight: bold\">]</span>\n",
       "</pre>\n"
      ],
      "text/plain": [
       "\u001b[1m[\u001b[0m\u001b[32m'main'\u001b[0m, \u001b[32m'lifetime'\u001b[0m, \u001b[32m'beta_main'\u001b[0m, \u001b[32m'beta_lifetime'\u001b[0m, \u001b[32m'sc'\u001b[0m\u001b[1m]\u001b[0m\n"
      ]
     },
     "metadata": {},
     "output_type": "display_data"
    }
   ],
   "source": [
    "dfs = [\n",
    "    'main',\n",
    "    'lifetime',\n",
    "    'beta_main',\n",
    "    'beta_lifetime',\n",
    "]\n",
    "dfs = {\n",
    "    k: pd.read_pickle(pjoin(root, f\"df_{k}.df\")).drop(columns=[\n",
    "        'checkpoint', 'timestamp', 'n_params',\n",
    "    ]) for k in dfs\n",
    "}\n",
    "dfs['sc'] = pd.read_pickle(pjoin(root, 'df_sc.df'))\n",
    "print(list(dfs))"
   ]
  },
  {
   "cell_type": "code",
   "execution_count": 34,
   "id": "49532d68-ea10-4611-a4a0-7c5fabbab457",
   "metadata": {},
   "outputs": [
    {
     "data": {
      "text/plain": [
       "(8, 3)"
      ]
     },
     "execution_count": 34,
     "metadata": {},
     "output_type": "execute_result"
    }
   ],
   "source": [
    "df2p_linbeta = pd.read_pickle(pjoin(root, 'df2p_poisson_lin_beta.df'))\n",
    "df2p_linbeta = df2p_linbeta.groupby(by=['beta']).mean(\n",
    "    numeric_only=True).reset_index().drop(columns='seed')\n",
    "df2p_linbeta.shape"
   ]
  },
  {
   "cell_type": "code",
   "execution_count": 35,
   "id": "e336cc6c-de64-48dc-9615-3624034b305b",
   "metadata": {},
   "outputs": [
    {
     "data": {
      "text/plain": [
       "(40, 4)"
      ]
     },
     "execution_count": 35,
     "metadata": {},
     "output_type": "execute_result"
    }
   ],
   "source": [
    "df2p = _get_df2p(dfs)\n",
    "df2p.shape"
   ]
  },
  {
   "cell_type": "markdown",
   "id": "5bcd5847-c572-4ded-9aff-f02359ad353d",
   "metadata": {},
   "source": [
    "### Fig. 3a"
   ]
  },
  {
   "cell_type": "code",
   "execution_count": 36,
   "id": "d588682f-dc80-4baa-8efe-91fc6926af02",
   "metadata": {},
   "outputs": [],
   "source": [
    "hue_order = [\n",
    "    'poisson', 'categorical', 'laplace',\n",
    "    'gaussian', 'gaussian-relu', 'gaussian-exp',\n",
    "]"
   ]
  },
  {
   "cell_type": "code",
   "execution_count": null,
   "id": "ae7a2879-589e-45e0-843a-a1d0b8ea0b06",
   "metadata": {},
   "outputs": [
    {
     "data": {
      "image/png": "[encoded data removed]",
      "text/plain": [
       "<Figure size 800x450 with 1 Axes>"
      ]
     },
     "metadata": {},
     "output_type": "display_data"
    }
   ],
   "source": [
    "fig, ax = scatter_plot_vae_a()\n",
    "# fig.savefig(pjoin(fig_dir, 'rate_dist_vae.pdf'), **kws_fig)"
   ]
  },
  {
   "cell_type": "markdown",
   "id": "0ee48481-171f-4bdf-b2e6-f7839c63b946",
   "metadata": {},
   "source": [
    "### Fig. 3b"
   ]
  },
  {
   "cell_type": "code",
   "execution_count": 38,
   "id": "60975314-94e3-4277-9be3-ee14fa093f92",
   "metadata": {},
   "outputs": [
    {
     "data": {
      "text/plain": [
       "(8, 4)"
      ]
     },
     "execution_count": 38,
     "metadata": {},
     "output_type": "execute_result"
    }
   ],
   "source": [
    "df2p_lcs_inf = pd.read_pickle(pjoin(root, 'df2p_lcs_inf.df'))\n",
    "df2p_lcs_inf = df2p_lcs_inf.loc[df2p_lcs_inf['vae_source'] == 'poisson']\n",
    "df2p_lcs_inf.shape"
   ]
  },
  {
   "cell_type": "code",
   "execution_count": 39,
   "id": "00595512-9187-4f33-aedb-3bdd90225e7e",
   "metadata": {},
   "outputs": [],
   "source": [
    "hue_order = [\n",
    "    'lca', 'ista', 'poisson',\n",
    "]"
   ]
  },
  {
   "cell_type": "code",
   "execution_count": 40,
   "id": "e87010c2-b7a7-4b5d-8e85-63ee710e71c8",
   "metadata": {},
   "outputs": [
    {
     "data": {
      "image/png": "[encoded data removed]",
      "text/plain": [
       "<Figure size 800x450 with 1 Axes>"
      ]
     },
     "metadata": {},
     "output_type": "display_data"
    }
   ],
   "source": [
    "fig, ax = scatter_plot_vae_b()\n",
    "# fig.savefig(pjoin(fig_dir, 'rate_dist_lca.pdf'), **kws_fig)"
   ]
  },
  {
   "cell_type": "code",
   "execution_count": null,
   "id": "f98f3dc1-6ce3-4a8c-bff1-c875e00bf2d7",
   "metadata": {},
   "outputs": [],
   "source": []
  },
  {
   "cell_type": "markdown",
   "id": "e5757537-8dbf-4032-8969-c5d2d6655229",
   "metadata": {},
   "source": [
    "## Figure 5"
   ]
  },
  {
   "cell_type": "code",
   "execution_count": 41,
   "id": "4195fe21-3e16-43b5-b02f-e7c9aa7388f5",
   "metadata": {},
   "outputs": [],
   "source": [
    "# HIDE CODE\n",
    "\n",
    "\n",
    "def detect_dead_neurons(tr):\n",
    "    dead_thres = {\n",
    "        'poisson': 0.0082,\n",
    "        'gaussian': 0.09,\n",
    "        'laplace': 0.08,\n",
    "    }\n",
    "    data, loss, etc = tr.validate()\n",
    "\n",
    "    if tr.model.cfg.type == 'categorical':\n",
    "        thres = None\n",
    "        dead = tr.model.find_dead_neurons(1)\n",
    "    else:\n",
    "        thres = dead_thres.get(tr.model.cfg.type)\n",
    "        dead = loss['kl_diag'] < thres\n",
    "    return data, loss, etc, thres, dead.astype(bool)"
   ]
  },
  {
   "cell_type": "code",
   "execution_count": null,
   "id": "5125fac8-65b4-4f3c-bdee-1aa3e44df358",
   "metadata": {},
   "outputs": [],
   "source": [
    "root = 'Dropbox/git/PoissonVAE'  # base directory for the project (update to match your setup)\n",
    "root = add_home(f\"{root}/checkpoints\")  # contains model checkpoints\n",
    "\n",
    "models2load = {\n",
    "    'gaussian': 'gaussian-<lin|lin>-DOVES-mc_mach-5_(2024_05_14,04:09)',\n",
    "    'poisson': 'poisson-<lin|lin>-DOVES-mc_mach-5_(2024_05_14,04:46)',\n",
    "    'laplace': 'laplace-<lin|lin>-DOVES-mc_mach-5_(2024_05_14,04:12)',\n",
    "    'categorical': 'categorical-<lin|lin>-DOVES-mc_mach-5_(2024_05_14,04:04)',\n",
    "}\n",
    "models2load = {k: v.replace('/', ':') for k, v in models2load.items()}"
   ]
  },
  {
   "cell_type": "code",
   "execution_count": 43,
   "id": "b7d49487-18b3-4dc0-aab6-63a144ae512a",
   "metadata": {},
   "outputs": [
    {
     "data": {
      "text/html": [
       "<pre style=\"white-space:pre;overflow-x:auto;line-height:normal;font-family:Menlo,'DejaVu Sans Mono',consolas,'Courier New',monospace\">\n",
       "# params: <span style=\"color: #008080; text-decoration-color: #008080; font-weight: bold\">394.2</span> K\n",
       "</pre>\n"
      ],
      "text/plain": [
       "\n",
       "# params: \u001b[1;36m394.2\u001b[0m K\n"
      ]
     },
     "metadata": {},
     "output_type": "display_data"
    },
    {
     "data": {
      "text/html": [
       "<pre style=\"white-space:pre;overflow-x:auto;line-height:normal;font-family:Menlo,'DejaVu Sans Mono',consolas,'Courier New',monospace\">\n",
       "# params: <span style=\"color: #008080; text-decoration-color: #008080; font-weight: bold\">262.7</span> K\n",
       "</pre>\n"
      ],
      "text/plain": [
       "\n",
       "# params: \u001b[1;36m262.7\u001b[0m K\n"
      ]
     },
     "metadata": {},
     "output_type": "display_data"
    },
    {
     "data": {
      "text/html": [
       "<pre style=\"white-space:pre;overflow-x:auto;line-height:normal;font-family:Menlo,'DejaVu Sans Mono',consolas,'Courier New',monospace\">\n",
       "# params: <span style=\"color: #008080; text-decoration-color: #008080; font-weight: bold\">394.2</span> K\n",
       "</pre>\n"
      ],
      "text/plain": [
       "\n",
       "# params: \u001b[1;36m394.2\u001b[0m K\n"
      ]
     },
     "metadata": {},
     "output_type": "display_data"
    },
    {
     "data": {
      "text/html": [
       "<pre style=\"white-space:pre;overflow-x:auto;line-height:normal;font-family:Menlo,'DejaVu Sans Mono',consolas,'Courier New',monospace\">\n",
       "# params: <span style=\"color: #008080; text-decoration-color: #008080; font-weight: bold\">262.7</span> K\n",
       "</pre>\n"
      ],
      "text/plain": [
       "\n",
       "# params: \u001b[1;36m262.7\u001b[0m K\n"
      ]
     },
     "metadata": {},
     "output_type": "display_data"
    }
   ],
   "source": [
    "trainers = {}\n",
    "for name, load_path in models2load.items():\n",
    "    try:\n",
    "        trainers[name], _ = load_quick(\n",
    "            pjoin(root, load_path),\n",
    "            lite=True,\n",
    "            device=device,\n",
    "            verbose=True,\n",
    "        )\n",
    "    except FileNotFoundError:\n",
    "        continue"
   ]
  },
  {
   "cell_type": "code",
   "execution_count": 44,
   "id": "0b652bac-9d1b-4df4-bc47-223a36217700",
   "metadata": {},
   "outputs": [],
   "source": [
    "bins = {\n",
    "    'poisson': np.linspace(0, 111 / 1000, 112),\n",
    "    'gaussian': np.linspace(0, 80 / 100, 81),\n",
    "    'laplace': np.linspace(0, 80 / 100, 81),\n",
    "}\n",
    "pal = get_palette()[0]"
   ]
  },
  {
   "cell_type": "code",
   "execution_count": 45,
   "id": "6020d961-0a05-437a-bae0-7caf3276c40e",
   "metadata": {},
   "outputs": [
    {
     "data": {
      "image/png": "[encoded data removed]",
      "text/plain": [
       "<Figure size 1000x500 with 4 Axes>"
      ]
     },
     "metadata": {},
     "output_type": "display_data"
    }
   ],
   "source": [
    "fig, axes = create_figure(2, 2, (10, 5), sharey='all')\n",
    "\n",
    "for idx, (name, tr) in enumerate(trainers.items()):\n",
    "    color = pal[name]\n",
    "    data, loss, etc, thres, dead = detect_dead_neurons(tr)\n",
    "    ax = axes.flat[idx]\n",
    "    if name == 'categorical':\n",
    "        norms = tonp(torch.linalg.vector_norm(\n",
    "        tr.model.fc_dec.weight.data, dim=0))\n",
    "        thres = 4.435\n",
    "        dead = norms < thres\n",
    "\n",
    "        sns.histplot(norms[dead], bins=np.linspace(4.2, 7.1, 101), color='k', label='dead', element='step', ax=ax)\n",
    "        sns.histplot(norms[~dead], bins=np.linspace(4.2, 7.1, 101), color=color, label='alive', element='step', ax=ax)\n",
    "\n",
    "    else:\n",
    "        sns.histplot(loss['kl_diag'][dead], bins=bins[name], color='k', label='dead', element='step', ax=ax)\n",
    "        sns.histplot(loss['kl_diag'][~dead], bins=bins[name], color=color, label='alive', element='step', ax=ax)\n",
    "\n",
    "    ax.axvline(thres, color='k', ls='--', lw=1.2)\n",
    "\n",
    "    ax.locator_params(axis='x', nbins=11)\n",
    "    ax.set_title(f\"{name.capitalize()} (# dead neurons: {dead.sum()})\")\n",
    "    ax.set_yscale('log')\n",
    "axes[0, 1].set(ylabel='')\n",
    "axes[1, 1].set(ylabel='')\n",
    "add_legend(axes)\n",
    "plt.show()"
   ]
  },
  {
   "cell_type": "code",
   "execution_count": 46,
   "id": "65b52b69-b9ff-4020-be6c-f0bb45ec6e36",
   "metadata": {},
   "outputs": [],
   "source": [
    "# fig.savefig(pjoin(fig_dir, 'dead_kl_gap.pdf'), **kws_fig)"
   ]
  },
  {
   "cell_type": "code",
   "execution_count": null,
   "id": "98fd45a7-8bd3-48e8-8490-2659a187ea50",
   "metadata": {},
   "outputs": [],
   "source": []
  },
  {
   "cell_type": "code",
   "execution_count": null,
   "id": "1d2a1944-f56d-4884-a45c-eb73ceb66e29",
   "metadata": {},
   "outputs": [],
   "source": []
  },
  {
   "cell_type": "code",
   "execution_count": null,
   "id": "a44e7279-0f20-41fe-80f9-2d4c873d3e9d",
   "metadata": {},
   "outputs": [],
   "source": []
  }
 ],
 "metadata": {
  "kernelspec": {
   "display_name": "Python 3 (ipykernel)",
   "language": "python",
   "name": "python3"
  },
  "language_info": {
   "codemirror_mode": {
    "name": "ipython",
    "version": 3
   },
   "file_extension": ".py",
   "mimetype": "text/x-python",
   "name": "python",
   "nbconvert_exporter": "python",
   "pygments_lexer": "ipython3",
   "version": "3.11.8"
  }
 },
 "nbformat": 4,
 "nbformat_minor": 5
}
